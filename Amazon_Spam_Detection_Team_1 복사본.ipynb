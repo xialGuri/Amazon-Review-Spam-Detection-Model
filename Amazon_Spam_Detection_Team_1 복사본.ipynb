{
  "cells": [
    {
      "cell_type": "markdown",
      "metadata": {
        "jp-MarkdownHeadingCollapsed": true,
        "id": "B-dx5efyTKFi"
      },
      "source": [
        "# **Introduction & Motivation**"
      ]
    },
    {
      "cell_type": "markdown",
      "metadata": {
        "id": "t_qwEQUtTKFk"
      },
      "source": [
        "This project aims to develop a machine learning model that accurately classifies product reviews as spam or not spam, addressing a critical challenge in e-commerce. Spam reviews significantly harm consumer trust and the credibility of online platforms. By leveraging a rich dataset of Amazon product reviews, including numerical, categorical, and textual features, the project will focus on data preprocessing, feature engineering, and model training to create a reliable spam detection system. The ultimate goal is to enhance the authenticity of reviews, improve user experience, and support businesses in maintaining a trustworthy reputation.\n"
      ]
    },
    {
      "cell_type": "code",
      "execution_count": null,
      "metadata": {
        "id": "DdR2n5FdTKFk",
        "outputId": "b7ec064a-c088-4b0d-ca5d-0567fdb7b04f"
      },
      "outputs": [
        {
          "name": "stderr",
          "output_type": "stream",
          "text": [
            "[nltk_data] Downloading package punkt to\n",
            "[nltk_data]     /Users/divyamrana/nltk_data...\n",
            "[nltk_data]   Package punkt is already up-to-date!\n",
            "[nltk_data] Downloading package averaged_perceptron_tagger to\n",
            "[nltk_data]     /Users/divyamrana/nltk_data...\n",
            "[nltk_data]   Package averaged_perceptron_tagger is already up-to-\n",
            "[nltk_data]       date!\n",
            "[nltk_data] Downloading package vader_lexicon to\n",
            "[nltk_data]     /Users/divyamrana/nltk_data...\n",
            "[nltk_data]   Package vader_lexicon is already up-to-date!\n",
            "[nltk_data] Downloading package wordnet to\n",
            "[nltk_data]     /Users/divyamrana/nltk_data...\n",
            "[nltk_data]   Package wordnet is already up-to-date!\n",
            "[nltk_data] Downloading package stopwords to\n",
            "[nltk_data]     /Users/divyamrana/nltk_data...\n",
            "[nltk_data]   Package stopwords is already up-to-date!\n",
            "[nltk_data] Downloading package omw-1.4 to\n",
            "[nltk_data]     /Users/divyamrana/nltk_data...\n",
            "[nltk_data]   Package omw-1.4 is already up-to-date!\n"
          ]
        },
        {
          "data": {
            "text/plain": [
              "True"
            ]
          },
          "execution_count": 1,
          "metadata": {},
          "output_type": "execute_result"
        }
      ],
      "source": [
        "# General imports\n",
        "import pandas as pd\n",
        "import numpy as np\n",
        "import math\n",
        "import regex as re\n",
        "import string\n",
        "import warnings\n",
        "import matplotlib.pyplot as plt\n",
        "import seaborn as sns\n",
        "from tqdm import tqdm\n",
        "from collections import defaultdict\n",
        "\n",
        "# NLTK imports\n",
        "import nltk\n",
        "from nltk.tokenize import sent_tokenize, word_tokenize\n",
        "from nltk.corpus import stopwords, wordnet\n",
        "from nltk.stem import PorterStemmer, WordNetLemmatizer\n",
        "from nltk import pos_tag\n",
        "from nltk.sentiment.vader import SentimentIntensityAnalyzer\n",
        "import textstat\n",
        "\n",
        "# Sklearn imports\n",
        "from sklearn.experimental import enable_halving_search_cv\n",
        "from sklearn.model_selection import train_test_split, HalvingGridSearchCV\n",
        "from sklearn.preprocessing import StandardScaler, OneHotEncoder\n",
        "from sklearn.compose import ColumnTransformer\n",
        "from sklearn.pipeline import Pipeline\n",
        "from sklearn.linear_model import LogisticRegression\n",
        "from sklearn.preprocessing import FunctionTransformer\n",
        "from sklearn.svm import SVC\n",
        "from sklearn.ensemble import RandomForestClassifier, StackingClassifier\n",
        "from sklearn.feature_extraction.text import TfidfVectorizer, CountVectorizer\n",
        "from sklearn.metrics import (\n",
        "    accuracy_score,\n",
        "    confusion_matrix,\n",
        "    classification_report,\n",
        ")\n",
        "from sklearn.metrics.pairwise import cosine_similarity\n",
        "from sklearn.utils import resample\n",
        "from sklearn.base import BaseEstimator, TransformerMixin\n",
        "from sklearn.preprocessing import MinMaxScaler, OneHotEncoder\n",
        "from sklearn.linear_model import SGDClassifier\n",
        "from sklearn.model_selection import GridSearchCV, RandomizedSearchCV\n",
        "from sklearn.ensemble import VotingClassifier\n",
        "from sklearn.metrics import accuracy_score, classification_report, confusion_matrix, ConfusionMatrixDisplay\n",
        "from sklearn.metrics import roc_curve, auc\n",
        "import matplotlib.pyplot as plt\n",
        "from mlxtend.classifier import EnsembleVoteClassifier\n",
        "import copy\n",
        "\n",
        "\n",
        "\n",
        "# Gensim and Word2Vec imports\n",
        "from gensim.models import Word2Vec, KeyedVectors\n",
        "import gensim.downloader as api\n",
        "import word2vec as wv\n",
        "\n",
        "# Sentence Transformers\n",
        "from sentence_transformers import SentenceTransformer\n",
        "\n",
        "# Scipy imports\n",
        "from scipy.sparse import hstack\n",
        "\n",
        "# Pickle for saving/loading models\n",
        "import pickle\n",
        "\n",
        "import os\n",
        "os.environ[\"TOKENIZERS_PARALLELISM\"] = \"false\"\n",
        "\n",
        "\n",
        "# Warnings\n",
        "warnings.filterwarnings('default')\n",
        "vader = SentimentIntensityAnalyzer()\n",
        "\n",
        "# Download NLTK resources\n",
        "nltk.download('punkt')\n",
        "nltk.download('averaged_perceptron_tagger')\n",
        "nltk.download('vader_lexicon')\n",
        "nltk.download('wordnet')\n",
        "nltk.download('stopwords')\n",
        "nltk.download('omw-1.4')\n",
        "\n"
      ]
    },
    {
      "cell_type": "markdown",
      "metadata": {
        "jp-MarkdownHeadingCollapsed": true,
        "id": "spVZSFPfTKFm"
      },
      "source": [
        "# **Loading and Initial Data Preprocessing**"
      ]
    },
    {
      "cell_type": "markdown",
      "metadata": {
        "id": "6Mg7admjTKFm"
      },
      "source": [
        "### Reading the dataframe"
      ]
    },
    {
      "cell_type": "code",
      "execution_count": null,
      "metadata": {
        "id": "dVxuJQXWTKFm"
      },
      "outputs": [],
      "source": [
        "#Initial Dataset\n",
        "datum = pd.read_json('Clothing_Shoes_and_Jewelry.json', lines = True)"
      ]
    },
    {
      "cell_type": "code",
      "execution_count": null,
      "metadata": {
        "id": "caKwi348TKFn",
        "outputId": "3d800028-3bcb-450a-857a-60b88a22a1fb"
      },
      "outputs": [
        {
          "data": {
            "image/png": "[encoded data removed]",
            "text/plain": [
              "<Figure size 1200x1200 with 4 Axes>"
            ]
          },
          "metadata": {},
          "output_type": "display_data"
        }
      ],
      "source": [
        "selected_columns = ['overall', 'class']\n",
        "df_filtered = datum[selected_columns]\n",
        "\n",
        "fig, axes = plt.subplots(2, 2, figsize=(12, 12))\n",
        "\n",
        "sns.scatterplot(ax=axes[0, 0], data=datum, x='overall', y='overall', hue='class')\n",
        "sns.scatterplot(ax=axes[0, 1], data=datum, x='overall', y='class', hue='class')\n",
        "sns.scatterplot(ax=axes[1, 0], data=datum, x='class', y='overall', hue='class')\n",
        "sns.scatterplot(ax=axes[1, 1], data=datum, x='class', y='class', hue='class')\n",
        "\n",
        "plt.tight_layout()\n",
        "plt.show()"
      ]
    },
    {
      "cell_type": "markdown",
      "metadata": {
        "id": "V0gi8newTKFn"
      },
      "source": [
        "1. **Subplots Explanation**:\n",
        "   - **Top Left (axes[0, 0]):**\n",
        "     - X-axis: `'overall'`\n",
        "     - Y-axis: `'overall'`\n",
        "     - This plot shows points where both axes are the same (`'overall'`), forming a diagonal pattern as expected. The hue (`'class'`) highlights how the two classes are distributed along this diagonal.\n",
        "\n",
        "   - **Top Right (axes[0, 1]):**\n",
        "     - X-axis: `'overall'`\n",
        "     - Y-axis: `'class'`\n",
        "     - This plot shows how the `'overall'` scores are distributed across the two classes.\n",
        "     - It reveals whether one class tends to have higher or lower `'overall'` scores.\n",
        "\n",
        "   - **Bottom Left (axes[1, 0]):**\n",
        "     - X-axis: `'class'`\n",
        "     - Y-axis: `'overall'`\n",
        "     - Similar to the top-right plot but flipped, showing how the `'overall'` values vary for each class category (`0` or `1`).\n",
        "\n",
        "   - **Bottom Right (axes[1, 1]):**\n",
        "     - X-axis: `'class'`\n",
        "     - Y-axis: `'class'`\n",
        "     - This plot shows points where both axes are `'class'`, resulting in two distinct points for class `0` and class `1`.\n",
        "\n",
        "2. **General Observations**:\n",
        "   - The `hue='class'` ensures the data points are color-coded based on their class, making it easier to visually distinguish between the two groups (`0` and `1`).\n",
        "   - The top-right and bottom-left plots provide insight into how the two variables (`'overall'` and `'class'`) relate to each other and whether any trends or separations exist between the classes.\n",
        "\n",
        "3. **Insights from the Plots**:\n",
        "   - The **diagonal pattern** in the top-left plot confirms that `'overall'` values align with themselves as expected.\n",
        "   - In the **top-right plot**, if one class is consistently higher or lower on `'overall'`, it suggests class separation based on this feature.\n",
        "   - The **bottom-left plot** complements this by showing the reverse relationship, helping to cross-check the distribution.\n",
        "   - The **bottom-right plot** simply visualizes the binary nature of the `'class'` variable.\n",
        "\n",
        "4. **Conclusion**:\n",
        "   - These scatter plots are useful for understanding the relationship between `'overall'` and `'class'` as well as how the two classes are distributed in the dataset.\n",
        "   - Further statistical or modeling work might explore whether `'overall'` can effectively distinguish between the two classes (`0` and `1`).\n"
      ]
    },
    {
      "cell_type": "code",
      "execution_count": null,
      "metadata": {
        "id": "ystrRLQLTKFn"
      },
      "outputs": [],
      "source": [
        "#drop columns - category, overall\n",
        "# Dropping overall as it is a direct predictor of the variable - class (spam / non-spam)\n",
        "data_first_cleanup = datum.drop(columns=['category', 'overall', 'unixReviewTime', 'reviewTime', 'summary', 'reviewerID', '_id'])"
      ]
    },
    {
      "cell_type": "markdown",
      "metadata": {
        "id": "3bUa6Bv8TKFn"
      },
      "source": [
        "## Shortening the dataframe"
      ]
    },
    {
      "cell_type": "code",
      "execution_count": null,
      "metadata": {
        "id": "j3apNe3qTKFn"
      },
      "outputs": [],
      "source": [
        "# Shortening Dataset\n",
        "num_reviews = (data_first_cleanup['asin'].value_counts()).sort_values(ascending=False)\n",
        "pids = set(num_reviews[:5000].index)\n",
        "df = data_first_cleanup[data_first_cleanup['asin'].isin(pids)]\n",
        "#df.to_parquet('final_usage.parquet', compression='snappy')"
      ]
    },
    {
      "cell_type": "code",
      "execution_count": null,
      "metadata": {
        "id": "M1kbwkt-TKFo",
        "outputId": "1acf0e48-d8cd-47f9-bbdd-509b510e475c"
      },
      "outputs": [
        {
          "name": "stderr",
          "output_type": "stream",
          "text": [
            "/var/folders/nm/pb4pcvl954j110mq4qv7wj080000gn/T/ipykernel_93018/3965866888.py:2: SettingWithCopyWarning: \n",
            "A value is trying to be set on a copy of a slice from a DataFrame.\n",
            "Try using .loc[row_indexer,col_indexer] = value instead\n",
            "\n",
            "See the caveats in the documentation: https://pandas.pydata.org/pandas-docs/stable/user_guide/indexing.html#returning-a-view-versus-a-copy\n",
            "  df['spam_not_spam'] = df['class']\n",
            "/var/folders/nm/pb4pcvl954j110mq4qv7wj080000gn/T/ipykernel_93018/3965866888.py:3: SettingWithCopyWarning: \n",
            "A value is trying to be set on a copy of a slice from a DataFrame\n",
            "\n",
            "See the caveats in the documentation: https://pandas.pydata.org/pandas-docs/stable/user_guide/indexing.html#returning-a-view-versus-a-copy\n",
            "  df.drop(columns = 'class', inplace=True)\n"
          ]
        }
      ],
      "source": [
        "#df = pd.read_parquet('final_usage.parquet')\n",
        "df['spam_not_spam'] = df['class']\n",
        "df.drop(columns = 'class', inplace=True)"
      ]
    },
    {
      "cell_type": "markdown",
      "metadata": {
        "id": "s9r0xVACTKFo"
      },
      "source": [
        "Checking for missing values and data types."
      ]
    },
    {
      "cell_type": "code",
      "execution_count": null,
      "metadata": {
        "id": "zuBIpVo5TKFo",
        "outputId": "7f862326-c106-4660-df47-31edf81d4117"
      },
      "outputs": [
        {
          "name": "stderr",
          "output_type": "stream",
          "text": [
            "/Library/Frameworks/Python.framework/Versions/3.10/lib/python3.10/site-packages/seaborn/_oldcore.py:1498: DeprecationWarning: is_categorical_dtype is deprecated and will be removed in a future version. Use isinstance(dtype, pd.CategoricalDtype) instead\n",
            "  if pd.api.types.is_categorical_dtype(vector):\n",
            "/Library/Frameworks/Python.framework/Versions/3.10/lib/python3.10/site-packages/seaborn/_oldcore.py:1498: DeprecationWarning: is_categorical_dtype is deprecated and will be removed in a future version. Use isinstance(dtype, pd.CategoricalDtype) instead\n",
            "  if pd.api.types.is_categorical_dtype(vector):\n",
            "/Library/Frameworks/Python.framework/Versions/3.10/lib/python3.10/site-packages/seaborn/_oldcore.py:1498: DeprecationWarning: is_categorical_dtype is deprecated and will be removed in a future version. Use isinstance(dtype, pd.CategoricalDtype) instead\n",
            "  if pd.api.types.is_categorical_dtype(vector):\n"
          ]
        },
        {
          "data": {
            "image/png": "[encoded data removed]",
            "text/plain": [
              "<Figure size 640x480 with 1 Axes>"
            ]
          },
          "metadata": {},
          "output_type": "display_data"
        }
      ],
      "source": [
        "missing_values = df.isna().sum().sort_values(ascending=False)\n",
        "\n",
        "# Plot the heatmap of missing values\n",
        "sns.barplot(x = missing_values.values, y = missing_values.index)\n",
        "plt.title(\"Heatmap of Missing Values\")\n",
        "plt.xlabel(\"Rows\")\n",
        "plt.ylabel(\"Columns\")\n",
        "plt.show()\n"
      ]
    },
    {
      "cell_type": "code",
      "execution_count": null,
      "metadata": {
        "id": "w_bzg8q4TKFo"
      },
      "outputs": [],
      "source": [
        "#Dropping null values\n",
        "df = df.dropna()"
      ]
    },
    {
      "cell_type": "markdown",
      "metadata": {
        "id": "ieyDs84uTKFo"
      },
      "source": [
        "**Result Interpretation**:\n",
        "- **`reviewerName`**: Contains over 3000 missing values, suggesting that further preprocessing (e.g., imputation or removal) is needed for this column.\n",
        "- Other columns (`asin`, `helpful`, `reviewText`, `class`) have few or no missing values.\n",
        "- These insights help inform strategies for handling missing data and improving dataset quality."
      ]
    },
    {
      "cell_type": "markdown",
      "metadata": {
        "id": "xzEG_NUETKFo"
      },
      "source": [
        "## Downsampling"
      ]
    },
    {
      "cell_type": "code",
      "execution_count": null,
      "metadata": {
        "id": "hFanWKGATKFo"
      },
      "outputs": [],
      "source": [
        "# Downsampling\n",
        "# Separate majority and minority classes\n",
        "df_majority = df[df['spam_not_spam'] == 1]\n",
        "df_minority = df[df['spam_not_spam'] == 0]\n",
        "\n",
        "# Downsample majority class\n",
        "df_majority_downsampled = resample(df_majority,\n",
        "                                 replace=False,\n",
        "                                 n_samples=len(df_minority),\n",
        "                                 random_state=42)\n",
        "df = pd.concat([df_majority_downsampled, df_minority])\n"
      ]
    },
    {
      "cell_type": "code",
      "execution_count": null,
      "metadata": {
        "scrolled": true,
        "id": "FmyKA3EcTKFo",
        "outputId": "e3c8cdd2-ef43-4135-dcc5-d0169bf157a9"
      },
      "outputs": [
        {
          "data": {
            "text/html": [
              "<div>\n",
              "<style scoped>\n",
              "    .dataframe tbody tr th:only-of-type {\n",
              "        vertical-align: middle;\n",
              "    }\n",
              "\n",
              "    .dataframe tbody tr th {\n",
              "        vertical-align: top;\n",
              "    }\n",
              "\n",
              "    .dataframe thead th {\n",
              "        text-align: right;\n",
              "    }\n",
              "</style>\n",
              "<table border=\"1\" class=\"dataframe\">\n",
              "  <thead>\n",
              "    <tr style=\"text-align: right;\">\n",
              "      <th></th>\n",
              "      <th>asin</th>\n",
              "      <th>reviewerName</th>\n",
              "      <th>helpful</th>\n",
              "      <th>reviewText</th>\n",
              "      <th>spam_not_spam</th>\n",
              "    </tr>\n",
              "  </thead>\n",
              "  <tbody>\n",
              "    <tr>\n",
              "      <th>0</th>\n",
              "      <td>B001U2T3HI</td>\n",
              "      <td>ohalice</td>\n",
              "      <td>[0, 0]</td>\n",
              "      <td>Exactly as described and came very quickly. It...</td>\n",
              "      <td>1</td>\n",
              "    </tr>\n",
              "    <tr>\n",
              "      <th>1</th>\n",
              "      <td>B00550PLV8</td>\n",
              "      <td>JenAT</td>\n",
              "      <td>[0, 0]</td>\n",
              "      <td>This is a great bra. It's so comfortable, you'...</td>\n",
              "      <td>1</td>\n",
              "    </tr>\n",
              "    <tr>\n",
              "      <th>2</th>\n",
              "      <td>B0015TYXQW</td>\n",
              "      <td>Zombie slayer.</td>\n",
              "      <td>[0, 0]</td>\n",
              "      <td>Very comfortable shoe.  Easy to slip on quickl...</td>\n",
              "      <td>1</td>\n",
              "    </tr>\n",
              "    <tr>\n",
              "      <th>3</th>\n",
              "      <td>B000067R84</td>\n",
              "      <td>Karrie Y. Piletic</td>\n",
              "      <td>[4, 4]</td>\n",
              "      <td>My 3 year old loves this little backpack. She ...</td>\n",
              "      <td>1</td>\n",
              "    </tr>\n",
              "    <tr>\n",
              "      <th>4</th>\n",
              "      <td>B008H2ET0U</td>\n",
              "      <td>Anne Snyder</td>\n",
              "      <td>[0, 0]</td>\n",
              "      <td>I bought several packages for our Angel Tree a...</td>\n",
              "      <td>1</td>\n",
              "    </tr>\n",
              "    <tr>\n",
              "      <th>...</th>\n",
              "      <td>...</td>\n",
              "      <td>...</td>\n",
              "      <td>...</td>\n",
              "      <td>...</td>\n",
              "      <td>...</td>\n",
              "    </tr>\n",
              "    <tr>\n",
              "      <th>451523</th>\n",
              "      <td>B00JHZSVYG</td>\n",
              "      <td>Ronnee Legington</td>\n",
              "      <td>[0, 0]</td>\n",
              "      <td>I was so excited to receive this item but quic...</td>\n",
              "      <td>0</td>\n",
              "    </tr>\n",
              "    <tr>\n",
              "      <th>451524</th>\n",
              "      <td>B00JHZSVYG</td>\n",
              "      <td>Sonia</td>\n",
              "      <td>[0, 0]</td>\n",
              "      <td>I received the bathing suit but there is a def...</td>\n",
              "      <td>0</td>\n",
              "    </tr>\n",
              "    <tr>\n",
              "      <th>451525</th>\n",
              "      <td>B00JHZSVYG</td>\n",
              "      <td>The rose center</td>\n",
              "      <td>[1, 2]</td>\n",
              "      <td>The top ties around the neck and back so it is...</td>\n",
              "      <td>0</td>\n",
              "    </tr>\n",
              "    <tr>\n",
              "      <th>451526</th>\n",
              "      <td>B00JHZSVYG</td>\n",
              "      <td>Timah</td>\n",
              "      <td>[0, 1]</td>\n",
              "      <td>I wish there were zero stars. This product is ...</td>\n",
              "      <td>0</td>\n",
              "    </tr>\n",
              "    <tr>\n",
              "      <th>451527</th>\n",
              "      <td>B00JHZSVYG</td>\n",
              "      <td>T. Stewart \"TSS\"</td>\n",
              "      <td>[2, 3]</td>\n",
              "      <td>Bust is barely covered. If you have larger tha...</td>\n",
              "      <td>0</td>\n",
              "    </tr>\n",
              "  </tbody>\n",
              "</table>\n",
              "<p>451528 rows × 5 columns</p>\n",
              "</div>"
            ],
            "text/plain": [
              "              asin       reviewerName helpful  \\\n",
              "0       B001U2T3HI            ohalice  [0, 0]   \n",
              "1       B00550PLV8              JenAT  [0, 0]   \n",
              "2       B0015TYXQW     Zombie slayer.  [0, 0]   \n",
              "3       B000067R84  Karrie Y. Piletic  [4, 4]   \n",
              "4       B008H2ET0U        Anne Snyder  [0, 0]   \n",
              "...            ...                ...     ...   \n",
              "451523  B00JHZSVYG   Ronnee Legington  [0, 0]   \n",
              "451524  B00JHZSVYG              Sonia  [0, 0]   \n",
              "451525  B00JHZSVYG    The rose center  [1, 2]   \n",
              "451526  B00JHZSVYG              Timah  [0, 1]   \n",
              "451527  B00JHZSVYG   T. Stewart \"TSS\"  [2, 3]   \n",
              "\n",
              "                                               reviewText  spam_not_spam  \n",
              "0       Exactly as described and came very quickly. It...              1  \n",
              "1       This is a great bra. It's so comfortable, you'...              1  \n",
              "2       Very comfortable shoe.  Easy to slip on quickl...              1  \n",
              "3       My 3 year old loves this little backpack. She ...              1  \n",
              "4       I bought several packages for our Angel Tree a...              1  \n",
              "...                                                   ...            ...  \n",
              "451523  I was so excited to receive this item but quic...              0  \n",
              "451524  I received the bathing suit but there is a def...              0  \n",
              "451525  The top ties around the neck and back so it is...              0  \n",
              "451526  I wish there were zero stars. This product is ...              0  \n",
              "451527  Bust is barely covered. If you have larger tha...              0  \n",
              "\n",
              "[451528 rows x 5 columns]"
            ]
          },
          "execution_count": 9,
          "metadata": {},
          "output_type": "execute_result"
        }
      ],
      "source": [
        "df = df.reset_index(drop = True)\n",
        "df"
      ]
    },
    {
      "cell_type": "markdown",
      "metadata": {
        "id": "ftRVX37aTKFo"
      },
      "source": [
        "This code addresses the **class imbalance** problem by downsampling the majority class (`class == 1`) to match the size of the minority class (`class == 0`).\n",
        "\n",
        "1. **Separating Majority and Minority Classes**:\n",
        "   - `df_majority`: Contains majority class data with `class == 1`.\n",
        "   - `df_minority`: Contains minority class data with `class == 0`.\n",
        "\n",
        "2. **Downsampling the Majority Class**:\n",
        "   - The `resample` function is used to reduce the size of the majority class to match the minority class.\n",
        "   - `replace=False`: Ensures no duplicate samples are selected.\n",
        "   - `n_samples=len(df_minority)`: Matches the number of samples in the minority class.\n",
        "   - `random_state=42`: Ensures reproducibility of results.\n",
        "\n",
        "3. **Combining the Data**:\n",
        "   - The downsampled majority class and the minority class are combined to create a new, balanced dataset.\n",
        "\n",
        "**Result**:\n",
        "This code ensures that the sample sizes of both classes are balanced, mitigating the class imbalance issue during model training. This leads to a more fair learning process and improves the model's predictive performance for the minority class."
      ]
    },
    {
      "cell_type": "code",
      "execution_count": null,
      "metadata": {
        "id": "L-eLNXYaTKFp"
      },
      "outputs": [],
      "source": [
        "relative_frequencies = df['spam_not_spam'].value_counts() / df.shape[0]"
      ]
    },
    {
      "cell_type": "code",
      "execution_count": null,
      "metadata": {
        "id": "WrKAPJUETKFp",
        "outputId": "9ab601f8-e629-4d05-bb85-165e1160392f"
      },
      "outputs": [
        {
          "data": {
            "image/png": "[encoded data removed]",
            "text/plain": [
              "<Figure size 800x800 with 1 Axes>"
            ]
          },
          "metadata": {},
          "output_type": "display_data"
        }
      ],
      "source": [
        "plt.figure(figsize=(8, 8))\n",
        "relative_frequencies.plot.pie(\n",
        "    autopct='%1.1f%%',\n",
        "    startangle=90,\n",
        "    labels=relative_frequencies.index,\n",
        "    explode=[0.1 if i == relative_frequencies.idxmax() else 0 for i in relative_frequencies.index],\n",
        "    shadow=True\n",
        ")\n",
        "plt.title(\"Distribution of Spam and Not Spam\")\n",
        "plt.show()"
      ]
    },
    {
      "cell_type": "markdown",
      "metadata": {
        "id": "Mm1rYA_7TKFp"
      },
      "source": [
        "The pie chart visualizes the relative frequency distribution of the `spam_not_spam` column in the dataset, representing two classes: spam and not spam.\n",
        "\n",
        "- The blue section represents spam (`1`), while the orange section represents not spam (`0`).\n",
        "- The data is **evenly distributed** with exactly **50.0%** for each class.\n",
        "- This chart highlights that the dataset is balanced, making it suitable for analysis or machine learning tasks involving classification."
      ]
    },
    {
      "cell_type": "markdown",
      "metadata": {
        "jp-MarkdownHeadingCollapsed": true,
        "id": "Nx0BvwW0TKFp"
      },
      "source": [
        "# **Text Data Preprocessing and Feature Engineering**"
      ]
    },
    {
      "cell_type": "markdown",
      "metadata": {
        "jp-MarkdownHeadingCollapsed": true,
        "id": "rdwHRKWGTKFp"
      },
      "source": [
        "## Creating Embedding Matrix for Faster Processing"
      ]
    },
    {
      "cell_type": "code",
      "execution_count": null,
      "metadata": {
        "id": "fDV__OmKTKFp",
        "outputId": "406157f3-e165-4710-a005-52eb6c4986cb"
      },
      "outputs": [
        {
          "name": "stderr",
          "output_type": "stream",
          "text": [
            "100%|██████████| 4998/4998 [37:12<00:00,  2.24it/s]\n"
          ]
        },
        {
          "name": "stdout",
          "output_type": "stream",
          "text": [
            "Reviews matrix saved to 'reviews_matrix.pkl'\n"
          ]
        }
      ],
      "source": [
        "model = SentenceTransformer('all-MiniLM-L6-v2')\n",
        "reviews_matrix = defaultdict(list)\n",
        "df_emb_1 = df[df['spam_not_spam'] == 1]\n",
        "grouped = df_emb_1.groupby('asin')\n",
        "\n",
        "# Process each group\n",
        "for asin, group in tqdm(grouped):\n",
        "    smaller = group.reset_index()\n",
        "    if smaller.shape[0] > 0:\n",
        "        # Filter for non-empty reviewText and batch encode\n",
        "        review_texts = [x for x in smaller['reviewText'].iloc[:100] if isinstance(x, str) and len(x) > 0]\n",
        "        if review_texts:  # Ensure there are valid texts\n",
        "            embs = model.encode(review_texts, show_progress_bar=False)\n",
        "            # Store the mean of embeddings for this ASIN\n",
        "            reviews_matrix[asin] = np.mean(embs, axis=0)\n",
        "\n",
        "with open('Final File/reviews_matrix.pkl', 'wb') as f:\n",
        "    pickle.dump(reviews_matrix, f)\n",
        "\n",
        "print(\"Reviews matrix saved to 'reviews_matrix.pkl'\")"
      ]
    },
    {
      "cell_type": "markdown",
      "metadata": {
        "id": "YFIo-x9gTKFp"
      },
      "source": [
        "This code generates an **Embedding Matrix** by converting review text into embedding vectors.\n",
        "\n",
        "1. **Initialize SentenceTransformer Model**:\n",
        "   - The `SentenceTransformer('all-MiniLM-L6-v2')` model is used to convert textual data into embedding vectors.\n",
        "\n",
        "2. **Filter Reviews with Class = 1**:\n",
        "   - Filters spam reviews (`class == 1`) and groups the data by `asin` (product ID).\n",
        "\n",
        "3. **Generate Embeddings for Each Group**:\n",
        "   - For each `asin` group:\n",
        "     - Select up to 100 review texts (`iloc[:100]`) and filter out empty texts.\n",
        "     - Use `SentenceTransformer` to encode the review texts into embedding vectors.\n",
        "     - Compute the mean embedding vector for the group and store it.\n",
        "\n",
        "4. **Save Embedding Matrix**:\n",
        "   - Saves the embedding matrix into a `pickle` file (`reviews_matrix.pkl`).\n",
        "   - The saved file can be used for further analysis or model training."
      ]
    },
    {
      "cell_type": "markdown",
      "metadata": {
        "jp-MarkdownHeadingCollapsed": true,
        "id": "rHVj9wHETKFp"
      },
      "source": [
        "## Class Implementation"
      ]
    },
    {
      "cell_type": "markdown",
      "metadata": {
        "id": "KFSZEMGDTKFp"
      },
      "source": [
        "**Reason for Class Implementation**\n",
        "\n",
        "This code modularizes data preprocessing and feature generation tasks into individual classes, providing the following benefits:  \n",
        "\n",
        "- **Reusability**: Can be reused across multiple projects or datasets.  \n",
        "- **Readability**: Each class has a specific role, making the code more understandable.  \n",
        "- **Scalability**: Easy to add or modify functionalities.  \n",
        "- **Integration**: Seamlessly integrates with Scikit-learn's `Pipeline`."
      ]
    },
    {
      "cell_type": "code",
      "execution_count": null,
      "metadata": {
        "id": "A0KU2SdBTKFp"
      },
      "outputs": [],
      "source": [
        "class Cleanup(BaseEstimator, TransformerMixin):\n",
        "\n",
        "    def remove_emojis(self, data):\n",
        "        emoj = re.compile(\"[\"\n",
        "            u\"\\U0001F600-\\U0001F64F\"\n",
        "            u\"\\U0001F300-\\U0001F5FF\"\n",
        "            u\"\\U0001F680-\\U0001F6FF\"\n",
        "            u\"\\U0001F1E0-\\U0001F1FF\"\n",
        "            u\"\\U00002500-\\U00002BEF\"\n",
        "            u\"\\U00002702-\\U000027B0\"\n",
        "            u\"\\U000024C2-\\U0001F251\"\n",
        "            u\"\\U0001f926-\\U0001f937\"\n",
        "            u\"\\U00010000-\\U0010ffff\"\n",
        "            u\"\\u2640-\\u2642\"\n",
        "            u\"\\u2600-\\u2B55\"\n",
        "            u\"\\u200d\"\n",
        "            u\"\\u23cf\"\n",
        "            u\"\\u23e9\"\n",
        "            u\"\\u231a\"\n",
        "            u\"\\ufe0f\"\n",
        "            u\"\\u3030\"\n",
        "                        \"]+\", re.UNICODE)\n",
        "        return re.sub(emoj, '', data)\n",
        "\n",
        "    def text_cleaner_stemmer(self, text):\n",
        "        stop_words = set(stopwords.words('english'))\n",
        "        final_text = ''\n",
        "        stem = PorterStemmer()\n",
        "\n",
        "        #Removing emojis\n",
        "        removed_emojis = self.remove_emojis(text)\n",
        "\n",
        "        #Removing stop words\n",
        "        split_text = list(str.split(removed_emojis))\n",
        "\n",
        "        cleaned_stop_words = []\n",
        "        for word in split_text:\n",
        "            if word.lower() in set(stop_words):\n",
        "                continue\n",
        "            cleaned_stop_words.append(stem.stem(word.lower()))\n",
        "\n",
        "        text_compiled = ' '.join(cleaned_stop_words)\n",
        "\n",
        "        #Remove punctuation and numbers\n",
        "        for char in text_compiled:\n",
        "            if char in set(string.punctuation) or char.isnumeric():\n",
        "                continue\n",
        "            final_text += char\n",
        "\n",
        "        return final_text, list(str.split(final_text))\n",
        "\n",
        "    def fit(self, X, y=None):\n",
        "        return self\n",
        "\n",
        "    def transform(self, X, y = None):\n",
        "        cleaned_text = []\n",
        "        split_words = []\n",
        "        print(\"Adding cleanup\")\n",
        "        for review in tqdm(X['reviewText']):\n",
        "            res1, res2 = self.text_cleaner_stemmer(review)\n",
        "            cleaned_text += [res1]\n",
        "            split_words += [res2]\n",
        "\n",
        "        # Apply the optimized function\n",
        "        X['cleaned_text'] = cleaned_text\n",
        "        X['word_tokens'] = split_words\n",
        "        return X\n",
        "\n",
        "class Similarity(BaseEstimator, TransformerMixin):\n",
        "    def __init__(self):\n",
        "        super().__init__()\n",
        "        self.model = SentenceTransformer('all-MiniLM-L6-v2')\n",
        "\n",
        "    def fit(self, X, y = None):\n",
        "        return self\n",
        "\n",
        "    def transform(self, X, y=None):\n",
        "        print('Adding Similarity Score')\n",
        "        with open('Final File/reviews_matrix.pkl', 'rb') as f:\n",
        "            reviews_matrix = pickle.load(f)\n",
        "        batch_size = 10_000\n",
        "        embeddings = []\n",
        "\n",
        "        # Process text in batches\n",
        "        for i in tqdm(range(0, len(X['cleaned_text']), batch_size)):\n",
        "            batch = X['cleaned_text'][i:i + batch_size].tolist()\n",
        "            batch_embeddings = self.model.encode(batch)\n",
        "            embeddings.extend(batch_embeddings)\n",
        "        similarity = []\n",
        "\n",
        "        for asin, embedding in tqdm(zip(X['asin'], embeddings)):\n",
        "            try:\n",
        "                asin_embedding = np.array(reviews_matrix[asin]).reshape(1, -1)\n",
        "                review_embedding = np.array(embedding).reshape(1, -1)\n",
        "                sim = cosine_similarity(asin_embedding, review_embedding)[0][0]\n",
        "                similarity.append(sim)\n",
        "            except:\n",
        "                similarity.append(0)\n",
        "\n",
        "        X['similarity_'] = np.array(similarity)\n",
        "        return X\n",
        "\n",
        "class POS_tagger(BaseEstimator, TransformerMixin):\n",
        "    def __init__(self):\n",
        "        super().__init__()\n",
        "        self.analyzer = SentimentIntensityAnalyzer()\n",
        "\n",
        "    def fit(self, X, y = None):\n",
        "        return self\n",
        "\n",
        "    def count_features_optimized(self,text):\n",
        "    # Tokenize text\n",
        "        words = word_tokenize(text)\n",
        "\n",
        "        # Part-of-Speech tagging and counts\n",
        "        pos_counts = {\"nouns\": 0, \"adjectives\": 0, \"adverbs\": 0, \"negative_words\": 0}\n",
        "        for word, tag in pos_tag(words):\n",
        "            if tag.startswith('NN'):\n",
        "                pos_counts[\"nouns\"] += 1\n",
        "            elif tag.startswith('JJ'):\n",
        "                pos_counts[\"adjectives\"] += 1\n",
        "            elif tag.startswith('RB'):\n",
        "                pos_counts[\"adverbs\"] += 1\n",
        "\n",
        "            # Check for negative sentiment\n",
        "            if self.analyzer.polarity_scores(word)['neg'] > 0:\n",
        "                pos_counts[\"negative_words\"] += 1\n",
        "\n",
        "        return pos_counts[\"nouns\"], pos_counts[\"adjectives\"], pos_counts[\"adverbs\"], pos_counts[\"negative_words\"]\n",
        "\n",
        "    def transform(self, X, y = None):\n",
        "        nouns, adj, adv, neg_words = [], [], [], []\n",
        "        print(\"Adding POS\")\n",
        "        for review in tqdm(X['reviewText']):\n",
        "            a,b,c,d = self.count_features_optimized(review)\n",
        "            nouns.append(a)\n",
        "            adj.append(b)\n",
        "            adv.append(c)\n",
        "            neg_words.append(d)\n",
        "        X['nouns_'] = nouns\n",
        "        X['adjectives_'] = adj\n",
        "        X['adverbs_'] = adv\n",
        "        X['negative_words_'] = neg_words\n",
        "        return X\n",
        "\n",
        "class Helpfulness(BaseEstimator, TransformerMixin):\n",
        "    def fit(self, X, y = None):\n",
        "        return self\n",
        "\n",
        "    def transform(self, X, y=None):\n",
        "        # Splittitng helpfulness\n",
        "        X['helpful_0'] = np.array([x[0] for x in tqdm(X['helpful'])])\n",
        "        X['helpful_1']= np.array([x[1] for x in tqdm(X['helpful'])])\n",
        "        X.drop(columns = ['helpful'], inplace = True)\n",
        "        return X"
      ]
    },
    {
      "cell_type": "markdown",
      "metadata": {
        "id": "7fDd3BG1TKFq"
      },
      "source": [
        "### 1. Cleanup Class\n",
        "**Explanation**  \n",
        "- `remove_emojis`:  \n",
        "  This method removes emojis and special characters from the text using regular expressions (regex). It detects a wide range of emojis, such as emoticons, symbols, flags, and more, and eliminates them to make the text cleaner and more suitable for analysis.  \n",
        "- `text_cleaner_stemmer`:  \n",
        "  1. Removes emojis from the text and converts all words to lowercase.  \n",
        "  2. Removes unimportant words based on NLTK's stopword list.  \n",
        "  3. Uses Porter Stemmer to extract word stems (e.g., \"running\" → \"run\"), ensuring consistent representation of words.  \n",
        "  4. Removes punctuation and numbers from the text, returning the cleaned text and a list of tokens.\n",
        "\n",
        "**Reason**\n",
        "By modularizing text cleaning, the data preprocessing process becomes simpler and more reusable. This ensures consistent text processing across the pipeline.\n",
        "\n",
        "### 2. Similarity Class\n",
        "**Explanation**  \n",
        "- This class generates semantic embeddings for review text and compares them with product embeddings to calculate similarity.  \n",
        "  1. Uses the `SentenceTransformer` model (`all-MiniLM-L6-v2`) to convert review text into vectors.  \n",
        "  2. Processes vectors in batches to enhance efficiency and avoid memory issues.  \n",
        "  3. Computes cosine similarity between product (`asin`) embeddings and review embeddings, storing results in the `similarity_` column.  \n",
        "  4. Assigns a similarity score of 0 for cases where embedding information is unavailable.\n",
        "\n",
        "**Reason**  \n",
        "By implementing similarity computation in a class, scalability and maintainability are improved. This is critical for NLP tasks that require text similarity analysis.\n",
        "\n",
        "#### What is Cosine Similarity?\n",
        "![1_FlRTXg3GA8vVoIsLvsBr2Q.png](data:image/png;base64,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)\n",
        "\n",
        "In text analysis, cosine similarity is frequently used to measure the **semantic similarity** between sentences, words, or documents. Using the image as a reference applied to text data:\n",
        "\n",
        "1. **Vector Representation**:\n",
        "   - Text data is converted into vectors using an embedding model (e.g., SentenceTransformer).\n",
        "   - For instance, the `Cat` and `Dog` vectors represent two sentences or words numerically.\n",
        "\n",
        "2. **Semantic Space of Vectors**:\n",
        "   - The \"Breath-Legs Plane\" represents the feature space of text data (semantic dimensions of words).\n",
        "   - The direction of a vector corresponds to the **semantic position** of a word or sentence, with similar texts having similar directions.\n",
        "\n",
        "3. **Role of Cosine Similarity**:\n",
        "   - Measures the **similarity** between two pieces of text (e.g., \"Cats are cute\" vs. \"Dogs are lovable\") by computing the **angle** between their vectors:\n",
        "     - A similarity close to 1 indicates semantic similarity.\n",
        "     - A similarity close to 0 indicates weak or no relation.\n",
        "     - A similarity close to -1 indicates opposite meanings.\n",
        "\n",
        "### 3. POS_tagger Class\n",
        "**Explanation**  \n",
        "- Extracts the following information from review text using Part-of-Speech (POS) tagging:  \n",
        "  1. `nouns`: Counts the number of nouns (words starting with NN tags).  \n",
        "  2. `adjectives`: Counts the number of adjectives (words starting with JJ tags).  \n",
        "  3. `adverbs`: Counts the number of adverbs (words starting with RB tags).  \n",
        "  4. `negative_words`: Uses sentiment analysis to count the number of negative words.  \n",
        "- This helps in understanding the grammatical structure and emotional tendencies in the text.\n",
        "\n",
        "**Reason**\n",
        "POS tagging provides grammatical insights into the text, which can enhance model performance. Modularizing it in a class makes it easier to integrate into the preprocessing pipeline.\n",
        "\n",
        "\n",
        "### 4. Helpfulness Class\n",
        "**Explanation**  \n",
        "- Splits the `helpful` column in Amazon reviews into two separate features:  \n",
        "  1. `helpful_0`: The number of votes marking the review as \"helpful.\"  \n",
        "  2. `helpful_1`: The total number of votes received by the review.  \n",
        "- The original `helpful` column is dropped afterward.\n",
        "\n",
        "**Reason**  \n",
        "By clearly defining data transformation steps in the pipeline, this class simplifies additional preprocessing.\n"
      ]
    },
    {
      "cell_type": "code",
      "execution_count": null,
      "metadata": {
        "id": "_8eLxMheTKFq"
      },
      "outputs": [],
      "source": [
        "# Custom Class Transformer to get the sentiment score\n",
        "class VaderSentimentTransformer(BaseEstimator, TransformerMixin):\n",
        "    def fit(self, X, y = None):\n",
        "        return self\n",
        "\n",
        "    def transform(self, X, y=None):\n",
        "        print('Adding Sentiment Score')\n",
        "        X['sentiment_'] = np.array([vader.polarity_scores(text)['compound'] for text in tqdm(X['reviewText'])])\n",
        "        return X\n",
        "\n",
        "# Custom Class Transformer to get Flesch Score\n",
        "class FleschScore(BaseEstimator, TransformerMixin):\n",
        "    def fit(self, X, y=None):\n",
        "        return self\n",
        "\n",
        "    def transform(self, X, y=None):\n",
        "        # Perform arbitary transformation\n",
        "        print('Adding Flesch Score')\n",
        "        X[\"flesch_\"] = np.array([textstat.flesch_reading_ease(text) for text in tqdm(X['reviewText'])])\n",
        "        return X\n",
        "\n",
        "# Custom Class Transformer to get the legnth of the review\n",
        "class Length_Review(BaseEstimator, TransformerMixin):\n",
        "    def fit(self, X, y=None):\n",
        "        return self\n",
        "\n",
        "    def transform(self, X, y=None):\n",
        "        print(\"Adding Length of Review\")\n",
        "        X[\"review_length_\"] = np.array([len(text.split()) for text in tqdm(X['reviewText'])]).reshape(-1,1)\n",
        "        return X\n",
        "\n",
        "# Custom Class Transformer to get the number of unique words\n",
        "class unique_words(BaseEstimator, TransformerMixin):\n",
        "    def fit(self, X, y=None):\n",
        "        return self\n",
        "\n",
        "    def transform(self, X, y=None):\n",
        "        print('Adding Uniqueness Count')\n",
        "        X[\"uniqueness_\"] = np.array([len(np.unique(text.split())) for text in tqdm(X['reviewText'])])\n",
        "        return X\n",
        "\n"
      ]
    },
    {
      "cell_type": "markdown",
      "metadata": {
        "id": "ETTxqnaFTKFq"
      },
      "source": [
        "### 5. VaderSentimentTransformer Class\n",
        "**Explanation**  \n",
        "- Uses the Vader Sentiment Analyzer to calculate sentiment scores for review text.  \n",
        "- Results range from -1 (highly negative) to +1 (highly positive) and are stored in the `sentiment_` column.\n",
        "\n",
        "**Reason**   \n",
        "Sentiment analysis plays a key role in understanding the context of review data. Separating it into a class allows it to be used independently.\n",
        "\n",
        "### 6. FleschScore Class\n",
        "**Explanation**  \n",
        "- Computes the Flesch Reading Ease score using the `textstat` library.  \n",
        "- The score indicates how easy the text is to read and is stored in the `flesch_` column.\n",
        "\n",
        "**Reason**  \n",
        "Analyzing text complexity provides additional insights useful for modeling.\n",
        "\n",
        "### 7. Length_Review Class\n",
        "**Explanation**  \n",
        "- Counts the number of words in each review and stores the result in the `review_length_` column.\n",
        "\n",
        "**Reason**    \n",
        "Review length is a valuable metadata feature that can indicate review quality or reliability.\n",
        "\n",
        "### 8. unique_words Class\n",
        "**Explanation**  \n",
        "- Counts the number of unique words in each review and stores the result in the `uniqueness_` column.\n",
        "\n",
        "**Reason**\n",
        "This serves as a metric for measuring review diversity, providing additional richness to the model."
      ]
    },
    {
      "cell_type": "markdown",
      "metadata": {
        "jp-MarkdownHeadingCollapsed": true,
        "id": "fo-NTDJITKFq"
      },
      "source": [
        "# **Data Preprocessing Pipeline**"
      ]
    },
    {
      "cell_type": "code",
      "execution_count": null,
      "metadata": {
        "id": "diBSPOmhTKFq"
      },
      "outputs": [],
      "source": [
        "X = df.drop(columns=['spam_not_spam'])\n",
        "y = df['spam_not_spam']\n",
        "\n",
        "# Train-test split\n",
        "X_train, X_test, y_train, y_test = train_test_split(X, y, test_size=0.3, random_state=42)"
      ]
    },
    {
      "cell_type": "markdown",
      "metadata": {
        "id": "MIyy4aDyTKFr"
      },
      "source": [
        "- Sets the `spam_not_spam` column as the target variable and the remaining columns as independent variables (`X`).  \n",
        "- `X` contains the feature data for model training, and `y` represents the target variable indicating spam or not.\n",
        "- Splits the data into 70% training data and 30% testing data.  \n",
        "- The `random_state=42` ensures that the data split is reproducible.\n"
      ]
    },
    {
      "cell_type": "code",
      "execution_count": null,
      "metadata": {
        "id": "O2Z8RgBpTKFr",
        "outputId": "3579deae-213b-4a22-916a-b4cbeb6faba6"
      },
      "outputs": [
        {
          "data": {
            "text/html": [
              "<style>#sk-container-id-2 {\n",
              "  /* Definition of color scheme common for light and dark mode */\n",
              "  --sklearn-color-text: black;\n",
              "  --sklearn-color-line: gray;\n",
              "  /* Definition of color scheme for unfitted estimators */\n",
              "  --sklearn-color-unfitted-level-0: #fff5e6;\n",
              "  --sklearn-color-unfitted-level-1: #f6e4d2;\n",
              "  --sklearn-color-unfitted-level-2: #ffe0b3;\n",
              "  --sklearn-color-unfitted-level-3: chocolate;\n",
              "  /* Definition of color scheme for fitted estimators */\n",
              "  --sklearn-color-fitted-level-0: #f0f8ff;\n",
              "  --sklearn-color-fitted-level-1: #d4ebff;\n",
              "  --sklearn-color-fitted-level-2: #b3dbfd;\n",
              "  --sklearn-color-fitted-level-3: cornflowerblue;\n",
              "\n",
              "  /* Specific color for light theme */\n",
              "  --sklearn-color-text-on-default-background: var(--sg-text-color, var(--theme-code-foreground, var(--jp-content-font-color1, black)));\n",
              "  --sklearn-color-background: var(--sg-background-color, var(--theme-background, var(--jp-layout-color0, white)));\n",
              "  --sklearn-color-border-box: var(--sg-text-color, var(--theme-code-foreground, var(--jp-content-font-color1, black)));\n",
              "  --sklearn-color-icon: #696969;\n",
              "\n",
              "  @media (prefers-color-scheme: dark) {\n",
              "    /* Redefinition of color scheme for dark theme */\n",
              "    --sklearn-color-text-on-default-background: var(--sg-text-color, var(--theme-code-foreground, var(--jp-content-font-color1, white)));\n",
              "    --sklearn-color-background: var(--sg-background-color, var(--theme-background, var(--jp-layout-color0, #111)));\n",
              "    --sklearn-color-border-box: var(--sg-text-color, var(--theme-code-foreground, var(--jp-content-font-color1, white)));\n",
              "    --sklearn-color-icon: #878787;\n",
              "  }\n",
              "}\n",
              "\n",
              "#sk-container-id-2 {\n",
              "  color: var(--sklearn-color-text);\n",
              "}\n",
              "\n",
              "#sk-container-id-2 pre {\n",
              "  padding: 0;\n",
              "}\n",
              "\n",
              "#sk-container-id-2 input.sk-hidden--visually {\n",
              "  border: 0;\n",
              "  clip: rect(1px 1px 1px 1px);\n",
              "  clip: rect(1px, 1px, 1px, 1px);\n",
              "  height: 1px;\n",
              "  margin: -1px;\n",
              "  overflow: hidden;\n",
              "  padding: 0;\n",
              "  position: absolute;\n",
              "  width: 1px;\n",
              "}\n",
              "\n",
              "#sk-container-id-2 div.sk-dashed-wrapped {\n",
              "  border: 1px dashed var(--sklearn-color-line);\n",
              "  margin: 0 0.4em 0.5em 0.4em;\n",
              "  box-sizing: border-box;\n",
              "  padding-bottom: 0.4em;\n",
              "  background-color: var(--sklearn-color-background);\n",
              "}\n",
              "\n",
              "#sk-container-id-2 div.sk-container {\n",
              "  /* jupyter's `normalize.less` sets `[hidden] { display: none; }`\n",
              "     but bootstrap.min.css set `[hidden] { display: none !important; }`\n",
              "     so we also need the `!important` here to be able to override the\n",
              "     default hidden behavior on the sphinx rendered scikit-learn.org.\n",
              "     See: https://github.com/scikit-learn/scikit-learn/issues/21755 */\n",
              "  display: inline-block !important;\n",
              "  position: relative;\n",
              "}\n",
              "\n",
              "#sk-container-id-2 div.sk-text-repr-fallback {\n",
              "  display: none;\n",
              "}\n",
              "\n",
              "div.sk-parallel-item,\n",
              "div.sk-serial,\n",
              "div.sk-item {\n",
              "  /* draw centered vertical line to link estimators */\n",
              "  background-image: linear-gradient(var(--sklearn-color-text-on-default-background), var(--sklearn-color-text-on-default-background));\n",
              "  background-size: 2px 100%;\n",
              "  background-repeat: no-repeat;\n",
              "  background-position: center center;\n",
              "}\n",
              "\n",
              "/* Parallel-specific style estimator block */\n",
              "\n",
              "#sk-container-id-2 div.sk-parallel-item::after {\n",
              "  content: \"\";\n",
              "  width: 100%;\n",
              "  border-bottom: 2px solid var(--sklearn-color-text-on-default-background);\n",
              "  flex-grow: 1;\n",
              "}\n",
              "\n",
              "#sk-container-id-2 div.sk-parallel {\n",
              "  display: flex;\n",
              "  align-items: stretch;\n",
              "  justify-content: center;\n",
              "  background-color: var(--sklearn-color-background);\n",
              "  position: relative;\n",
              "}\n",
              "\n",
              "#sk-container-id-2 div.sk-parallel-item {\n",
              "  display: flex;\n",
              "  flex-direction: column;\n",
              "}\n",
              "\n",
              "#sk-container-id-2 div.sk-parallel-item:first-child::after {\n",
              "  align-self: flex-end;\n",
              "  width: 50%;\n",
              "}\n",
              "\n",
              "#sk-container-id-2 div.sk-parallel-item:last-child::after {\n",
              "  align-self: flex-start;\n",
              "  width: 50%;\n",
              "}\n",
              "\n",
              "#sk-container-id-2 div.sk-parallel-item:only-child::after {\n",
              "  width: 0;\n",
              "}\n",
              "\n",
              "/* Serial-specific style estimator block */\n",
              "\n",
              "#sk-container-id-2 div.sk-serial {\n",
              "  display: flex;\n",
              "  flex-direction: column;\n",
              "  align-items: center;\n",
              "  background-color: var(--sklearn-color-background);\n",
              "  padding-right: 1em;\n",
              "  padding-left: 1em;\n",
              "}\n",
              "\n",
              "\n",
              "/* Toggleable style: style used for estimator/Pipeline/ColumnTransformer box that is\n",
              "clickable and can be expanded/collapsed.\n",
              "- Pipeline and ColumnTransformer use this feature and define the default style\n",
              "- Estimators will overwrite some part of the style using the `sk-estimator` class\n",
              "*/\n",
              "\n",
              "/* Pipeline and ColumnTransformer style (default) */\n",
              "\n",
              "#sk-container-id-2 div.sk-toggleable {\n",
              "  /* Default theme specific background. It is overwritten whether we have a\n",
              "  specific estimator or a Pipeline/ColumnTransformer */\n",
              "  background-color: var(--sklearn-color-background);\n",
              "}\n",
              "\n",
              "/* Toggleable label */\n",
              "#sk-container-id-2 label.sk-toggleable__label {\n",
              "  cursor: pointer;\n",
              "  display: block;\n",
              "  width: 100%;\n",
              "  margin-bottom: 0;\n",
              "  padding: 0.5em;\n",
              "  box-sizing: border-box;\n",
              "  text-align: center;\n",
              "}\n",
              "\n",
              "#sk-container-id-2 label.sk-toggleable__label-arrow:before {\n",
              "  /* Arrow on the left of the label */\n",
              "  content: \"▸\";\n",
              "  float: left;\n",
              "  margin-right: 0.25em;\n",
              "  color: var(--sklearn-color-icon);\n",
              "}\n",
              "\n",
              "#sk-container-id-2 label.sk-toggleable__label-arrow:hover:before {\n",
              "  color: var(--sklearn-color-text);\n",
              "}\n",
              "\n",
              "/* Toggleable content - dropdown */\n",
              "\n",
              "#sk-container-id-2 div.sk-toggleable__content {\n",
              "  max-height: 0;\n",
              "  max-width: 0;\n",
              "  overflow: hidden;\n",
              "  text-align: left;\n",
              "  /* unfitted */\n",
              "  background-color: var(--sklearn-color-unfitted-level-0);\n",
              "}\n",
              "\n",
              "#sk-container-id-2 div.sk-toggleable__content.fitted {\n",
              "  /* fitted */\n",
              "  background-color: var(--sklearn-color-fitted-level-0);\n",
              "}\n",
              "\n",
              "#sk-container-id-2 div.sk-toggleable__content pre {\n",
              "  margin: 0.2em;\n",
              "  border-radius: 0.25em;\n",
              "  color: var(--sklearn-color-text);\n",
              "  /* unfitted */\n",
              "  background-color: var(--sklearn-color-unfitted-level-0);\n",
              "}\n",
              "\n",
              "#sk-container-id-2 div.sk-toggleable__content.fitted pre {\n",
              "  /* unfitted */\n",
              "  background-color: var(--sklearn-color-fitted-level-0);\n",
              "}\n",
              "\n",
              "#sk-container-id-2 input.sk-toggleable__control:checked~div.sk-toggleable__content {\n",
              "  /* Expand drop-down */\n",
              "  max-height: 200px;\n",
              "  max-width: 100%;\n",
              "  overflow: auto;\n",
              "}\n",
              "\n",
              "#sk-container-id-2 input.sk-toggleable__control:checked~label.sk-toggleable__label-arrow:before {\n",
              "  content: \"▾\";\n",
              "}\n",
              "\n",
              "/* Pipeline/ColumnTransformer-specific style */\n",
              "\n",
              "#sk-container-id-2 div.sk-label input.sk-toggleable__control:checked~label.sk-toggleable__label {\n",
              "  color: var(--sklearn-color-text);\n",
              "  background-color: var(--sklearn-color-unfitted-level-2);\n",
              "}\n",
              "\n",
              "#sk-container-id-2 div.sk-label.fitted input.sk-toggleable__control:checked~label.sk-toggleable__label {\n",
              "  background-color: var(--sklearn-color-fitted-level-2);\n",
              "}\n",
              "\n",
              "/* Estimator-specific style */\n",
              "\n",
              "/* Colorize estimator box */\n",
              "#sk-container-id-2 div.sk-estimator input.sk-toggleable__control:checked~label.sk-toggleable__label {\n",
              "  /* unfitted */\n",
              "  background-color: var(--sklearn-color-unfitted-level-2);\n",
              "}\n",
              "\n",
              "#sk-container-id-2 div.sk-estimator.fitted input.sk-toggleable__control:checked~label.sk-toggleable__label {\n",
              "  /* fitted */\n",
              "  background-color: var(--sklearn-color-fitted-level-2);\n",
              "}\n",
              "\n",
              "#sk-container-id-2 div.sk-label label.sk-toggleable__label,\n",
              "#sk-container-id-2 div.sk-label label {\n",
              "  /* The background is the default theme color */\n",
              "  color: var(--sklearn-color-text-on-default-background);\n",
              "}\n",
              "\n",
              "/* On hover, darken the color of the background */\n",
              "#sk-container-id-2 div.sk-label:hover label.sk-toggleable__label {\n",
              "  color: var(--sklearn-color-text);\n",
              "  background-color: var(--sklearn-color-unfitted-level-2);\n",
              "}\n",
              "\n",
              "/* Label box, darken color on hover, fitted */\n",
              "#sk-container-id-2 div.sk-label.fitted:hover label.sk-toggleable__label.fitted {\n",
              "  color: var(--sklearn-color-text);\n",
              "  background-color: var(--sklearn-color-fitted-level-2);\n",
              "}\n",
              "\n",
              "/* Estimator label */\n",
              "\n",
              "#sk-container-id-2 div.sk-label label {\n",
              "  font-family: monospace;\n",
              "  font-weight: bold;\n",
              "  display: inline-block;\n",
              "  line-height: 1.2em;\n",
              "}\n",
              "\n",
              "#sk-container-id-2 div.sk-label-container {\n",
              "  text-align: center;\n",
              "}\n",
              "\n",
              "/* Estimator-specific */\n",
              "#sk-container-id-2 div.sk-estimator {\n",
              "  font-family: monospace;\n",
              "  border: 1px dotted var(--sklearn-color-border-box);\n",
              "  border-radius: 0.25em;\n",
              "  box-sizing: border-box;\n",
              "  margin-bottom: 0.5em;\n",
              "  /* unfitted */\n",
              "  background-color: var(--sklearn-color-unfitted-level-0);\n",
              "}\n",
              "\n",
              "#sk-container-id-2 div.sk-estimator.fitted {\n",
              "  /* fitted */\n",
              "  background-color: var(--sklearn-color-fitted-level-0);\n",
              "}\n",
              "\n",
              "/* on hover */\n",
              "#sk-container-id-2 div.sk-estimator:hover {\n",
              "  /* unfitted */\n",
              "  background-color: var(--sklearn-color-unfitted-level-2);\n",
              "}\n",
              "\n",
              "#sk-container-id-2 div.sk-estimator.fitted:hover {\n",
              "  /* fitted */\n",
              "  background-color: var(--sklearn-color-fitted-level-2);\n",
              "}\n",
              "\n",
              "/* Specification for estimator info (e.g. \"i\" and \"?\") */\n",
              "\n",
              "/* Common style for \"i\" and \"?\" */\n",
              "\n",
              ".sk-estimator-doc-link,\n",
              "a:link.sk-estimator-doc-link,\n",
              "a:visited.sk-estimator-doc-link {\n",
              "  float: right;\n",
              "  font-size: smaller;\n",
              "  line-height: 1em;\n",
              "  font-family: monospace;\n",
              "  background-color: var(--sklearn-color-background);\n",
              "  border-radius: 1em;\n",
              "  height: 1em;\n",
              "  width: 1em;\n",
              "  text-decoration: none !important;\n",
              "  margin-left: 1ex;\n",
              "  /* unfitted */\n",
              "  border: var(--sklearn-color-unfitted-level-1) 1pt solid;\n",
              "  color: var(--sklearn-color-unfitted-level-1);\n",
              "}\n",
              "\n",
              ".sk-estimator-doc-link.fitted,\n",
              "a:link.sk-estimator-doc-link.fitted,\n",
              "a:visited.sk-estimator-doc-link.fitted {\n",
              "  /* fitted */\n",
              "  border: var(--sklearn-color-fitted-level-1) 1pt solid;\n",
              "  color: var(--sklearn-color-fitted-level-1);\n",
              "}\n",
              "\n",
              "/* On hover */\n",
              "div.sk-estimator:hover .sk-estimator-doc-link:hover,\n",
              ".sk-estimator-doc-link:hover,\n",
              "div.sk-label-container:hover .sk-estimator-doc-link:hover,\n",
              ".sk-estimator-doc-link:hover {\n",
              "  /* unfitted */\n",
              "  background-color: var(--sklearn-color-unfitted-level-3);\n",
              "  color: var(--sklearn-color-background);\n",
              "  text-decoration: none;\n",
              "}\n",
              "\n",
              "div.sk-estimator.fitted:hover .sk-estimator-doc-link.fitted:hover,\n",
              ".sk-estimator-doc-link.fitted:hover,\n",
              "div.sk-label-container:hover .sk-estimator-doc-link.fitted:hover,\n",
              ".sk-estimator-doc-link.fitted:hover {\n",
              "  /* fitted */\n",
              "  background-color: var(--sklearn-color-fitted-level-3);\n",
              "  color: var(--sklearn-color-background);\n",
              "  text-decoration: none;\n",
              "}\n",
              "\n",
              "/* Span, style for the box shown on hovering the info icon */\n",
              ".sk-estimator-doc-link span {\n",
              "  display: none;\n",
              "  z-index: 9999;\n",
              "  position: relative;\n",
              "  font-weight: normal;\n",
              "  right: .2ex;\n",
              "  padding: .5ex;\n",
              "  margin: .5ex;\n",
              "  width: min-content;\n",
              "  min-width: 20ex;\n",
              "  max-width: 50ex;\n",
              "  color: var(--sklearn-color-text);\n",
              "  box-shadow: 2pt 2pt 4pt #999;\n",
              "  /* unfitted */\n",
              "  background: var(--sklearn-color-unfitted-level-0);\n",
              "  border: .5pt solid var(--sklearn-color-unfitted-level-3);\n",
              "}\n",
              "\n",
              ".sk-estimator-doc-link.fitted span {\n",
              "  /* fitted */\n",
              "  background: var(--sklearn-color-fitted-level-0);\n",
              "  border: var(--sklearn-color-fitted-level-3);\n",
              "}\n",
              "\n",
              ".sk-estimator-doc-link:hover span {\n",
              "  display: block;\n",
              "}\n",
              "\n",
              "/* \"?\"-specific style due to the `<a>` HTML tag */\n",
              "\n",
              "#sk-container-id-2 a.estimator_doc_link {\n",
              "  float: right;\n",
              "  font-size: 1rem;\n",
              "  line-height: 1em;\n",
              "  font-family: monospace;\n",
              "  background-color: var(--sklearn-color-background);\n",
              "  border-radius: 1rem;\n",
              "  height: 1rem;\n",
              "  width: 1rem;\n",
              "  text-decoration: none;\n",
              "  /* unfitted */\n",
              "  color: var(--sklearn-color-unfitted-level-1);\n",
              "  border: var(--sklearn-color-unfitted-level-1) 1pt solid;\n",
              "}\n",
              "\n",
              "#sk-container-id-2 a.estimator_doc_link.fitted {\n",
              "  /* fitted */\n",
              "  border: var(--sklearn-color-fitted-level-1) 1pt solid;\n",
              "  color: var(--sklearn-color-fitted-level-1);\n",
              "}\n",
              "\n",
              "/* On hover */\n",
              "#sk-container-id-2 a.estimator_doc_link:hover {\n",
              "  /* unfitted */\n",
              "  background-color: var(--sklearn-color-unfitted-level-3);\n",
              "  color: var(--sklearn-color-background);\n",
              "  text-decoration: none;\n",
              "}\n",
              "\n",
              "#sk-container-id-2 a.estimator_doc_link.fitted:hover {\n",
              "  /* fitted */\n",
              "  background-color: var(--sklearn-color-fitted-level-3);\n",
              "}\n",
              "</style><div id=\"sk-container-id-2\" class=\"sk-top-container\"><div class=\"sk-text-repr-fallback\"><pre>Pipeline(steps=[(&#x27;cleanup&#x27;, Cleanup()), (&#x27;pos&#x27;, POS_tagger()),\n",
              "                (&#x27;flesch&#x27;, FleschScore()), (&#x27;length&#x27;, Length_Review()),\n",
              "                (&#x27;vader&#x27;, VaderSentimentTransformer()),\n",
              "                (&#x27;uniqueness&#x27;, unique_words()), (&#x27;similarity&#x27;, Similarity()),\n",
              "                (&#x27;helpfulness&#x27;, Helpfulness()),\n",
              "                (&#x27;preprocessor&#x27;,\n",
              "                 ColumnTransformer(transformers=[(&#x27;scaler&#x27;, StandardScaler(),\n",
              "                                                  [&#x27;helpful_0&#x27;, &#x27;helpful_1&#x27;,\n",
              "                                                   &#x27;nouns_&#x27;, &#x27;adjectives_&#x27;,\n",
              "                                                   &#x27;adverbs_&#x27;,\n",
              "                                                   &#x27;negative_words_&#x27;,\n",
              "                                                   &#x27;sentiment_&#x27;, &#x27;flesch_&#x27;,\n",
              "                                                   &#x27;review_length_&#x27;,\n",
              "                                                   &#x27;uniqueness_&#x27;]),\n",
              "                                                 (&#x27;tfidf&#x27;,\n",
              "                                                  TfidfVectorizer(max_features=2000),\n",
              "                                                  &#x27;cleaned_text&#x27;),\n",
              "                                                 (&#x27;passthru&#x27;, &#x27;passthrough&#x27;,\n",
              "                                                  [&#x27;similarity_&#x27;])]))])</pre><b>In a Jupyter environment, please rerun this cell to show the HTML representation or trust the notebook. <br />On GitHub, the HTML representation is unable to render, please try loading this page with nbviewer.org.</b></div><div class=\"sk-container\" hidden><div class=\"sk-item sk-dashed-wrapped\"><div class=\"sk-label-container\"><div class=\"sk-label  sk-toggleable\"><input class=\"sk-toggleable__control sk-hidden--visually\" id=\"sk-estimator-id-17\" type=\"checkbox\" ><label for=\"sk-estimator-id-17\" class=\"sk-toggleable__label  sk-toggleable__label-arrow \">&nbsp;&nbsp;Pipeline<a class=\"sk-estimator-doc-link \" rel=\"noreferrer\" target=\"_blank\" href=\"https://scikit-learn.org/1.5/modules/generated/sklearn.pipeline.Pipeline.html\">?<span>Documentation for Pipeline</span></a><span class=\"sk-estimator-doc-link \">i<span>Not fitted</span></span></label><div class=\"sk-toggleable__content \"><pre>Pipeline(steps=[(&#x27;cleanup&#x27;, Cleanup()), (&#x27;pos&#x27;, POS_tagger()),\n",
              "                (&#x27;flesch&#x27;, FleschScore()), (&#x27;length&#x27;, Length_Review()),\n",
              "                (&#x27;vader&#x27;, VaderSentimentTransformer()),\n",
              "                (&#x27;uniqueness&#x27;, unique_words()), (&#x27;similarity&#x27;, Similarity()),\n",
              "                (&#x27;helpfulness&#x27;, Helpfulness()),\n",
              "                (&#x27;preprocessor&#x27;,\n",
              "                 ColumnTransformer(transformers=[(&#x27;scaler&#x27;, StandardScaler(),\n",
              "                                                  [&#x27;helpful_0&#x27;, &#x27;helpful_1&#x27;,\n",
              "                                                   &#x27;nouns_&#x27;, &#x27;adjectives_&#x27;,\n",
              "                                                   &#x27;adverbs_&#x27;,\n",
              "                                                   &#x27;negative_words_&#x27;,\n",
              "                                                   &#x27;sentiment_&#x27;, &#x27;flesch_&#x27;,\n",
              "                                                   &#x27;review_length_&#x27;,\n",
              "                                                   &#x27;uniqueness_&#x27;]),\n",
              "                                                 (&#x27;tfidf&#x27;,\n",
              "                                                  TfidfVectorizer(max_features=2000),\n",
              "                                                  &#x27;cleaned_text&#x27;),\n",
              "                                                 (&#x27;passthru&#x27;, &#x27;passthrough&#x27;,\n",
              "                                                  [&#x27;similarity_&#x27;])]))])</pre></div> </div></div><div class=\"sk-serial\"><div class=\"sk-item\"><div class=\"sk-estimator  sk-toggleable\"><input class=\"sk-toggleable__control sk-hidden--visually\" id=\"sk-estimator-id-18\" type=\"checkbox\" ><label for=\"sk-estimator-id-18\" class=\"sk-toggleable__label  sk-toggleable__label-arrow \">Cleanup</label><div class=\"sk-toggleable__content \"><pre>Cleanup()</pre></div> </div></div><div class=\"sk-item\"><div class=\"sk-estimator  sk-toggleable\"><input class=\"sk-toggleable__control sk-hidden--visually\" id=\"sk-estimator-id-19\" type=\"checkbox\" ><label for=\"sk-estimator-id-19\" class=\"sk-toggleable__label  sk-toggleable__label-arrow \">POS_tagger</label><div class=\"sk-toggleable__content \"><pre>POS_tagger()</pre></div> </div></div><div class=\"sk-item\"><div class=\"sk-estimator  sk-toggleable\"><input class=\"sk-toggleable__control sk-hidden--visually\" id=\"sk-estimator-id-20\" type=\"checkbox\" ><label for=\"sk-estimator-id-20\" class=\"sk-toggleable__label  sk-toggleable__label-arrow \">FleschScore</label><div class=\"sk-toggleable__content \"><pre>FleschScore()</pre></div> </div></div><div class=\"sk-item\"><div class=\"sk-estimator  sk-toggleable\"><input class=\"sk-toggleable__control sk-hidden--visually\" id=\"sk-estimator-id-21\" type=\"checkbox\" ><label for=\"sk-estimator-id-21\" class=\"sk-toggleable__label  sk-toggleable__label-arrow \">Length_Review</label><div class=\"sk-toggleable__content \"><pre>Length_Review()</pre></div> </div></div><div class=\"sk-item\"><div class=\"sk-estimator  sk-toggleable\"><input class=\"sk-toggleable__control sk-hidden--visually\" id=\"sk-estimator-id-22\" type=\"checkbox\" ><label for=\"sk-estimator-id-22\" class=\"sk-toggleable__label  sk-toggleable__label-arrow \">VaderSentimentTransformer</label><div class=\"sk-toggleable__content \"><pre>VaderSentimentTransformer()</pre></div> </div></div><div class=\"sk-item\"><div class=\"sk-estimator  sk-toggleable\"><input class=\"sk-toggleable__control sk-hidden--visually\" id=\"sk-estimator-id-23\" type=\"checkbox\" ><label for=\"sk-estimator-id-23\" class=\"sk-toggleable__label  sk-toggleable__label-arrow \">unique_words</label><div class=\"sk-toggleable__content \"><pre>unique_words()</pre></div> </div></div><div class=\"sk-item\"><div class=\"sk-estimator  sk-toggleable\"><input class=\"sk-toggleable__control sk-hidden--visually\" id=\"sk-estimator-id-24\" type=\"checkbox\" ><label for=\"sk-estimator-id-24\" class=\"sk-toggleable__label  sk-toggleable__label-arrow \">Similarity</label><div class=\"sk-toggleable__content \"><pre>Similarity()</pre></div> </div></div><div class=\"sk-item\"><div class=\"sk-estimator  sk-toggleable\"><input class=\"sk-toggleable__control sk-hidden--visually\" id=\"sk-estimator-id-25\" type=\"checkbox\" ><label for=\"sk-estimator-id-25\" class=\"sk-toggleable__label  sk-toggleable__label-arrow \">Helpfulness</label><div class=\"sk-toggleable__content \"><pre>Helpfulness()</pre></div> </div></div><div class=\"sk-item sk-dashed-wrapped\"><div class=\"sk-label-container\"><div class=\"sk-label  sk-toggleable\"><input class=\"sk-toggleable__control sk-hidden--visually\" id=\"sk-estimator-id-26\" type=\"checkbox\" ><label for=\"sk-estimator-id-26\" class=\"sk-toggleable__label  sk-toggleable__label-arrow \">&nbsp;preprocessor: ColumnTransformer<a class=\"sk-estimator-doc-link \" rel=\"noreferrer\" target=\"_blank\" href=\"https://scikit-learn.org/1.5/modules/generated/sklearn.compose.ColumnTransformer.html\">?<span>Documentation for preprocessor: ColumnTransformer</span></a></label><div class=\"sk-toggleable__content \"><pre>ColumnTransformer(transformers=[(&#x27;scaler&#x27;, StandardScaler(),\n",
              "                                 [&#x27;helpful_0&#x27;, &#x27;helpful_1&#x27;, &#x27;nouns_&#x27;,\n",
              "                                  &#x27;adjectives_&#x27;, &#x27;adverbs_&#x27;, &#x27;negative_words_&#x27;,\n",
              "                                  &#x27;sentiment_&#x27;, &#x27;flesch_&#x27;, &#x27;review_length_&#x27;,\n",
              "                                  &#x27;uniqueness_&#x27;]),\n",
              "                                (&#x27;tfidf&#x27;, TfidfVectorizer(max_features=2000),\n",
              "                                 &#x27;cleaned_text&#x27;),\n",
              "                                (&#x27;passthru&#x27;, &#x27;passthrough&#x27;, [&#x27;similarity_&#x27;])])</pre></div> </div></div><div class=\"sk-parallel\"><div class=\"sk-parallel-item\"><div class=\"sk-item\"><div class=\"sk-label-container\"><div class=\"sk-label  sk-toggleable\"><input class=\"sk-toggleable__control sk-hidden--visually\" id=\"sk-estimator-id-27\" type=\"checkbox\" ><label for=\"sk-estimator-id-27\" class=\"sk-toggleable__label  sk-toggleable__label-arrow \">scaler</label><div class=\"sk-toggleable__content \"><pre>[&#x27;helpful_0&#x27;, &#x27;helpful_1&#x27;, &#x27;nouns_&#x27;, &#x27;adjectives_&#x27;, &#x27;adverbs_&#x27;, &#x27;negative_words_&#x27;, &#x27;sentiment_&#x27;, &#x27;flesch_&#x27;, &#x27;review_length_&#x27;, &#x27;uniqueness_&#x27;]</pre></div> </div></div><div class=\"sk-serial\"><div class=\"sk-item\"><div class=\"sk-estimator  sk-toggleable\"><input class=\"sk-toggleable__control sk-hidden--visually\" id=\"sk-estimator-id-28\" type=\"checkbox\" ><label for=\"sk-estimator-id-28\" class=\"sk-toggleable__label  sk-toggleable__label-arrow \">&nbsp;StandardScaler<a class=\"sk-estimator-doc-link \" rel=\"noreferrer\" target=\"_blank\" href=\"https://scikit-learn.org/1.5/modules/generated/sklearn.preprocessing.StandardScaler.html\">?<span>Documentation for StandardScaler</span></a></label><div class=\"sk-toggleable__content \"><pre>StandardScaler()</pre></div> </div></div></div></div></div><div class=\"sk-parallel-item\"><div class=\"sk-item\"><div class=\"sk-label-container\"><div class=\"sk-label  sk-toggleable\"><input class=\"sk-toggleable__control sk-hidden--visually\" id=\"sk-estimator-id-29\" type=\"checkbox\" ><label for=\"sk-estimator-id-29\" class=\"sk-toggleable__label  sk-toggleable__label-arrow \">tfidf</label><div class=\"sk-toggleable__content \"><pre>cleaned_text</pre></div> </div></div><div class=\"sk-serial\"><div class=\"sk-item\"><div class=\"sk-estimator  sk-toggleable\"><input class=\"sk-toggleable__control sk-hidden--visually\" id=\"sk-estimator-id-30\" type=\"checkbox\" ><label for=\"sk-estimator-id-30\" class=\"sk-toggleable__label  sk-toggleable__label-arrow \">&nbsp;TfidfVectorizer<a class=\"sk-estimator-doc-link \" rel=\"noreferrer\" target=\"_blank\" href=\"https://scikit-learn.org/1.5/modules/generated/sklearn.feature_extraction.text.TfidfVectorizer.html\">?<span>Documentation for TfidfVectorizer</span></a></label><div class=\"sk-toggleable__content \"><pre>TfidfVectorizer(max_features=2000)</pre></div> </div></div></div></div></div><div class=\"sk-parallel-item\"><div class=\"sk-item\"><div class=\"sk-label-container\"><div class=\"sk-label  sk-toggleable\"><input class=\"sk-toggleable__control sk-hidden--visually\" id=\"sk-estimator-id-31\" type=\"checkbox\" ><label for=\"sk-estimator-id-31\" class=\"sk-toggleable__label  sk-toggleable__label-arrow \">passthru</label><div class=\"sk-toggleable__content \"><pre>[&#x27;similarity_&#x27;]</pre></div> </div></div><div class=\"sk-serial\"><div class=\"sk-item\"><div class=\"sk-estimator  sk-toggleable\"><input class=\"sk-toggleable__control sk-hidden--visually\" id=\"sk-estimator-id-32\" type=\"checkbox\" ><label for=\"sk-estimator-id-32\" class=\"sk-toggleable__label  sk-toggleable__label-arrow \">passthrough</label><div class=\"sk-toggleable__content \"><pre>passthrough</pre></div> </div></div></div></div></div></div></div></div></div></div></div>"
            ],
            "text/plain": [
              "Pipeline(steps=[('cleanup', Cleanup()), ('pos', POS_tagger()),\n",
              "                ('flesch', FleschScore()), ('length', Length_Review()),\n",
              "                ('vader', VaderSentimentTransformer()),\n",
              "                ('uniqueness', unique_words()), ('similarity', Similarity()),\n",
              "                ('helpfulness', Helpfulness()),\n",
              "                ('preprocessor',\n",
              "                 ColumnTransformer(transformers=[('scaler', StandardScaler(),\n",
              "                                                  ['helpful_0', 'helpful_1',\n",
              "                                                   'nouns_', 'adjectives_',\n",
              "                                                   'adverbs_',\n",
              "                                                   'negative_words_',\n",
              "                                                   'sentiment_', 'flesch_',\n",
              "                                                   'review_length_',\n",
              "                                                   'uniqueness_']),\n",
              "                                                 ('tfidf',\n",
              "                                                  TfidfVectorizer(max_features=2000),\n",
              "                                                  'cleaned_text'),\n",
              "                                                 ('passthru', 'passthrough',\n",
              "                                                  ['similarity_'])]))])"
            ]
          },
          "execution_count": 21,
          "metadata": {},
          "output_type": "execute_result"
        }
      ],
      "source": [
        "num_cols = ['helpful_0', 'helpful_1', 'nouns_', 'adjectives_', 'adverbs_', 'negative_words_', 'sentiment_', \"flesch_\", \"review_length_\", \"uniqueness_\"]\n",
        "cols_to_keep = ['similarity_']\n",
        "preprocessor = ColumnTransformer(\n",
        "    transformers=[\n",
        "        ('scaler', StandardScaler(), num_cols),\n",
        "        ('tfidf', TfidfVectorizer(max_features=2_000), 'cleaned_text'),\n",
        "        ('passthru', 'passthrough', cols_to_keep)\n",
        "    ],\n",
        "    remainder='drop'\n",
        ")\n",
        "\n",
        "pipe = Pipeline([\n",
        "    ('cleanup', Cleanup()),\n",
        "    ('pos', POS_tagger()),\n",
        "    ('flesch', FleschScore()),\n",
        "    ('length', Length_Review()),\n",
        "    ('vader', VaderSentimentTransformer()),\n",
        "    ('uniqueness', unique_words()),\n",
        "    ('similarity', Similarity()),\n",
        "    ('helpfulness', Helpfulness()),\n",
        "    ('preprocessor', preprocessor)\n",
        "])\n",
        "\n",
        "(pipe)"
      ]
    },
    {
      "cell_type": "markdown",
      "metadata": {
        "id": "BkjRXOdFTKFr"
      },
      "source": [
        "#### Preprocessing Setup\n",
        "- `num_cols`: List of numerical variables to be standardized using `StandardScaler`.  \n",
        "- `cols_to_keep`: List of variables to be retained as-is, including the `similarity_` column.  \n",
        "- `preprocessor`:  \n",
        "  1. `scaler`: Standardizes the numerical variables (`num_cols`).  \n",
        "  2. `tfidf`: Vectorizes the `cleaned_text` column into a maximum of 2,000 features (Taken due to memory contraints).\n",
        "  3. `passthru`: Retains the `similarity_` column without modification.  \n",
        "  4. `remainder='drop'`: Drops all unspecified columns.\n",
        "\n",
        "#### Pipeline Setup\n",
        "- Defines a pipeline for sequential data processing:  \n",
        "1. `Cleanup`: Performs text cleaning (removes emojis, stopwords, and applies stemming).  \n",
        "2. `POS_tagger`: Conducts POS tagging and computes counts for nouns, adjectives, adverbs, and negative words.  \n",
        "3. `FleschScore`: Calculates the reading ease score.  \n",
        "4. `Length_Review`: Computes the number of words in the review.  \n",
        "5. `VaderSentimentTransformer`: Calculates sentiment scores for the reviews.  \n",
        "6. `unique_words`: Counts the number of unique words in each review.  \n",
        "7. `Similarity`: Computes similarity scores between reviews and product embeddings.  \n",
        "8. `Helpfulness`: Splits the `helpful` column into helpful votes and total votes.  \n",
        "9. `preprocessor`: Applies the transformations defined in the preprocessing step.\n"
      ]
    },
    {
      "cell_type": "code",
      "execution_count": null,
      "metadata": {
        "scrolled": true,
        "id": "GKU6C8VQTKFr",
        "outputId": "95ffdf49-58db-4d19-e6c9-068b1ba7497e"
      },
      "outputs": [
        {
          "name": "stdout",
          "output_type": "stream",
          "text": [
            "Adding cleanup\n"
          ]
        },
        {
          "name": "stderr",
          "output_type": "stream",
          "text": [
            "100%|██████████| 316069/316069 [02:14<00:00, 2351.98it/s]\n"
          ]
        },
        {
          "name": "stdout",
          "output_type": "stream",
          "text": [
            "Adding POS\n"
          ]
        },
        {
          "name": "stderr",
          "output_type": "stream",
          "text": [
            "100%|██████████| 316069/316069 [08:45<00:00, 601.02it/s]\n"
          ]
        },
        {
          "name": "stdout",
          "output_type": "stream",
          "text": [
            "Adding Flesch Score\n"
          ]
        },
        {
          "name": "stderr",
          "output_type": "stream",
          "text": [
            "100%|██████████| 316069/316069 [00:17<00:00, 18293.29it/s]\n"
          ]
        },
        {
          "name": "stdout",
          "output_type": "stream",
          "text": [
            "Adding Length of Review\n"
          ]
        },
        {
          "name": "stderr",
          "output_type": "stream",
          "text": [
            "100%|██████████| 316069/316069 [00:00<00:00, 448285.45it/s]\n"
          ]
        },
        {
          "name": "stdout",
          "output_type": "stream",
          "text": [
            "Adding Sentiment Score\n"
          ]
        },
        {
          "name": "stderr",
          "output_type": "stream",
          "text": [
            "100%|██████████| 316069/316069 [01:22<00:00, 3827.83it/s]\n"
          ]
        },
        {
          "name": "stdout",
          "output_type": "stream",
          "text": [
            "Adding Uniqueness Count\n"
          ]
        },
        {
          "name": "stderr",
          "output_type": "stream",
          "text": [
            "100%|██████████| 316069/316069 [00:04<00:00, 63910.68it/s]\n"
          ]
        },
        {
          "name": "stdout",
          "output_type": "stream",
          "text": [
            "Adding Similarity Score\n"
          ]
        },
        {
          "name": "stderr",
          "output_type": "stream",
          "text": [
            "100%|██████████| 32/32 [04:12<00:00,  7.88s/it]\n",
            "316069it [00:46, 6764.53it/s]\n",
            "100%|██████████| 316069/316069 [00:00<00:00, 896953.08it/s]\n",
            "100%|██████████| 316069/316069 [00:00<00:00, 2411817.89it/s]\n"
          ]
        },
        {
          "name": "stdout",
          "output_type": "stream",
          "text": [
            "Adding cleanup\n"
          ]
        },
        {
          "name": "stderr",
          "output_type": "stream",
          "text": [
            "100%|██████████| 135459/135459 [00:59<00:00, 2276.33it/s]\n"
          ]
        },
        {
          "name": "stdout",
          "output_type": "stream",
          "text": [
            "Adding POS\n"
          ]
        },
        {
          "name": "stderr",
          "output_type": "stream",
          "text": [
            "100%|██████████| 135459/135459 [03:51<00:00, 584.70it/s]\n"
          ]
        },
        {
          "name": "stdout",
          "output_type": "stream",
          "text": [
            "Adding Flesch Score\n"
          ]
        },
        {
          "name": "stderr",
          "output_type": "stream",
          "text": [
            "100%|██████████| 135459/135459 [00:09<00:00, 14981.26it/s]\n"
          ]
        },
        {
          "name": "stdout",
          "output_type": "stream",
          "text": [
            "Adding Length of Review\n"
          ]
        },
        {
          "name": "stderr",
          "output_type": "stream",
          "text": [
            "100%|██████████| 135459/135459 [00:00<00:00, 442322.54it/s]\n"
          ]
        },
        {
          "name": "stdout",
          "output_type": "stream",
          "text": [
            "Adding Sentiment Score\n"
          ]
        },
        {
          "name": "stderr",
          "output_type": "stream",
          "text": [
            "100%|██████████| 135459/135459 [00:35<00:00, 3847.34it/s]\n"
          ]
        },
        {
          "name": "stdout",
          "output_type": "stream",
          "text": [
            "Adding Uniqueness Count\n"
          ]
        },
        {
          "name": "stderr",
          "output_type": "stream",
          "text": [
            "100%|██████████| 135459/135459 [00:01<00:00, 68772.71it/s]\n"
          ]
        },
        {
          "name": "stdout",
          "output_type": "stream",
          "text": [
            "Adding Similarity Score\n"
          ]
        },
        {
          "name": "stderr",
          "output_type": "stream",
          "text": [
            "100%|██████████| 14/14 [01:41<00:00,  7.25s/it]\n",
            "135459it [00:20, 6618.98it/s]\n",
            "100%|██████████| 135459/135459 [00:00<00:00, 698324.64it/s]\n",
            "100%|██████████| 135459/135459 [00:00<00:00, 2090315.91it/s]\n"
          ]
        }
      ],
      "source": [
        "# Datasets\n",
        "X_train = pipe.fit_transform(X_train)\n",
        "X_test = pipe.transform(X_test)"
      ]
    },
    {
      "cell_type": "code",
      "execution_count": null,
      "metadata": {
        "id": "6bvKw4DnTKFr"
      },
      "outputs": [],
      "source": [
        "# Function to get the feature names\n",
        "def get_feature_names(pipe):\n",
        "    preprocessor = pipe.named_steps['preprocessor']\n",
        "    feature_names = []\n",
        "\n",
        "    for name, transformer, cols in preprocessor.transformers_:\n",
        "        if name == 'scaler':\n",
        "            feature_names.extend(cols)\n",
        "        elif name == 'tfidf':\n",
        "            feature_names.extend(transformer.get_feature_names_out())\n",
        "        elif name == 'passthru':\n",
        "            feature_names.extend(cols)\n",
        "\n",
        "    return feature_names\n",
        "\n",
        "feature_names = get_feature_names(pipe)\n"
      ]
    },
    {
      "cell_type": "markdown",
      "metadata": {
        "id": "3hqqrajuTKFr"
      },
      "source": [
        "- This function is used to **extract all feature names generated** in the `preprocessor` step of a pipeline.\n",
        "- It consolidates feature names from numerical, textual, and passthrough variables into a single list."
      ]
    },
    {
      "cell_type": "markdown",
      "metadata": {
        "jp-MarkdownHeadingCollapsed": true,
        "id": "PbtNilQ4TKFr"
      },
      "source": [
        "# **Modeling**"
      ]
    },
    {
      "cell_type": "markdown",
      "metadata": {
        "id": "rkXUZEZgTKFr"
      },
      "source": [
        "## Halving Grid Search and Randomized Search"
      ]
    },
    {
      "cell_type": "code",
      "execution_count": null,
      "metadata": {
        "id": "5K5gC4zzTKFr"
      },
      "outputs": [],
      "source": [
        "# Functions for batching\n",
        "def batch_halving_search(search_model, X, y, batch_size):\n",
        "    num_samples = X.shape[0]\n",
        "    for start in tqdm(range(0, num_samples, batch_size)):\n",
        "        end = min(start + batch_size, num_samples)\n",
        "        X_batch, y_batch = X[start:end], y[start:end]\n",
        "        search_model.fit(X_batch, y_batch)\n",
        "\n",
        "# Define the batching function\n",
        "def batch_random_search(search_model, X, y, batch_size):\n",
        "    num_samples = X.shape[0]\n",
        "    all_scores = []\n",
        "\n",
        "    for start in tqdm(range(0, num_samples, batch_size), desc=\"Batch processing\"):\n",
        "        end = min(start + batch_size, num_samples)\n",
        "        X_batch, y_batch = X[start:end], y[start:end]\n",
        "\n",
        "        # Fit the search model on the batch\n",
        "        search_model.fit(X_batch, y_batch)\n",
        "\n",
        "        # Collect cross-validation results\n",
        "        batch_results = search_model.cv_results_\n",
        "        all_scores.append(batch_results)\n",
        "\n",
        "    return all_scores"
      ]
    },
    {
      "cell_type": "code",
      "execution_count": null,
      "metadata": {
        "id": "OPoXOODmTKFr",
        "outputId": "361d7442-4f4f-4d6b-d7fe-e5425c21f9a4"
      },
      "outputs": [
        {
          "name": "stderr",
          "output_type": "stream",
          "text": [
            "Batch processing:   0%|          | 0/8 [00:00<?, ?it/s]<frozen importlib._bootstrap>:914: ImportWarning: _SixMetaPathImporter.find_spec() not found; falling back to find_module()\n",
            "/Library/Frameworks/Python.framework/Versions/3.10/lib/python3.10/site-packages/sklearn/linear_model/_stochastic_gradient.py:744: ConvergenceWarning: Maximum number of iteration reached before convergence. Consider increasing max_iter to improve the fit.\n",
            "  warnings.warn(\n",
            "/Library/Frameworks/Python.framework/Versions/3.10/lib/python3.10/site-packages/sklearn/linear_model/_stochastic_gradient.py:744: ConvergenceWarning: Maximum number of iteration reached before convergence. Consider increasing max_iter to improve the fit.\n",
            "  warnings.warn(\n",
            "/Library/Frameworks/Python.framework/Versions/3.10/lib/python3.10/site-packages/sklearn/linear_model/_stochastic_gradient.py:744: ConvergenceWarning: Maximum number of iteration reached before convergence. Consider increasing max_iter to improve the fit.\n",
            "  warnings.warn(\n",
            "/Library/Frameworks/Python.framework/Versions/3.10/lib/python3.10/site-packages/sklearn/linear_model/_stochastic_gradient.py:744: ConvergenceWarning: Maximum number of iteration reached before convergence. Consider increasing max_iter to improve the fit.\n",
            "  warnings.warn(\n",
            "/Library/Frameworks/Python.framework/Versions/3.10/lib/python3.10/site-packages/sklearn/linear_model/_stochastic_gradient.py:744: ConvergenceWarning: Maximum number of iteration reached before convergence. Consider increasing max_iter to improve the fit.\n",
            "  warnings.warn(\n",
            "/Library/Frameworks/Python.framework/Versions/3.10/lib/python3.10/site-packages/sklearn/linear_model/_stochastic_gradient.py:744: ConvergenceWarning: Maximum number of iteration reached before convergence. Consider increasing max_iter to improve the fit.\n",
            "  warnings.warn(\n",
            "/Library/Frameworks/Python.framework/Versions/3.10/lib/python3.10/site-packages/sklearn/linear_model/_stochastic_gradient.py:744: ConvergenceWarning: Maximum number of iteration reached before convergence. Consider increasing max_iter to improve the fit.\n",
            "  warnings.warn(\n",
            "Batch processing:  12%|█▎        | 1/8 [00:13<01:37, 13.92s/it]/Library/Frameworks/Python.framework/Versions/3.10/lib/python3.10/site-packages/sklearn/linear_model/_stochastic_gradient.py:744: ConvergenceWarning: Maximum number of iteration reached before convergence. Consider increasing max_iter to improve the fit.\n",
            "  warnings.warn(\n",
            "/Library/Frameworks/Python.framework/Versions/3.10/lib/python3.10/site-packages/sklearn/linear_model/_stochastic_gradient.py:744: ConvergenceWarning: Maximum number of iteration reached before convergence. Consider increasing max_iter to improve the fit.\n",
            "  warnings.warn(\n",
            "/Library/Frameworks/Python.framework/Versions/3.10/lib/python3.10/site-packages/sklearn/linear_model/_stochastic_gradient.py:744: ConvergenceWarning: Maximum number of iteration reached before convergence. Consider increasing max_iter to improve the fit.\n",
            "  warnings.warn(\n",
            "/Library/Frameworks/Python.framework/Versions/3.10/lib/python3.10/site-packages/sklearn/linear_model/_stochastic_gradient.py:744: ConvergenceWarning: Maximum number of iteration reached before convergence. Consider increasing max_iter to improve the fit.\n",
            "  warnings.warn(\n",
            "/Library/Frameworks/Python.framework/Versions/3.10/lib/python3.10/site-packages/sklearn/linear_model/_stochastic_gradient.py:744: ConvergenceWarning: Maximum number of iteration reached before convergence. Consider increasing max_iter to improve the fit.\n",
            "  warnings.warn(\n",
            "/Library/Frameworks/Python.framework/Versions/3.10/lib/python3.10/site-packages/sklearn/linear_model/_stochastic_gradient.py:744: ConvergenceWarning: Maximum number of iteration reached before convergence. Consider increasing max_iter to improve the fit.\n",
            "  warnings.warn(\n",
            "/Library/Frameworks/Python.framework/Versions/3.10/lib/python3.10/site-packages/sklearn/linear_model/_stochastic_gradient.py:744: ConvergenceWarning: Maximum number of iteration reached before convergence. Consider increasing max_iter to improve the fit.\n",
            "  warnings.warn(\n",
            "Batch processing:  25%|██▌       | 2/8 [00:32<01:40, 16.80s/it]/Library/Frameworks/Python.framework/Versions/3.10/lib/python3.10/site-packages/sklearn/linear_model/_stochastic_gradient.py:744: ConvergenceWarning: Maximum number of iteration reached before convergence. Consider increasing max_iter to improve the fit.\n",
            "  warnings.warn(\n",
            "/Library/Frameworks/Python.framework/Versions/3.10/lib/python3.10/site-packages/sklearn/linear_model/_stochastic_gradient.py:744: ConvergenceWarning: Maximum number of iteration reached before convergence. Consider increasing max_iter to improve the fit.\n",
            "  warnings.warn(\n",
            "/Library/Frameworks/Python.framework/Versions/3.10/lib/python3.10/site-packages/sklearn/linear_model/_stochastic_gradient.py:744: ConvergenceWarning: Maximum number of iteration reached before convergence. Consider increasing max_iter to improve the fit.\n",
            "  warnings.warn(\n",
            "/Library/Frameworks/Python.framework/Versions/3.10/lib/python3.10/site-packages/sklearn/linear_model/_stochastic_gradient.py:744: ConvergenceWarning: Maximum number of iteration reached before convergence. Consider increasing max_iter to improve the fit.\n",
            "  warnings.warn(\n",
            "/Library/Frameworks/Python.framework/Versions/3.10/lib/python3.10/site-packages/sklearn/linear_model/_stochastic_gradient.py:744: ConvergenceWarning: Maximum number of iteration reached before convergence. Consider increasing max_iter to improve the fit.\n",
            "  warnings.warn(\n",
            "/Library/Frameworks/Python.framework/Versions/3.10/lib/python3.10/site-packages/sklearn/linear_model/_stochastic_gradient.py:744: ConvergenceWarning: Maximum number of iteration reached before convergence. Consider increasing max_iter to improve the fit.\n",
            "  warnings.warn(\n",
            "/Library/Frameworks/Python.framework/Versions/3.10/lib/python3.10/site-packages/sklearn/linear_model/_stochastic_gradient.py:744: ConvergenceWarning: Maximum number of iteration reached before convergence. Consider increasing max_iter to improve the fit.\n",
            "  warnings.warn(\n",
            "/Library/Frameworks/Python.framework/Versions/3.10/lib/python3.10/site-packages/sklearn/linear_model/_stochastic_gradient.py:744: ConvergenceWarning: Maximum number of iteration reached before convergence. Consider increasing max_iter to improve the fit.\n",
            "  warnings.warn(\n",
            "/Library/Frameworks/Python.framework/Versions/3.10/lib/python3.10/site-packages/sklearn/linear_model/_stochastic_gradient.py:744: ConvergenceWarning: Maximum number of iteration reached before convergence. Consider increasing max_iter to improve the fit.\n",
            "  warnings.warn(\n",
            "/Library/Frameworks/Python.framework/Versions/3.10/lib/python3.10/site-packages/sklearn/linear_model/_stochastic_gradient.py:744: ConvergenceWarning: Maximum number of iteration reached before convergence. Consider increasing max_iter to improve the fit.\n",
            "  warnings.warn(\n",
            "Batch processing:  38%|███▊      | 3/8 [01:00<01:50, 22.03s/it]/Library/Frameworks/Python.framework/Versions/3.10/lib/python3.10/site-packages/sklearn/linear_model/_stochastic_gradient.py:744: ConvergenceWarning: Maximum number of iteration reached before convergence. Consider increasing max_iter to improve the fit.\n",
            "  warnings.warn(\n",
            "/Library/Frameworks/Python.framework/Versions/3.10/lib/python3.10/site-packages/sklearn/linear_model/_stochastic_gradient.py:744: ConvergenceWarning: Maximum number of iteration reached before convergence. Consider increasing max_iter to improve the fit.\n",
            "  warnings.warn(\n",
            "/Library/Frameworks/Python.framework/Versions/3.10/lib/python3.10/site-packages/sklearn/linear_model/_stochastic_gradient.py:744: ConvergenceWarning: Maximum number of iteration reached before convergence. Consider increasing max_iter to improve the fit.\n",
            "  warnings.warn(\n",
            "/Library/Frameworks/Python.framework/Versions/3.10/lib/python3.10/site-packages/sklearn/linear_model/_stochastic_gradient.py:744: ConvergenceWarning: Maximum number of iteration reached before convergence. Consider increasing max_iter to improve the fit.\n",
            "  warnings.warn(\n",
            "/Library/Frameworks/Python.framework/Versions/3.10/lib/python3.10/site-packages/sklearn/linear_model/_stochastic_gradient.py:744: ConvergenceWarning: Maximum number of iteration reached before convergence. Consider increasing max_iter to improve the fit.\n",
            "  warnings.warn(\n",
            "/Library/Frameworks/Python.framework/Versions/3.10/lib/python3.10/site-packages/sklearn/linear_model/_stochastic_gradient.py:744: ConvergenceWarning: Maximum number of iteration reached before convergence. Consider increasing max_iter to improve the fit.\n",
            "  warnings.warn(\n",
            "/Library/Frameworks/Python.framework/Versions/3.10/lib/python3.10/site-packages/sklearn/linear_model/_stochastic_gradient.py:744: ConvergenceWarning: Maximum number of iteration reached before convergence. Consider increasing max_iter to improve the fit.\n",
            "  warnings.warn(\n",
            "/Library/Frameworks/Python.framework/Versions/3.10/lib/python3.10/site-packages/sklearn/linear_model/_stochastic_gradient.py:744: ConvergenceWarning: Maximum number of iteration reached before convergence. Consider increasing max_iter to improve the fit.\n",
            "  warnings.warn(\n",
            "/Library/Frameworks/Python.framework/Versions/3.10/lib/python3.10/site-packages/sklearn/linear_model/_stochastic_gradient.py:744: ConvergenceWarning: Maximum number of iteration reached before convergence. Consider increasing max_iter to improve the fit.\n",
            "  warnings.warn(\n",
            "Batch processing:  50%|█████     | 4/8 [01:20<01:24, 21.13s/it]/Library/Frameworks/Python.framework/Versions/3.10/lib/python3.10/site-packages/sklearn/linear_model/_stochastic_gradient.py:744: ConvergenceWarning: Maximum number of iteration reached before convergence. Consider increasing max_iter to improve the fit.\n",
            "  warnings.warn(\n",
            "/Library/Frameworks/Python.framework/Versions/3.10/lib/python3.10/site-packages/sklearn/linear_model/_stochastic_gradient.py:744: ConvergenceWarning: Maximum number of iteration reached before convergence. Consider increasing max_iter to improve the fit.\n",
            "  warnings.warn(\n",
            "/Library/Frameworks/Python.framework/Versions/3.10/lib/python3.10/site-packages/sklearn/linear_model/_stochastic_gradient.py:744: ConvergenceWarning: Maximum number of iteration reached before convergence. Consider increasing max_iter to improve the fit.\n",
            "  warnings.warn(\n",
            "/Library/Frameworks/Python.framework/Versions/3.10/lib/python3.10/site-packages/sklearn/linear_model/_stochastic_gradient.py:744: ConvergenceWarning: Maximum number of iteration reached before convergence. Consider increasing max_iter to improve the fit.\n",
            "  warnings.warn(\n",
            "/Library/Frameworks/Python.framework/Versions/3.10/lib/python3.10/site-packages/sklearn/linear_model/_stochastic_gradient.py:744: ConvergenceWarning: Maximum number of iteration reached before convergence. Consider increasing max_iter to improve the fit.\n",
            "  warnings.warn(\n",
            "/Library/Frameworks/Python.framework/Versions/3.10/lib/python3.10/site-packages/sklearn/linear_model/_stochastic_gradient.py:744: ConvergenceWarning: Maximum number of iteration reached before convergence. Consider increasing max_iter to improve the fit.\n",
            "  warnings.warn(\n",
            "/Library/Frameworks/Python.framework/Versions/3.10/lib/python3.10/site-packages/sklearn/linear_model/_stochastic_gradient.py:744: ConvergenceWarning: Maximum number of iteration reached before convergence. Consider increasing max_iter to improve the fit.\n",
            "  warnings.warn(\n",
            "/Library/Frameworks/Python.framework/Versions/3.10/lib/python3.10/site-packages/sklearn/linear_model/_stochastic_gradient.py:744: ConvergenceWarning: Maximum number of iteration reached before convergence. Consider increasing max_iter to improve the fit.\n",
            "  warnings.warn(\n",
            "/Library/Frameworks/Python.framework/Versions/3.10/lib/python3.10/site-packages/sklearn/linear_model/_stochastic_gradient.py:744: ConvergenceWarning: Maximum number of iteration reached before convergence. Consider increasing max_iter to improve the fit.\n",
            "  warnings.warn(\n",
            "Batch processing:  62%|██████▎   | 5/8 [01:40<01:01, 20.62s/it]/Library/Frameworks/Python.framework/Versions/3.10/lib/python3.10/site-packages/sklearn/linear_model/_stochastic_gradient.py:744: ConvergenceWarning: Maximum number of iteration reached before convergence. Consider increasing max_iter to improve the fit.\n",
            "  warnings.warn(\n",
            "/Library/Frameworks/Python.framework/Versions/3.10/lib/python3.10/site-packages/sklearn/linear_model/_stochastic_gradient.py:744: ConvergenceWarning: Maximum number of iteration reached before convergence. Consider increasing max_iter to improve the fit.\n",
            "  warnings.warn(\n",
            "/Library/Frameworks/Python.framework/Versions/3.10/lib/python3.10/site-packages/sklearn/linear_model/_stochastic_gradient.py:744: ConvergenceWarning: Maximum number of iteration reached before convergence. Consider increasing max_iter to improve the fit.\n",
            "  warnings.warn(\n",
            "/Library/Frameworks/Python.framework/Versions/3.10/lib/python3.10/site-packages/sklearn/linear_model/_stochastic_gradient.py:744: ConvergenceWarning: Maximum number of iteration reached before convergence. Consider increasing max_iter to improve the fit.\n",
            "  warnings.warn(\n",
            "/Library/Frameworks/Python.framework/Versions/3.10/lib/python3.10/site-packages/sklearn/linear_model/_stochastic_gradient.py:744: ConvergenceWarning: Maximum number of iteration reached before convergence. Consider increasing max_iter to improve the fit.\n",
            "  warnings.warn(\n",
            "/Library/Frameworks/Python.framework/Versions/3.10/lib/python3.10/site-packages/sklearn/linear_model/_stochastic_gradient.py:744: ConvergenceWarning: Maximum number of iteration reached before convergence. Consider increasing max_iter to improve the fit.\n",
            "  warnings.warn(\n",
            "/Library/Frameworks/Python.framework/Versions/3.10/lib/python3.10/site-packages/sklearn/linear_model/_stochastic_gradient.py:744: ConvergenceWarning: Maximum number of iteration reached before convergence. Consider increasing max_iter to improve the fit.\n",
            "  warnings.warn(\n",
            "Batch processing:  75%|███████▌  | 6/8 [01:58<00:39, 19.80s/it]/Library/Frameworks/Python.framework/Versions/3.10/lib/python3.10/site-packages/sklearn/linear_model/_stochastic_gradient.py:744: ConvergenceWarning: Maximum number of iteration reached before convergence. Consider increasing max_iter to improve the fit.\n",
            "  warnings.warn(\n",
            "/Library/Frameworks/Python.framework/Versions/3.10/lib/python3.10/site-packages/sklearn/linear_model/_stochastic_gradient.py:744: ConvergenceWarning: Maximum number of iteration reached before convergence. Consider increasing max_iter to improve the fit.\n",
            "  warnings.warn(\n",
            "/Library/Frameworks/Python.framework/Versions/3.10/lib/python3.10/site-packages/sklearn/linear_model/_stochastic_gradient.py:744: ConvergenceWarning: Maximum number of iteration reached before convergence. Consider increasing max_iter to improve the fit.\n",
            "  warnings.warn(\n",
            "/Library/Frameworks/Python.framework/Versions/3.10/lib/python3.10/site-packages/sklearn/linear_model/_stochastic_gradient.py:744: ConvergenceWarning: Maximum number of iteration reached before convergence. Consider increasing max_iter to improve the fit.\n",
            "  warnings.warn(\n",
            "/Library/Frameworks/Python.framework/Versions/3.10/lib/python3.10/site-packages/sklearn/linear_model/_stochastic_gradient.py:744: ConvergenceWarning: Maximum number of iteration reached before convergence. Consider increasing max_iter to improve the fit.\n",
            "  warnings.warn(\n",
            "/Library/Frameworks/Python.framework/Versions/3.10/lib/python3.10/site-packages/sklearn/linear_model/_stochastic_gradient.py:744: ConvergenceWarning: Maximum number of iteration reached before convergence. Consider increasing max_iter to improve the fit.\n",
            "  warnings.warn(\n",
            "/Library/Frameworks/Python.framework/Versions/3.10/lib/python3.10/site-packages/sklearn/linear_model/_stochastic_gradient.py:744: ConvergenceWarning: Maximum number of iteration reached before convergence. Consider increasing max_iter to improve the fit.\n",
            "  warnings.warn(\n",
            "/Library/Frameworks/Python.framework/Versions/3.10/lib/python3.10/site-packages/sklearn/linear_model/_stochastic_gradient.py:744: ConvergenceWarning: Maximum number of iteration reached before convergence. Consider increasing max_iter to improve the fit.\n",
            "  warnings.warn(\n",
            "/Library/Frameworks/Python.framework/Versions/3.10/lib/python3.10/site-packages/sklearn/linear_model/_stochastic_gradient.py:744: ConvergenceWarning: Maximum number of iteration reached before convergence. Consider increasing max_iter to improve the fit.\n",
            "  warnings.warn(\n",
            "Batch processing:  88%|████████▊ | 7/8 [02:17<00:19, 19.55s/it]/Library/Frameworks/Python.framework/Versions/3.10/lib/python3.10/site-packages/sklearn/linear_model/_stochastic_gradient.py:744: ConvergenceWarning: Maximum number of iteration reached before convergence. Consider increasing max_iter to improve the fit.\n",
            "  warnings.warn(\n",
            "/Library/Frameworks/Python.framework/Versions/3.10/lib/python3.10/site-packages/sklearn/linear_model/_stochastic_gradient.py:744: ConvergenceWarning: Maximum number of iteration reached before convergence. Consider increasing max_iter to improve the fit.\n",
            "  warnings.warn(\n",
            "/Library/Frameworks/Python.framework/Versions/3.10/lib/python3.10/site-packages/sklearn/linear_model/_stochastic_gradient.py:744: ConvergenceWarning: Maximum number of iteration reached before convergence. Consider increasing max_iter to improve the fit.\n",
            "  warnings.warn(\n",
            "/Library/Frameworks/Python.framework/Versions/3.10/lib/python3.10/site-packages/sklearn/linear_model/_stochastic_gradient.py:744: ConvergenceWarning: Maximum number of iteration reached before convergence. Consider increasing max_iter to improve the fit.\n",
            "  warnings.warn(\n",
            "/Library/Frameworks/Python.framework/Versions/3.10/lib/python3.10/site-packages/sklearn/linear_model/_stochastic_gradient.py:744: ConvergenceWarning: Maximum number of iteration reached before convergence. Consider increasing max_iter to improve the fit.\n",
            "  warnings.warn(\n",
            "/Library/Frameworks/Python.framework/Versions/3.10/lib/python3.10/site-packages/sklearn/linear_model/_stochastic_gradient.py:744: ConvergenceWarning: Maximum number of iteration reached before convergence. Consider increasing max_iter to improve the fit.\n",
            "  warnings.warn(\n",
            "/Library/Frameworks/Python.framework/Versions/3.10/lib/python3.10/site-packages/sklearn/linear_model/_stochastic_gradient.py:744: ConvergenceWarning: Maximum number of iteration reached before convergence. Consider increasing max_iter to improve the fit.\n",
            "  warnings.warn(\n",
            "/Library/Frameworks/Python.framework/Versions/3.10/lib/python3.10/site-packages/sklearn/linear_model/_stochastic_gradient.py:744: ConvergenceWarning: Maximum number of iteration reached before convergence. Consider increasing max_iter to improve the fit.\n",
            "  warnings.warn(\n",
            "/Library/Frameworks/Python.framework/Versions/3.10/lib/python3.10/site-packages/sklearn/linear_model/_stochastic_gradient.py:744: ConvergenceWarning: Maximum number of iteration reached before convergence. Consider increasing max_iter to improve the fit.\n",
            "  warnings.warn(\n",
            "Batch processing: 100%|██████████| 8/8 [02:34<00:00, 19.28s/it]\n"
          ]
        }
      ],
      "source": [
        "# Hyperparameter tuning for SGDClassifier\n",
        "sgd_param_dist = {\n",
        "    'sgd__alpha': [0.0001, 0.001, 0.01],\n",
        "    'sgd__loss': ['hinge', 'log_loss', 'squared_hinge', 'modified_huber'],\n",
        "    'sgd__penalty': ['l2', 'l1', 'elasticnet'],\n",
        "    'sgd__max_iter': [300, 500, 1000, 1500, 2000, 2500],\n",
        "}\n",
        "\n",
        "# Define the pipeline\n",
        "lr_pipeline = Pipeline([\n",
        "    ('sgd', SGDClassifier(\n",
        "        warm_start=True,\n",
        "        random_state=42\n",
        "    ))\n",
        "])\n",
        "\n",
        "# Initialize RandomizedSearchCV\n",
        "sgd_search = RandomizedSearchCV(\n",
        "    estimator=lr_pipeline,\n",
        "    param_distributions=sgd_param_dist,\n",
        "    n_iter=20,\n",
        "    cv=3,\n",
        "    verbose=0,\n",
        "    n_jobs=-1,\n",
        "    random_state=42\n",
        ")\n",
        "\n",
        "batch_size = 40_000\n",
        "results = batch_random_search(sgd_search, X_train, y_train, batch_size)\n"
      ]
    },
    {
      "cell_type": "markdown",
      "metadata": {
        "id": "6J7bVDhWTKFs"
      },
      "source": [
        "This code performs hyperparameter tuning for an `SGDClassifier` using a batched approach combined with `RandomizedSearchCV`. Below are the main components of the script:\n",
        "\n",
        "#### **1. Batch Functions**\n",
        "- **`batch_halving_search`**:\n",
        "  - Splits the dataset into batches of size `batch_size` to train the model incrementally.\n",
        "  - Fits the model for each batch iteratively, reducing memory usage and improving training efficiency.\n",
        "\n",
        "- **`batch_random_search`**:\n",
        "  - Divides the dataset into smaller batches.\n",
        "  - For each batch:\n",
        "    - Executes randomized hyperparameter tuning using `RandomizedSearchCV`.\n",
        "    - Collects cross-validation results (`cv_results_`) for later analysis.\n",
        "\n",
        "#### **2. Hyperparameter Tuning**\n",
        "- Uses `RandomizedSearchCV` to optimize the following hyperparameters of the `SGDClassifier`:\n",
        "  - **`sgd__alpha`**: Regularization strength.\n",
        "  - **`sgd__loss`**: Specifies the loss function (e.g., `hinge`, `log_loss`, etc.).\n",
        "  - **`sgd__penalty`**: Type of regularization (e.g., `l2`, `l1`, etc.).\n",
        "  - **`sgd__max_iter`**: Maximum number of iterations for convergence.\n",
        "\n",
        "#### **3. Batched Hyperparameter Search**\n",
        "- The batch size is set to **40,000**.\n",
        "- The `batch_random_search` function:\n",
        "  - Divides the training data (`X_train`, `y_train`) into batches.\n",
        "  - Executes `RandomizedSearchCV` on each batch to progressively explore the parameter space while saving computational resources."
      ]
    },
    {
      "cell_type": "markdown",
      "metadata": {
        "id": "SHNw7cM_TKFs"
      },
      "source": [
        "#### **Why Use Batch Processing?**\n",
        "\n",
        "Batch processing was implemented to handle the following challenges:\n",
        "1. **Large Dataset Size**:\n",
        "   - The dataset is large, making it memory-intensive to process at once. Splitting the dataset into smaller batches reduces memory overhead.\n",
        "\n",
        "2. **Efficient Hyperparameter Tuning**:\n",
        "   - RandomizedSearchCV is computationally expensive, especially with cross-validation. By processing in batches, the system avoids overloading computational resources.\n",
        "\n",
        "3. **Incremental Learning Support**:\n",
        "   - The `warm_start=True` parameter in `SGDClassifier` allows for incremental training. Batch processing leverages this feature to train the model progressively without starting over.\n",
        "\n",
        "4. **Resource Optimization**:\n",
        "   - Dividing the workload into smaller parts helps distribute computational load and allows the use of parallel processing."
      ]
    },
    {
      "cell_type": "code",
      "execution_count": null,
      "metadata": {
        "id": "zrCpjKEzTKFs",
        "outputId": "7b5c06fa-8904-4c7b-d667-06f628fc22e7"
      },
      "outputs": [
        {
          "name": "stdout",
          "output_type": "stream",
          "text": [
            "Best parameters found: {'sgd__penalty': 'l2', 'sgd__max_iter': 2500, 'sgd__loss': 'hinge', 'sgd__alpha': 0.0001}\n",
            "Best cross-validation score: 0.8383653552912474\n",
            "SGD Classifier Accuracy: 0.84\n",
            "SGD Classifier Classification Report:\n",
            "               precision    recall  f1-score   support\n",
            "\n",
            "           0       0.83      0.85      0.84     67671\n",
            "           1       0.84      0.83      0.84     67788\n",
            "\n",
            "    accuracy                           0.84    135459\n",
            "   macro avg       0.84      0.84      0.84    135459\n",
            "weighted avg       0.84      0.84      0.84    135459\n",
            "\n",
            "SGD Classifier Confusion Matrix:\n",
            " [[57297 10374]\n",
            " [11380 56408]]\n"
          ]
        }
      ],
      "source": [
        "final_best_params = sgd_search.best_params_\n",
        "final_best_score = sgd_search.best_score_\n",
        "\n",
        "print(\"Best parameters found:\", final_best_params)\n",
        "print(\"Best cross-validation score:\", final_best_score)\n",
        "\n",
        "y_pred_lr = sgd_search.predict(X_test)\n",
        "accuracy_lr = accuracy_score(y_test, y_pred_lr)\n",
        "report_lr = classification_report(y_test, y_pred_lr)\n",
        "conf_matrix_lr = confusion_matrix(y_test, y_pred_lr)\n",
        "\n",
        "print(f\"SGD Classifier Accuracy: {accuracy_lr:.2f}\")\n",
        "print(\"SGD Classifier Classification Report:\\n\", report_lr)\n",
        "print(\"SGD Classifier Confusion Matrix:\\n\", conf_matrix_lr)\n"
      ]
    },
    {
      "cell_type": "markdown",
      "metadata": {
        "id": "7rgO6D9ZTKFs"
      },
      "source": [
        "#### **Model Result Interpretation**\n",
        "1. **Best Parameters**  \n",
        "   - The optimal hyperparameters found using cross-validation are:\n",
        "     - Penalty: `'l2'`\n",
        "     - Max Iterations: `2500`\n",
        "     - Loss: `'hinge'`\n",
        "     - Alpha: `0.0001`\n",
        "   - These parameters minimize the hinge loss while applying L2 regularization.\n",
        "\n",
        "2. **Best Cross-Validation Score**  \n",
        "   - The model achieved a best cross-validation score of `0.8384`.\n",
        "\n",
        "3. **Test Accuracy**  \n",
        "   - The model's accuracy on the test dataset is `0.84`.\n",
        "\n",
        "4. **Classification Report**  \n",
        "   - The precision, recall, and F1-score for each class are as follows:\n",
        "     - Class `0`: Precision = `0.83`, Recall = `0.85`, F1-Score = `0.84`\n",
        "     - Class `1`: Precision = `0.84`, Recall = `0.83`, F1-Score = `0.84`\n",
        "   - Both macro and weighted averages for all metrics are `0.84`.\n",
        "\n",
        "5. **Confusion Matrix**  \n",
        "   - This indicates that:\n",
        "     - The model correctly predicted `57,297` instances of Class `0` and `56,408` instances of Class `1`.\n",
        "     - There were `10,374` false positives and `11,380` false negatives.\n",
        "\n",
        "6. **Conclusion**  \n",
        "   - The SGD classifier performs well with balanced precision, recall, and F1-scores across both classes, making it a reliable model for binary classification tasks.\n"
      ]
    },
    {
      "cell_type": "markdown",
      "metadata": {
        "id": "K3b8lCeRTKFs"
      },
      "source": [
        "## Random Forest"
      ]
    },
    {
      "cell_type": "code",
      "execution_count": null,
      "metadata": {
        "id": "KB5L_6sGTKFs",
        "outputId": "2b6a5bee-4aa0-45b8-f108-dfbf76019690"
      },
      "outputs": [
        {
          "name": "stderr",
          "output_type": "stream",
          "text": [
            "  0%|          | 0/11 [00:00<?, ?it/s]"
          ]
        },
        {
          "name": "stdout",
          "output_type": "stream",
          "text": [
            "n_iterations: 7\n",
            "n_required_iterations: 7\n",
            "n_possible_iterations: 7\n",
            "min_resources_: 468\n",
            "max_resources_: 30000\n",
            "aggressive_elimination: False\n",
            "factor: 2\n",
            "----------\n",
            "iter: 0\n",
            "n_candidates: 96\n",
            "n_resources: 468\n",
            "Fitting 3 folds for each of 96 candidates, totalling 288 fits\n",
            "----------\n",
            "iter: 1\n",
            "n_candidates: 48\n",
            "n_resources: 936\n",
            "Fitting 3 folds for each of 48 candidates, totalling 144 fits\n"
          ]
        },
        {
          "name": "stderr",
          "output_type": "stream",
          "text": [
            "/Library/Frameworks/Python.framework/Versions/3.10/lib/python3.10/site-packages/numpy/ma/core.py:2820: RuntimeWarning: invalid value encountered in cast\n",
            "  _data = np.array(data, dtype=dtype, copy=copy,\n"
          ]
        },
        {
          "name": "stdout",
          "output_type": "stream",
          "text": [
            "----------\n",
            "iter: 2\n",
            "n_candidates: 24\n",
            "n_resources: 1872\n",
            "Fitting 3 folds for each of 24 candidates, totalling 72 fits\n",
            "----------\n",
            "iter: 3\n",
            "n_candidates: 12\n",
            "n_resources: 3744\n",
            "Fitting 3 folds for each of 12 candidates, totalling 36 fits\n"
          ]
        },
        {
          "name": "stderr",
          "output_type": "stream",
          "text": [
            "/Library/Frameworks/Python.framework/Versions/3.10/lib/python3.10/site-packages/numpy/ma/core.py:2820: RuntimeWarning: invalid value encountered in cast\n",
            "  _data = np.array(data, dtype=dtype, copy=copy,\n"
          ]
        },
        {
          "name": "stdout",
          "output_type": "stream",
          "text": [
            "----------\n",
            "iter: 4\n",
            "n_candidates: 6\n",
            "n_resources: 7488\n",
            "Fitting 3 folds for each of 6 candidates, totalling 18 fits\n"
          ]
        },
        {
          "name": "stderr",
          "output_type": "stream",
          "text": [
            "/Library/Frameworks/Python.framework/Versions/3.10/lib/python3.10/site-packages/numpy/ma/core.py:2820: RuntimeWarning: invalid value encountered in cast\n",
            "  _data = np.array(data, dtype=dtype, copy=copy,\n"
          ]
        },
        {
          "name": "stdout",
          "output_type": "stream",
          "text": [
            "----------\n",
            "iter: 5\n",
            "n_candidates: 3\n",
            "n_resources: 14976\n",
            "Fitting 3 folds for each of 3 candidates, totalling 9 fits\n"
          ]
        },
        {
          "name": "stderr",
          "output_type": "stream",
          "text": [
            "/Library/Frameworks/Python.framework/Versions/3.10/lib/python3.10/site-packages/numpy/ma/core.py:2820: RuntimeWarning: invalid value encountered in cast\n",
            "  _data = np.array(data, dtype=dtype, copy=copy,\n"
          ]
        },
        {
          "name": "stdout",
          "output_type": "stream",
          "text": [
            "----------\n",
            "iter: 6\n",
            "n_candidates: 2\n",
            "n_resources: 29952\n",
            "Fitting 3 folds for each of 2 candidates, totalling 6 fits\n"
          ]
        },
        {
          "name": "stderr",
          "output_type": "stream",
          "text": [
            "  9%|▉         | 1/11 [01:57<19:38, 117.87s/it]"
          ]
        },
        {
          "name": "stdout",
          "output_type": "stream",
          "text": [
            "n_iterations: 7\n",
            "n_required_iterations: 7\n",
            "n_possible_iterations: 7\n",
            "min_resources_: 468\n",
            "max_resources_: 30000\n",
            "aggressive_elimination: False\n",
            "factor: 2\n",
            "----------\n",
            "iter: 0\n",
            "n_candidates: 96\n",
            "n_resources: 468\n",
            "Fitting 3 folds for each of 96 candidates, totalling 288 fits\n",
            "----------\n",
            "iter: 1\n",
            "n_candidates: 48\n",
            "n_resources: 936\n",
            "Fitting 3 folds for each of 48 candidates, totalling 144 fits\n"
          ]
        },
        {
          "name": "stderr",
          "output_type": "stream",
          "text": [
            "/Library/Frameworks/Python.framework/Versions/3.10/lib/python3.10/site-packages/numpy/ma/core.py:2820: RuntimeWarning: invalid value encountered in cast\n",
            "  _data = np.array(data, dtype=dtype, copy=copy,\n"
          ]
        },
        {
          "name": "stdout",
          "output_type": "stream",
          "text": [
            "----------\n",
            "iter: 2\n",
            "n_candidates: 24\n",
            "n_resources: 1872\n",
            "Fitting 3 folds for each of 24 candidates, totalling 72 fits\n"
          ]
        },
        {
          "name": "stderr",
          "output_type": "stream",
          "text": [
            "/Library/Frameworks/Python.framework/Versions/3.10/lib/python3.10/site-packages/numpy/ma/core.py:2820: RuntimeWarning: invalid value encountered in cast\n",
            "  _data = np.array(data, dtype=dtype, copy=copy,\n"
          ]
        },
        {
          "name": "stdout",
          "output_type": "stream",
          "text": [
            "----------\n",
            "iter: 3\n",
            "n_candidates: 12\n",
            "n_resources: 3744\n",
            "Fitting 3 folds for each of 12 candidates, totalling 36 fits\n"
          ]
        },
        {
          "name": "stderr",
          "output_type": "stream",
          "text": [
            "/Library/Frameworks/Python.framework/Versions/3.10/lib/python3.10/site-packages/numpy/ma/core.py:2820: RuntimeWarning: invalid value encountered in cast\n",
            "  _data = np.array(data, dtype=dtype, copy=copy,\n"
          ]
        },
        {
          "name": "stdout",
          "output_type": "stream",
          "text": [
            "----------\n",
            "iter: 4\n",
            "n_candidates: 6\n",
            "n_resources: 7488\n",
            "Fitting 3 folds for each of 6 candidates, totalling 18 fits\n"
          ]
        },
        {
          "name": "stderr",
          "output_type": "stream",
          "text": [
            "/Library/Frameworks/Python.framework/Versions/3.10/lib/python3.10/site-packages/numpy/ma/core.py:2820: RuntimeWarning: invalid value encountered in cast\n",
            "  _data = np.array(data, dtype=dtype, copy=copy,\n"
          ]
        },
        {
          "name": "stdout",
          "output_type": "stream",
          "text": [
            "----------\n",
            "iter: 5\n",
            "n_candidates: 3\n",
            "n_resources: 14976\n",
            "Fitting 3 folds for each of 3 candidates, totalling 9 fits\n"
          ]
        },
        {
          "name": "stderr",
          "output_type": "stream",
          "text": [
            "/Library/Frameworks/Python.framework/Versions/3.10/lib/python3.10/site-packages/numpy/ma/core.py:2820: RuntimeWarning: invalid value encountered in cast\n",
            "  _data = np.array(data, dtype=dtype, copy=copy,\n"
          ]
        },
        {
          "name": "stdout",
          "output_type": "stream",
          "text": [
            "----------\n",
            "iter: 6\n",
            "n_candidates: 2\n",
            "n_resources: 29952\n",
            "Fitting 3 folds for each of 2 candidates, totalling 6 fits\n"
          ]
        },
        {
          "name": "stderr",
          "output_type": "stream",
          "text": [
            " 18%|█▊        | 2/11 [04:11<19:03, 127.09s/it]"
          ]
        },
        {
          "name": "stdout",
          "output_type": "stream",
          "text": [
            "n_iterations: 7\n",
            "n_required_iterations: 7\n",
            "n_possible_iterations: 7\n",
            "min_resources_: 468\n",
            "max_resources_: 30000\n",
            "aggressive_elimination: False\n",
            "factor: 2\n",
            "----------\n",
            "iter: 0\n",
            "n_candidates: 96\n",
            "n_resources: 468\n",
            "Fitting 3 folds for each of 96 candidates, totalling 288 fits\n",
            "----------\n",
            "iter: 1\n",
            "n_candidates: 48\n",
            "n_resources: 936\n",
            "Fitting 3 folds for each of 48 candidates, totalling 144 fits\n"
          ]
        },
        {
          "name": "stderr",
          "output_type": "stream",
          "text": [
            "/Library/Frameworks/Python.framework/Versions/3.10/lib/python3.10/site-packages/numpy/ma/core.py:2820: RuntimeWarning: invalid value encountered in cast\n",
            "  _data = np.array(data, dtype=dtype, copy=copy,\n"
          ]
        },
        {
          "name": "stdout",
          "output_type": "stream",
          "text": [
            "----------\n",
            "iter: 2\n",
            "n_candidates: 24\n",
            "n_resources: 1872\n",
            "Fitting 3 folds for each of 24 candidates, totalling 72 fits\n"
          ]
        },
        {
          "name": "stderr",
          "output_type": "stream",
          "text": [
            "/Library/Frameworks/Python.framework/Versions/3.10/lib/python3.10/site-packages/numpy/ma/core.py:2820: RuntimeWarning: invalid value encountered in cast\n",
            "  _data = np.array(data, dtype=dtype, copy=copy,\n"
          ]
        },
        {
          "name": "stdout",
          "output_type": "stream",
          "text": [
            "----------\n",
            "iter: 3\n",
            "n_candidates: 12\n",
            "n_resources: 3744\n",
            "Fitting 3 folds for each of 12 candidates, totalling 36 fits\n"
          ]
        },
        {
          "name": "stderr",
          "output_type": "stream",
          "text": [
            "/Library/Frameworks/Python.framework/Versions/3.10/lib/python3.10/site-packages/numpy/ma/core.py:2820: RuntimeWarning: invalid value encountered in cast\n",
            "  _data = np.array(data, dtype=dtype, copy=copy,\n"
          ]
        },
        {
          "name": "stdout",
          "output_type": "stream",
          "text": [
            "----------\n",
            "iter: 4\n",
            "n_candidates: 6\n",
            "n_resources: 7488\n",
            "Fitting 3 folds for each of 6 candidates, totalling 18 fits\n"
          ]
        },
        {
          "name": "stderr",
          "output_type": "stream",
          "text": [
            "/Library/Frameworks/Python.framework/Versions/3.10/lib/python3.10/site-packages/numpy/ma/core.py:2820: RuntimeWarning: invalid value encountered in cast\n",
            "  _data = np.array(data, dtype=dtype, copy=copy,\n"
          ]
        },
        {
          "name": "stdout",
          "output_type": "stream",
          "text": [
            "----------\n",
            "iter: 5\n",
            "n_candidates: 3\n",
            "n_resources: 14976\n",
            "Fitting 3 folds for each of 3 candidates, totalling 9 fits\n"
          ]
        },
        {
          "name": "stderr",
          "output_type": "stream",
          "text": [
            "/Library/Frameworks/Python.framework/Versions/3.10/lib/python3.10/site-packages/numpy/ma/core.py:2820: RuntimeWarning: invalid value encountered in cast\n",
            "  _data = np.array(data, dtype=dtype, copy=copy,\n"
          ]
        },
        {
          "name": "stdout",
          "output_type": "stream",
          "text": [
            "----------\n",
            "iter: 6\n",
            "n_candidates: 2\n",
            "n_resources: 29952\n",
            "Fitting 3 folds for each of 2 candidates, totalling 6 fits\n"
          ]
        },
        {
          "name": "stderr",
          "output_type": "stream",
          "text": [
            "/Library/Frameworks/Python.framework/Versions/3.10/lib/python3.10/site-packages/numpy/ma/core.py:2820: RuntimeWarning: invalid value encountered in cast\n",
            "  _data = np.array(data, dtype=dtype, copy=copy,\n",
            " 27%|██▋       | 3/11 [06:35<17:57, 134.74s/it]"
          ]
        },
        {
          "name": "stdout",
          "output_type": "stream",
          "text": [
            "n_iterations: 7\n",
            "n_required_iterations: 7\n",
            "n_possible_iterations: 7\n",
            "min_resources_: 468\n",
            "max_resources_: 30000\n",
            "aggressive_elimination: False\n",
            "factor: 2\n",
            "----------\n",
            "iter: 0\n",
            "n_candidates: 96\n",
            "n_resources: 468\n",
            "Fitting 3 folds for each of 96 candidates, totalling 288 fits\n",
            "----------\n",
            "iter: 1\n",
            "n_candidates: 48\n",
            "n_resources: 936\n",
            "Fitting 3 folds for each of 48 candidates, totalling 144 fits\n"
          ]
        },
        {
          "name": "stderr",
          "output_type": "stream",
          "text": [
            "/Library/Frameworks/Python.framework/Versions/3.10/lib/python3.10/site-packages/numpy/ma/core.py:2820: RuntimeWarning: invalid value encountered in cast\n",
            "  _data = np.array(data, dtype=dtype, copy=copy,\n"
          ]
        },
        {
          "name": "stdout",
          "output_type": "stream",
          "text": [
            "----------\n",
            "iter: 2\n",
            "n_candidates: 24\n",
            "n_resources: 1872\n",
            "Fitting 3 folds for each of 24 candidates, totalling 72 fits\n"
          ]
        },
        {
          "name": "stderr",
          "output_type": "stream",
          "text": [
            "/Library/Frameworks/Python.framework/Versions/3.10/lib/python3.10/site-packages/numpy/ma/core.py:2820: RuntimeWarning: invalid value encountered in cast\n",
            "  _data = np.array(data, dtype=dtype, copy=copy,\n"
          ]
        },
        {
          "name": "stdout",
          "output_type": "stream",
          "text": [
            "----------\n",
            "iter: 3\n",
            "n_candidates: 12\n",
            "n_resources: 3744\n",
            "Fitting 3 folds for each of 12 candidates, totalling 36 fits\n"
          ]
        },
        {
          "name": "stderr",
          "output_type": "stream",
          "text": [
            "/Library/Frameworks/Python.framework/Versions/3.10/lib/python3.10/site-packages/numpy/ma/core.py:2820: RuntimeWarning: invalid value encountered in cast\n",
            "  _data = np.array(data, dtype=dtype, copy=copy,\n"
          ]
        },
        {
          "name": "stdout",
          "output_type": "stream",
          "text": [
            "----------\n",
            "iter: 4\n",
            "n_candidates: 6\n",
            "n_resources: 7488\n",
            "Fitting 3 folds for each of 6 candidates, totalling 18 fits\n"
          ]
        },
        {
          "name": "stderr",
          "output_type": "stream",
          "text": [
            "/Library/Frameworks/Python.framework/Versions/3.10/lib/python3.10/site-packages/numpy/ma/core.py:2820: RuntimeWarning: invalid value encountered in cast\n",
            "  _data = np.array(data, dtype=dtype, copy=copy,\n"
          ]
        },
        {
          "name": "stdout",
          "output_type": "stream",
          "text": [
            "----------\n",
            "iter: 5\n",
            "n_candidates: 3\n",
            "n_resources: 14976\n",
            "Fitting 3 folds for each of 3 candidates, totalling 9 fits\n",
            "----------\n",
            "iter: 6\n",
            "n_candidates: 2\n",
            "n_resources: 29952\n",
            "Fitting 3 folds for each of 2 candidates, totalling 6 fits\n"
          ]
        },
        {
          "name": "stderr",
          "output_type": "stream",
          "text": [
            "/Library/Frameworks/Python.framework/Versions/3.10/lib/python3.10/site-packages/numpy/ma/core.py:2820: RuntimeWarning: invalid value encountered in cast\n",
            "  _data = np.array(data, dtype=dtype, copy=copy,\n",
            " 36%|███▋      | 4/11 [08:41<15:18, 131.23s/it]"
          ]
        },
        {
          "name": "stdout",
          "output_type": "stream",
          "text": [
            "n_iterations: 7\n",
            "n_required_iterations: 7\n",
            "n_possible_iterations: 7\n",
            "min_resources_: 468\n",
            "max_resources_: 30000\n",
            "aggressive_elimination: False\n",
            "factor: 2\n",
            "----------\n",
            "iter: 0\n",
            "n_candidates: 96\n",
            "n_resources: 468\n",
            "Fitting 3 folds for each of 96 candidates, totalling 288 fits\n",
            "----------\n",
            "iter: 1\n",
            "n_candidates: 48\n",
            "n_resources: 936\n",
            "Fitting 3 folds for each of 48 candidates, totalling 144 fits\n"
          ]
        },
        {
          "name": "stderr",
          "output_type": "stream",
          "text": [
            "/Library/Frameworks/Python.framework/Versions/3.10/lib/python3.10/site-packages/numpy/ma/core.py:2820: RuntimeWarning: invalid value encountered in cast\n",
            "  _data = np.array(data, dtype=dtype, copy=copy,\n"
          ]
        },
        {
          "name": "stdout",
          "output_type": "stream",
          "text": [
            "----------\n",
            "iter: 2\n",
            "n_candidates: 24\n",
            "n_resources: 1872\n",
            "Fitting 3 folds for each of 24 candidates, totalling 72 fits\n"
          ]
        },
        {
          "name": "stderr",
          "output_type": "stream",
          "text": [
            "/Library/Frameworks/Python.framework/Versions/3.10/lib/python3.10/site-packages/numpy/ma/core.py:2820: RuntimeWarning: invalid value encountered in cast\n",
            "  _data = np.array(data, dtype=dtype, copy=copy,\n"
          ]
        },
        {
          "name": "stdout",
          "output_type": "stream",
          "text": [
            "----------\n",
            "iter: 3\n",
            "n_candidates: 12\n",
            "n_resources: 3744\n",
            "Fitting 3 folds for each of 12 candidates, totalling 36 fits\n",
            "----------\n",
            "iter: 4\n",
            "n_candidates: 6\n",
            "n_resources: 7488\n",
            "Fitting 3 folds for each of 6 candidates, totalling 18 fits\n"
          ]
        },
        {
          "name": "stderr",
          "output_type": "stream",
          "text": [
            "/Library/Frameworks/Python.framework/Versions/3.10/lib/python3.10/site-packages/numpy/ma/core.py:2820: RuntimeWarning: invalid value encountered in cast\n",
            "  _data = np.array(data, dtype=dtype, copy=copy,\n"
          ]
        },
        {
          "name": "stdout",
          "output_type": "stream",
          "text": [
            "----------\n",
            "iter: 5\n",
            "n_candidates: 3\n",
            "n_resources: 14976\n",
            "Fitting 3 folds for each of 3 candidates, totalling 9 fits\n"
          ]
        },
        {
          "name": "stderr",
          "output_type": "stream",
          "text": [
            "/Library/Frameworks/Python.framework/Versions/3.10/lib/python3.10/site-packages/numpy/ma/core.py:2820: RuntimeWarning: invalid value encountered in cast\n",
            "  _data = np.array(data, dtype=dtype, copy=copy,\n"
          ]
        },
        {
          "name": "stdout",
          "output_type": "stream",
          "text": [
            "----------\n",
            "iter: 6\n",
            "n_candidates: 2\n",
            "n_resources: 29952\n",
            "Fitting 3 folds for each of 2 candidates, totalling 6 fits\n"
          ]
        },
        {
          "name": "stderr",
          "output_type": "stream",
          "text": [
            "/Library/Frameworks/Python.framework/Versions/3.10/lib/python3.10/site-packages/numpy/ma/core.py:2820: RuntimeWarning: invalid value encountered in cast\n",
            "  _data = np.array(data, dtype=dtype, copy=copy,\n",
            " 45%|████▌     | 5/11 [10:50<13:03, 130.61s/it]"
          ]
        },
        {
          "name": "stdout",
          "output_type": "stream",
          "text": [
            "n_iterations: 7\n",
            "n_required_iterations: 7\n",
            "n_possible_iterations: 7\n",
            "min_resources_: 468\n",
            "max_resources_: 30000\n",
            "aggressive_elimination: False\n",
            "factor: 2\n",
            "----------\n",
            "iter: 0\n",
            "n_candidates: 96\n",
            "n_resources: 468\n",
            "Fitting 3 folds for each of 96 candidates, totalling 288 fits\n",
            "----------\n",
            "iter: 1\n",
            "n_candidates: 48\n",
            "n_resources: 936\n",
            "Fitting 3 folds for each of 48 candidates, totalling 144 fits\n"
          ]
        },
        {
          "name": "stderr",
          "output_type": "stream",
          "text": [
            "/Library/Frameworks/Python.framework/Versions/3.10/lib/python3.10/site-packages/numpy/ma/core.py:2820: RuntimeWarning: invalid value encountered in cast\n",
            "  _data = np.array(data, dtype=dtype, copy=copy,\n"
          ]
        },
        {
          "name": "stdout",
          "output_type": "stream",
          "text": [
            "----------\n",
            "iter: 2\n",
            "n_candidates: 24\n",
            "n_resources: 1872\n",
            "Fitting 3 folds for each of 24 candidates, totalling 72 fits\n"
          ]
        },
        {
          "name": "stderr",
          "output_type": "stream",
          "text": [
            "/Library/Frameworks/Python.framework/Versions/3.10/lib/python3.10/site-packages/numpy/ma/core.py:2820: RuntimeWarning: invalid value encountered in cast\n",
            "  _data = np.array(data, dtype=dtype, copy=copy,\n"
          ]
        },
        {
          "name": "stdout",
          "output_type": "stream",
          "text": [
            "----------\n",
            "iter: 3\n",
            "n_candidates: 12\n",
            "n_resources: 3744\n",
            "Fitting 3 folds for each of 12 candidates, totalling 36 fits\n"
          ]
        },
        {
          "name": "stderr",
          "output_type": "stream",
          "text": [
            "/Library/Frameworks/Python.framework/Versions/3.10/lib/python3.10/site-packages/numpy/ma/core.py:2820: RuntimeWarning: invalid value encountered in cast\n",
            "  _data = np.array(data, dtype=dtype, copy=copy,\n"
          ]
        },
        {
          "name": "stdout",
          "output_type": "stream",
          "text": [
            "----------\n",
            "iter: 4\n",
            "n_candidates: 6\n",
            "n_resources: 7488\n",
            "Fitting 3 folds for each of 6 candidates, totalling 18 fits\n",
            "----------\n",
            "iter: 5\n",
            "n_candidates: 3\n",
            "n_resources: 14976\n",
            "Fitting 3 folds for each of 3 candidates, totalling 9 fits\n"
          ]
        },
        {
          "name": "stderr",
          "output_type": "stream",
          "text": [
            "/Library/Frameworks/Python.framework/Versions/3.10/lib/python3.10/site-packages/numpy/ma/core.py:2820: RuntimeWarning: invalid value encountered in cast\n",
            "  _data = np.array(data, dtype=dtype, copy=copy,\n"
          ]
        },
        {
          "name": "stdout",
          "output_type": "stream",
          "text": [
            "----------\n",
            "iter: 6\n",
            "n_candidates: 2\n",
            "n_resources: 29952\n",
            "Fitting 3 folds for each of 2 candidates, totalling 6 fits\n"
          ]
        },
        {
          "name": "stderr",
          "output_type": "stream",
          "text": [
            "/Library/Frameworks/Python.framework/Versions/3.10/lib/python3.10/site-packages/numpy/ma/core.py:2820: RuntimeWarning: invalid value encountered in cast\n",
            "  _data = np.array(data, dtype=dtype, copy=copy,\n",
            " 55%|█████▍    | 6/11 [12:49<10:33, 126.69s/it]"
          ]
        },
        {
          "name": "stdout",
          "output_type": "stream",
          "text": [
            "n_iterations: 7\n",
            "n_required_iterations: 7\n",
            "n_possible_iterations: 7\n",
            "min_resources_: 468\n",
            "max_resources_: 30000\n",
            "aggressive_elimination: False\n",
            "factor: 2\n",
            "----------\n",
            "iter: 0\n",
            "n_candidates: 96\n",
            "n_resources: 468\n",
            "Fitting 3 folds for each of 96 candidates, totalling 288 fits\n",
            "----------\n",
            "iter: 1\n",
            "n_candidates: 48\n",
            "n_resources: 936\n",
            "Fitting 3 folds for each of 48 candidates, totalling 144 fits\n"
          ]
        },
        {
          "name": "stderr",
          "output_type": "stream",
          "text": [
            "/Library/Frameworks/Python.framework/Versions/3.10/lib/python3.10/site-packages/numpy/ma/core.py:2820: RuntimeWarning: invalid value encountered in cast\n",
            "  _data = np.array(data, dtype=dtype, copy=copy,\n"
          ]
        },
        {
          "name": "stdout",
          "output_type": "stream",
          "text": [
            "----------\n",
            "iter: 2\n",
            "n_candidates: 24\n",
            "n_resources: 1872\n",
            "Fitting 3 folds for each of 24 candidates, totalling 72 fits\n"
          ]
        },
        {
          "name": "stderr",
          "output_type": "stream",
          "text": [
            "/Library/Frameworks/Python.framework/Versions/3.10/lib/python3.10/site-packages/numpy/ma/core.py:2820: RuntimeWarning: invalid value encountered in cast\n",
            "  _data = np.array(data, dtype=dtype, copy=copy,\n"
          ]
        },
        {
          "name": "stdout",
          "output_type": "stream",
          "text": [
            "----------\n",
            "iter: 3\n",
            "n_candidates: 12\n",
            "n_resources: 3744\n",
            "Fitting 3 folds for each of 12 candidates, totalling 36 fits\n"
          ]
        },
        {
          "name": "stderr",
          "output_type": "stream",
          "text": [
            "/Library/Frameworks/Python.framework/Versions/3.10/lib/python3.10/site-packages/numpy/ma/core.py:2820: RuntimeWarning: invalid value encountered in cast\n",
            "  _data = np.array(data, dtype=dtype, copy=copy,\n"
          ]
        },
        {
          "name": "stdout",
          "output_type": "stream",
          "text": [
            "----------\n",
            "iter: 4\n",
            "n_candidates: 6\n",
            "n_resources: 7488\n",
            "Fitting 3 folds for each of 6 candidates, totalling 18 fits\n"
          ]
        },
        {
          "name": "stderr",
          "output_type": "stream",
          "text": [
            "/Library/Frameworks/Python.framework/Versions/3.10/lib/python3.10/site-packages/numpy/ma/core.py:2820: RuntimeWarning: invalid value encountered in cast\n",
            "  _data = np.array(data, dtype=dtype, copy=copy,\n"
          ]
        },
        {
          "name": "stdout",
          "output_type": "stream",
          "text": [
            "----------\n",
            "iter: 5\n",
            "n_candidates: 3\n",
            "n_resources: 14976\n",
            "Fitting 3 folds for each of 3 candidates, totalling 9 fits\n"
          ]
        },
        {
          "name": "stderr",
          "output_type": "stream",
          "text": [
            "/Library/Frameworks/Python.framework/Versions/3.10/lib/python3.10/site-packages/numpy/ma/core.py:2820: RuntimeWarning: invalid value encountered in cast\n",
            "  _data = np.array(data, dtype=dtype, copy=copy,\n"
          ]
        },
        {
          "name": "stdout",
          "output_type": "stream",
          "text": [
            "----------\n",
            "iter: 6\n",
            "n_candidates: 2\n",
            "n_resources: 29952\n",
            "Fitting 3 folds for each of 2 candidates, totalling 6 fits\n"
          ]
        },
        {
          "name": "stderr",
          "output_type": "stream",
          "text": [
            "/Library/Frameworks/Python.framework/Versions/3.10/lib/python3.10/site-packages/numpy/ma/core.py:2820: RuntimeWarning: invalid value encountered in cast\n",
            "  _data = np.array(data, dtype=dtype, copy=copy,\n",
            " 64%|██████▎   | 7/11 [14:35<07:59, 119.97s/it]"
          ]
        },
        {
          "name": "stdout",
          "output_type": "stream",
          "text": [
            "n_iterations: 7\n",
            "n_required_iterations: 7\n",
            "n_possible_iterations: 7\n",
            "min_resources_: 468\n",
            "max_resources_: 30000\n",
            "aggressive_elimination: False\n",
            "factor: 2\n",
            "----------\n",
            "iter: 0\n",
            "n_candidates: 96\n",
            "n_resources: 468\n",
            "Fitting 3 folds for each of 96 candidates, totalling 288 fits\n",
            "----------\n",
            "iter: 1\n",
            "n_candidates: 48\n",
            "n_resources: 936\n",
            "Fitting 3 folds for each of 48 candidates, totalling 144 fits\n"
          ]
        },
        {
          "name": "stderr",
          "output_type": "stream",
          "text": [
            "/Library/Frameworks/Python.framework/Versions/3.10/lib/python3.10/site-packages/numpy/ma/core.py:2820: RuntimeWarning: invalid value encountered in cast\n",
            "  _data = np.array(data, dtype=dtype, copy=copy,\n"
          ]
        },
        {
          "name": "stdout",
          "output_type": "stream",
          "text": [
            "----------\n",
            "iter: 2\n",
            "n_candidates: 24\n",
            "n_resources: 1872\n",
            "Fitting 3 folds for each of 24 candidates, totalling 72 fits\n"
          ]
        },
        {
          "name": "stderr",
          "output_type": "stream",
          "text": [
            "/Library/Frameworks/Python.framework/Versions/3.10/lib/python3.10/site-packages/numpy/ma/core.py:2820: RuntimeWarning: invalid value encountered in cast\n",
            "  _data = np.array(data, dtype=dtype, copy=copy,\n"
          ]
        },
        {
          "name": "stdout",
          "output_type": "stream",
          "text": [
            "----------\n",
            "iter: 3\n",
            "n_candidates: 12\n",
            "n_resources: 3744\n",
            "Fitting 3 folds for each of 12 candidates, totalling 36 fits\n"
          ]
        },
        {
          "name": "stderr",
          "output_type": "stream",
          "text": [
            "/Library/Frameworks/Python.framework/Versions/3.10/lib/python3.10/site-packages/numpy/ma/core.py:2820: RuntimeWarning: invalid value encountered in cast\n",
            "  _data = np.array(data, dtype=dtype, copy=copy,\n"
          ]
        },
        {
          "name": "stdout",
          "output_type": "stream",
          "text": [
            "----------\n",
            "iter: 4\n",
            "n_candidates: 6\n",
            "n_resources: 7488\n",
            "Fitting 3 folds for each of 6 candidates, totalling 18 fits\n"
          ]
        },
        {
          "name": "stderr",
          "output_type": "stream",
          "text": [
            "/Library/Frameworks/Python.framework/Versions/3.10/lib/python3.10/site-packages/numpy/ma/core.py:2820: RuntimeWarning: invalid value encountered in cast\n",
            "  _data = np.array(data, dtype=dtype, copy=copy,\n"
          ]
        },
        {
          "name": "stdout",
          "output_type": "stream",
          "text": [
            "----------\n",
            "iter: 5\n",
            "n_candidates: 3\n",
            "n_resources: 14976\n",
            "Fitting 3 folds for each of 3 candidates, totalling 9 fits\n"
          ]
        },
        {
          "name": "stderr",
          "output_type": "stream",
          "text": [
            "/Library/Frameworks/Python.framework/Versions/3.10/lib/python3.10/site-packages/numpy/ma/core.py:2820: RuntimeWarning: invalid value encountered in cast\n",
            "  _data = np.array(data, dtype=dtype, copy=copy,\n"
          ]
        },
        {
          "name": "stdout",
          "output_type": "stream",
          "text": [
            "----------\n",
            "iter: 6\n",
            "n_candidates: 2\n",
            "n_resources: 29952\n",
            "Fitting 3 folds for each of 2 candidates, totalling 6 fits\n"
          ]
        },
        {
          "name": "stderr",
          "output_type": "stream",
          "text": [
            "/Library/Frameworks/Python.framework/Versions/3.10/lib/python3.10/site-packages/numpy/ma/core.py:2820: RuntimeWarning: invalid value encountered in cast\n",
            "  _data = np.array(data, dtype=dtype, copy=copy,\n",
            " 73%|███████▎  | 8/11 [16:32<05:56, 118.91s/it]"
          ]
        },
        {
          "name": "stdout",
          "output_type": "stream",
          "text": [
            "n_iterations: 7\n",
            "n_required_iterations: 7\n",
            "n_possible_iterations: 7\n",
            "min_resources_: 468\n",
            "max_resources_: 30000\n",
            "aggressive_elimination: False\n",
            "factor: 2\n",
            "----------\n",
            "iter: 0\n",
            "n_candidates: 96\n",
            "n_resources: 468\n",
            "Fitting 3 folds for each of 96 candidates, totalling 288 fits\n",
            "----------\n",
            "iter: 1\n",
            "n_candidates: 48\n",
            "n_resources: 936\n",
            "Fitting 3 folds for each of 48 candidates, totalling 144 fits\n",
            "----------\n",
            "iter: 2\n",
            "n_candidates: 24\n",
            "n_resources: 1872\n",
            "Fitting 3 folds for each of 24 candidates, totalling 72 fits\n",
            "----------\n",
            "iter: 3\n",
            "n_candidates: 12\n",
            "n_resources: 3744\n",
            "Fitting 3 folds for each of 12 candidates, totalling 36 fits\n",
            "----------\n",
            "iter: 4\n",
            "n_candidates: 6\n",
            "n_resources: 7488\n",
            "Fitting 3 folds for each of 6 candidates, totalling 18 fits\n"
          ]
        },
        {
          "name": "stderr",
          "output_type": "stream",
          "text": [
            "/Library/Frameworks/Python.framework/Versions/3.10/lib/python3.10/site-packages/numpy/ma/core.py:2820: RuntimeWarning: invalid value encountered in cast\n",
            "  _data = np.array(data, dtype=dtype, copy=copy,\n"
          ]
        },
        {
          "name": "stdout",
          "output_type": "stream",
          "text": [
            "----------\n",
            "iter: 5\n",
            "n_candidates: 3\n",
            "n_resources: 14976\n",
            "Fitting 3 folds for each of 3 candidates, totalling 9 fits\n",
            "----------\n",
            "iter: 6\n",
            "n_candidates: 2\n",
            "n_resources: 29952\n",
            "Fitting 3 folds for each of 2 candidates, totalling 6 fits\n"
          ]
        },
        {
          "name": "stderr",
          "output_type": "stream",
          "text": [
            " 82%|████████▏ | 9/11 [18:34<03:59, 119.98s/it]"
          ]
        },
        {
          "name": "stdout",
          "output_type": "stream",
          "text": [
            "n_iterations: 7\n",
            "n_required_iterations: 7\n",
            "n_possible_iterations: 7\n",
            "min_resources_: 468\n",
            "max_resources_: 30000\n",
            "aggressive_elimination: False\n",
            "factor: 2\n",
            "----------\n",
            "iter: 0\n",
            "n_candidates: 96\n",
            "n_resources: 468\n",
            "Fitting 3 folds for each of 96 candidates, totalling 288 fits\n",
            "----------\n",
            "iter: 1\n",
            "n_candidates: 48\n",
            "n_resources: 936\n",
            "Fitting 3 folds for each of 48 candidates, totalling 144 fits\n"
          ]
        },
        {
          "name": "stderr",
          "output_type": "stream",
          "text": [
            "/Library/Frameworks/Python.framework/Versions/3.10/lib/python3.10/site-packages/numpy/ma/core.py:2820: RuntimeWarning: invalid value encountered in cast\n",
            "  _data = np.array(data, dtype=dtype, copy=copy,\n"
          ]
        },
        {
          "name": "stdout",
          "output_type": "stream",
          "text": [
            "----------\n",
            "iter: 2\n",
            "n_candidates: 24\n",
            "n_resources: 1872\n",
            "Fitting 3 folds for each of 24 candidates, totalling 72 fits\n"
          ]
        },
        {
          "name": "stderr",
          "output_type": "stream",
          "text": [
            "/Library/Frameworks/Python.framework/Versions/3.10/lib/python3.10/site-packages/numpy/ma/core.py:2820: RuntimeWarning: invalid value encountered in cast\n",
            "  _data = np.array(data, dtype=dtype, copy=copy,\n"
          ]
        },
        {
          "name": "stdout",
          "output_type": "stream",
          "text": [
            "----------\n",
            "iter: 3\n",
            "n_candidates: 12\n",
            "n_resources: 3744\n",
            "Fitting 3 folds for each of 12 candidates, totalling 36 fits\n",
            "----------\n",
            "iter: 4\n",
            "n_candidates: 6\n",
            "n_resources: 7488\n",
            "Fitting 3 folds for each of 6 candidates, totalling 18 fits\n"
          ]
        },
        {
          "name": "stderr",
          "output_type": "stream",
          "text": [
            "/Library/Frameworks/Python.framework/Versions/3.10/lib/python3.10/site-packages/numpy/ma/core.py:2820: RuntimeWarning: invalid value encountered in cast\n",
            "  _data = np.array(data, dtype=dtype, copy=copy,\n"
          ]
        },
        {
          "name": "stdout",
          "output_type": "stream",
          "text": [
            "----------\n",
            "iter: 5\n",
            "n_candidates: 3\n",
            "n_resources: 14976\n",
            "Fitting 3 folds for each of 3 candidates, totalling 9 fits\n"
          ]
        },
        {
          "name": "stderr",
          "output_type": "stream",
          "text": [
            "/Library/Frameworks/Python.framework/Versions/3.10/lib/python3.10/site-packages/numpy/ma/core.py:2820: RuntimeWarning: invalid value encountered in cast\n",
            "  _data = np.array(data, dtype=dtype, copy=copy,\n"
          ]
        },
        {
          "name": "stdout",
          "output_type": "stream",
          "text": [
            "----------\n",
            "iter: 6\n",
            "n_candidates: 2\n",
            "n_resources: 29952\n",
            "Fitting 3 folds for each of 2 candidates, totalling 6 fits\n"
          ]
        },
        {
          "name": "stderr",
          "output_type": "stream",
          "text": [
            "/Library/Frameworks/Python.framework/Versions/3.10/lib/python3.10/site-packages/numpy/ma/core.py:2820: RuntimeWarning: invalid value encountered in cast\n",
            "  _data = np.array(data, dtype=dtype, copy=copy,\n",
            " 91%|█████████ | 10/11 [20:59<02:07, 127.53s/it]"
          ]
        },
        {
          "name": "stdout",
          "output_type": "stream",
          "text": [
            "n_iterations: 7\n",
            "n_required_iterations: 7\n",
            "n_possible_iterations: 7\n",
            "min_resources_: 251\n",
            "max_resources_: 16069\n",
            "aggressive_elimination: False\n",
            "factor: 2\n",
            "----------\n",
            "iter: 0\n",
            "n_candidates: 96\n",
            "n_resources: 251\n",
            "Fitting 3 folds for each of 96 candidates, totalling 288 fits\n",
            "----------\n",
            "iter: 1\n",
            "n_candidates: 48\n",
            "n_resources: 502\n",
            "Fitting 3 folds for each of 48 candidates, totalling 144 fits\n"
          ]
        },
        {
          "name": "stderr",
          "output_type": "stream",
          "text": [
            "/Library/Frameworks/Python.framework/Versions/3.10/lib/python3.10/site-packages/numpy/ma/core.py:2820: RuntimeWarning: invalid value encountered in cast\n",
            "  _data = np.array(data, dtype=dtype, copy=copy,\n"
          ]
        },
        {
          "name": "stdout",
          "output_type": "stream",
          "text": [
            "----------\n",
            "iter: 2\n",
            "n_candidates: 24\n",
            "n_resources: 1004\n",
            "Fitting 3 folds for each of 24 candidates, totalling 72 fits\n"
          ]
        },
        {
          "name": "stderr",
          "output_type": "stream",
          "text": [
            "/Library/Frameworks/Python.framework/Versions/3.10/lib/python3.10/site-packages/numpy/ma/core.py:2820: RuntimeWarning: invalid value encountered in cast\n",
            "  _data = np.array(data, dtype=dtype, copy=copy,\n"
          ]
        },
        {
          "name": "stdout",
          "output_type": "stream",
          "text": [
            "----------\n",
            "iter: 3\n",
            "n_candidates: 12\n",
            "n_resources: 2008\n",
            "Fitting 3 folds for each of 12 candidates, totalling 36 fits\n"
          ]
        },
        {
          "name": "stderr",
          "output_type": "stream",
          "text": [
            "/Library/Frameworks/Python.framework/Versions/3.10/lib/python3.10/site-packages/numpy/ma/core.py:2820: RuntimeWarning: invalid value encountered in cast\n",
            "  _data = np.array(data, dtype=dtype, copy=copy,\n"
          ]
        },
        {
          "name": "stdout",
          "output_type": "stream",
          "text": [
            "----------\n",
            "iter: 4\n",
            "n_candidates: 6\n",
            "n_resources: 4016\n",
            "Fitting 3 folds for each of 6 candidates, totalling 18 fits\n"
          ]
        },
        {
          "name": "stderr",
          "output_type": "stream",
          "text": [
            "/Library/Frameworks/Python.framework/Versions/3.10/lib/python3.10/site-packages/numpy/ma/core.py:2820: RuntimeWarning: invalid value encountered in cast\n",
            "  _data = np.array(data, dtype=dtype, copy=copy,\n"
          ]
        },
        {
          "name": "stdout",
          "output_type": "stream",
          "text": [
            "----------\n",
            "iter: 5\n",
            "n_candidates: 3\n",
            "n_resources: 8032\n",
            "Fitting 3 folds for each of 3 candidates, totalling 9 fits\n"
          ]
        },
        {
          "name": "stderr",
          "output_type": "stream",
          "text": [
            "/Library/Frameworks/Python.framework/Versions/3.10/lib/python3.10/site-packages/numpy/ma/core.py:2820: RuntimeWarning: invalid value encountered in cast\n",
            "  _data = np.array(data, dtype=dtype, copy=copy,\n"
          ]
        },
        {
          "name": "stdout",
          "output_type": "stream",
          "text": [
            "----------\n",
            "iter: 6\n",
            "n_candidates: 2\n",
            "n_resources: 16064\n",
            "Fitting 3 folds for each of 2 candidates, totalling 6 fits\n"
          ]
        },
        {
          "name": "stderr",
          "output_type": "stream",
          "text": [
            "/Library/Frameworks/Python.framework/Versions/3.10/lib/python3.10/site-packages/numpy/ma/core.py:2820: RuntimeWarning: invalid value encountered in cast\n",
            "  _data = np.array(data, dtype=dtype, copy=copy,\n",
            "100%|██████████| 11/11 [22:13<00:00, 121.20s/it]\n"
          ]
        }
      ],
      "source": [
        "rf_pipeline = Pipeline([\n",
        "    ('rf', RandomForestClassifier(\n",
        "        warm_start=True,\n",
        "        n_jobs=-1,\n",
        "        random_state=42\n",
        "    ))\n",
        "])\n",
        "rf_param_grid = {\n",
        "    'rf__n_estimators': [100, 300, 500, 1_000],\n",
        "    'rf__max_depth': [5, 10, 20, 30],\n",
        "    'rf__min_samples_split': [2, 5, 10],\n",
        "    'rf__criterion': ['gini', 'entropy']\n",
        "}\n",
        "\n",
        "rf_search = HalvingGridSearchCV(rf_pipeline, param_grid=rf_param_grid, cv=3, factor=2, verbose=1, n_jobs=-1)\n",
        "batch_halving_search(rf_search, X_train, y_train, batch_size=30_000)"
      ]
    },
    {
      "cell_type": "code",
      "execution_count": null,
      "metadata": {
        "id": "Z4TPCQzBTKFs",
        "outputId": "e2522162-04df-4bef-8086-f5088948394e"
      },
      "outputs": [
        {
          "name": "stdout",
          "output_type": "stream",
          "text": [
            "Best Parameters for RandomForestClassifier: {'rf__criterion': 'entropy', 'rf__max_depth': 30, 'rf__min_samples_split': 10, 'rf__n_estimators': 300}\n",
            "RandomForestClassifier Accuracy: 0.82\n",
            "RandomForestClassifier Report:\n",
            "               precision    recall  f1-score   support\n",
            "\n",
            "           0       0.81      0.82      0.82     67671\n",
            "           1       0.82      0.81      0.81     67788\n",
            "\n",
            "    accuracy                           0.82    135459\n",
            "   macro avg       0.82      0.82      0.82    135459\n",
            "weighted avg       0.82      0.82      0.82    135459\n",
            "\n",
            "RandomForestClassifier Confusion Matrix:\n",
            " [[55805 11866]\n",
            " [13041 54747]]\n"
          ]
        }
      ],
      "source": [
        "# Best model for RandomForestClassifier\n",
        "best_rf_pipeline = rf_search.best_estimator_\n",
        "print(\"Best Parameters for RandomForestClassifier:\", rf_search.best_params_)\n",
        "\n",
        "y_pred_lr = rf_search.predict(X_test)\n",
        "accuracy_lr = accuracy_score(y_test, y_pred_lr)\n",
        "report_lr = classification_report(y_test, y_pred_lr)\n",
        "conf_matrix_lr = confusion_matrix(y_test, y_pred_lr)\n",
        "\n",
        "print(f\"RandomForestClassifier Accuracy: {accuracy_lr:.2f}\")\n",
        "print(\"RandomForestClassifier Report:\\n\", report_lr)\n",
        "print(\"RandomForestClassifier Confusion Matrix:\\n\", conf_matrix_lr)"
      ]
    },
    {
      "cell_type": "markdown",
      "metadata": {
        "id": "WmNqBT-PTKFs"
      },
      "source": [
        "1. **Pipeline Definition**:\n",
        "   - A `Pipeline` is created with a `RandomForestClassifier` that supports:\n",
        "     - `warm_start=True`: Allows incremental fitting.\n",
        "     - `n_jobs=-1`: Enables parallel processing to speed up training.\n",
        "\n",
        "2. **Parameter Grid**:\n",
        "   - Hyperparameters to optimize using `HalvingGridSearchCV`:\n",
        "     - **`rf__n_estimators`**: Number of trees in the forest (100, 300, 500, 1000).\n",
        "     - **`rf__max_depth`**: Maximum depth of trees (5, 10, 20, 30).\n",
        "     - **`rf__min_samples_split`**: Minimum number of samples required to split an internal node (2, 5, 10).\n",
        "     - **`rf__criterion`**: Splitting criteria (`gini` or `entropy`).\n",
        "\n",
        "3. **HalvingGridSearchCV**:\n",
        "   - Uses a successive halving strategy to narrow down the hyperparameter search space.\n",
        "   - Reduces computational cost by progressively eliminating poor-performing parameter sets.\n",
        "\n",
        "4. **Batch Training**:\n",
        "   - `batch_halving_search` trains the model in batches (batch size = 30,000).\n",
        "   - Helps handle memory and computational constraints efficiently.\n",
        "\n",
        "5. **Evaluation**:\n",
        "   - **Best Parameters**: Displays the optimal hyperparameters.\n",
        "   - **Model Performance**:\n",
        "     - Accuracy on the test set.\n",
        "     - Classification report: Precision, Recall, F1-score.\n",
        "     - Confusion matrix: Breakdown of predictions into true positives, true negatives, false positives, and false negatives.\n"
      ]
    },
    {
      "cell_type": "markdown",
      "metadata": {
        "id": "CQss1erQTKFs"
      },
      "source": [
        "#### **Result Interpretation**\n",
        "\n",
        "1. **Best Parameters**  \n",
        "   - The optimal hyperparameters for the RandomForestClassifier were found to be:\n",
        "     - `rf__criterion`: `'entropy'`\n",
        "     - `rf__max_depth`: `30`\n",
        "     - `rf__min_samples_split`: `10`\n",
        "     - `rf__n_estimators`: `300`\n",
        "   - These parameters were selected to optimize the model's performance through grid search.\n",
        "\n",
        "2. **Model Accuracy**  \n",
        "   - The model achieved an accuracy of **0.82** on the test dataset.\n",
        "\n",
        "3. **Classification Report**  \n",
        "   - The precision, recall, and F1-score for each class are as follows:\n",
        "     - **Class 0**:\n",
        "       - Precision: `0.81`\n",
        "       - Recall: `0.82`\n",
        "       - F1-Score: `0.82`\n",
        "       - Support: `67,671`\n",
        "     - **Class 1**:\n",
        "       - Precision: `0.82`\n",
        "       - Recall: `0.81`\n",
        "       - F1-Score: `0.81`\n",
        "       - Support: `67,788`\n",
        "   - Averages:\n",
        "     - **Macro Average**:\n",
        "       - Precision: `0.82`\n",
        "       - Recall: `0.82`\n",
        "       - F1-Score: `0.82`\n",
        "     - **Weighted Average**:\n",
        "       - Precision: `0.82`\n",
        "       - Recall: `0.82`\n",
        "       - F1-Score: `0.82`\n",
        "\n",
        "4. **Confusion Matrix**  \n",
        "   - Explanation:\n",
        "     - **True Positives (Class 1 correctly predicted)**: `54,747`\n",
        "     - **True Negatives (Class 0 correctly predicted)**: `55,805`\n",
        "     - **False Positives (Class 0 misclassified as Class 1)**: `11,866`\n",
        "     - **False Negatives (Class 1 misclassified as Class 0)**: `13,041`\n",
        "\n",
        "5. **Conclusion**  \n",
        "   - The RandomForestClassifier performs we\n"
      ]
    },
    {
      "cell_type": "markdown",
      "metadata": {
        "id": "Wau-bkVuTKFs"
      },
      "source": [
        "#### **Overall Comparison: SGD Classifier vs. RandomForestClassifier**\n",
        "\n",
        "1. **Performance**  \n",
        "   - The **SGD Classifier** slightly outperforms the **RandomForestClassifier** in terms of accuracy and balanced metrics like precision, recall, and F1-scores.  \n",
        "   - While both models demonstrate good performance, the SGD Classifier has a marginal edge, likely due to its suitability for high-dimensional datasets and sparse features.\n",
        "\n",
        "2. **Model Complexity**  \n",
        "   - The **SGD Classifier** is computationally simpler and faster to train, especially on large datasets, given its reliance on stochastic gradient descent.  \n",
        "   - The **RandomForestClassifier**, being an ensemble method, is more complex and requires more computational resources due to the large number of estimators and depth of trees.\n",
        "\n",
        "3. **Interpretability**  \n",
        "   - The **SGD Classifier** is easier to interpret because it effectively functions as a linear model with hinge loss (similar to a Support Vector Machine).  \n",
        "   - The **RandomForestClassifier** offers less interpretability due to its ensemble nature but provides better insights into feature importance.\n",
        "\n",
        "4. **Generalization**  \n",
        "   - The **SGD Classifier** shows better generalization based on its higher accuracy and balanced metrics.  \n",
        "   - The **RandomForestClassifier** may require additional fine-tuning to close the gap in performance.\n",
        "\n",
        "5. **Use Case Suitability**  \n",
        "   - The **SGD Classifier** is better suited for applications where speed and scalability are critical, such as text classification or sparse datasets.  \n",
        "   - The **RandomForestClassifier** is more effective for structured datasets with a clear hierarchy of features or when feature importance analysis is necessary.\n",
        "\n",
        "**Conclusion**: The SGD Classifier is the better choice in this comparison due to its slightly higher performance and efficiency. However, the RandomForestClassifier remains a strong contender, especially when interpretability and feature insights are valuable.\n"
      ]
    },
    {
      "cell_type": "markdown",
      "metadata": {
        "id": "GBZ5GfRZTKFt"
      },
      "source": [
        "## Training SVM"
      ]
    },
    {
      "cell_type": "code",
      "execution_count": null,
      "metadata": {
        "id": "UXpUeem6TKFt",
        "outputId": "1855f9c3-0d15-4abd-9602-bb6c771d6e88"
      },
      "outputs": [
        {
          "name": "stderr",
          "output_type": "stream",
          "text": [
            "  0%|          | 0/32 [00:00<?, ?it/s]"
          ]
        },
        {
          "name": "stdout",
          "output_type": "stream",
          "text": [
            "n_iterations: 4\n",
            "n_required_iterations: 4\n",
            "n_possible_iterations: 4\n",
            "min_resources_: 1250\n",
            "max_resources_: 10000\n",
            "aggressive_elimination: False\n",
            "factor: 2\n",
            "----------\n",
            "iter: 0\n",
            "n_candidates: 8\n",
            "n_resources: 1250\n",
            "Fitting 3 folds for each of 8 candidates, totalling 24 fits\n",
            "----------\n",
            "iter: 1\n",
            "n_candidates: 4\n",
            "n_resources: 2500\n",
            "Fitting 3 folds for each of 4 candidates, totalling 12 fits\n",
            "----------\n",
            "iter: 2\n",
            "n_candidates: 2\n",
            "n_resources: 5000\n",
            "Fitting 3 folds for each of 2 candidates, totalling 6 fits\n",
            "----------\n",
            "iter: 3\n",
            "n_candidates: 1\n",
            "n_resources: 10000\n",
            "Fitting 3 folds for each of 1 candidates, totalling 3 fits\n"
          ]
        },
        {
          "name": "stderr",
          "output_type": "stream",
          "text": [
            "  3%|▎         | 1/32 [00:18<09:30, 18.41s/it]"
          ]
        },
        {
          "name": "stdout",
          "output_type": "stream",
          "text": [
            "n_iterations: 4\n",
            "n_required_iterations: 4\n",
            "n_possible_iterations: 4\n",
            "min_resources_: 1250\n",
            "max_resources_: 10000\n",
            "aggressive_elimination: False\n",
            "factor: 2\n",
            "----------\n",
            "iter: 0\n",
            "n_candidates: 8\n",
            "n_resources: 1250\n",
            "Fitting 3 folds for each of 8 candidates, totalling 24 fits\n",
            "----------\n",
            "iter: 1\n",
            "n_candidates: 4\n",
            "n_resources: 2500\n",
            "Fitting 3 folds for each of 4 candidates, totalling 12 fits\n",
            "----------\n",
            "iter: 2\n",
            "n_candidates: 2\n",
            "n_resources: 5000\n",
            "Fitting 3 folds for each of 2 candidates, totalling 6 fits\n",
            "----------\n",
            "iter: 3\n",
            "n_candidates: 1\n",
            "n_resources: 10000\n",
            "Fitting 3 folds for each of 1 candidates, totalling 3 fits\n"
          ]
        },
        {
          "name": "stderr",
          "output_type": "stream",
          "text": [
            "  6%|▋         | 2/32 [00:36<09:12, 18.41s/it]"
          ]
        },
        {
          "name": "stdout",
          "output_type": "stream",
          "text": [
            "n_iterations: 4\n",
            "n_required_iterations: 4\n",
            "n_possible_iterations: 4\n",
            "min_resources_: 1250\n",
            "max_resources_: 10000\n",
            "aggressive_elimination: False\n",
            "factor: 2\n",
            "----------\n",
            "iter: 0\n",
            "n_candidates: 8\n",
            "n_resources: 1250\n",
            "Fitting 3 folds for each of 8 candidates, totalling 24 fits\n",
            "----------\n",
            "iter: 1\n",
            "n_candidates: 4\n",
            "n_resources: 2500\n",
            "Fitting 3 folds for each of 4 candidates, totalling 12 fits\n",
            "----------\n",
            "iter: 2\n",
            "n_candidates: 2\n",
            "n_resources: 5000\n",
            "Fitting 3 folds for each of 2 candidates, totalling 6 fits\n",
            "----------\n",
            "iter: 3\n",
            "n_candidates: 1\n",
            "n_resources: 10000\n",
            "Fitting 3 folds for each of 1 candidates, totalling 3 fits\n"
          ]
        },
        {
          "name": "stderr",
          "output_type": "stream",
          "text": [
            "  9%|▉         | 3/32 [00:56<09:04, 18.77s/it]"
          ]
        },
        {
          "name": "stdout",
          "output_type": "stream",
          "text": [
            "n_iterations: 4\n",
            "n_required_iterations: 4\n",
            "n_possible_iterations: 4\n",
            "min_resources_: 1250\n",
            "max_resources_: 10000\n",
            "aggressive_elimination: False\n",
            "factor: 2\n",
            "----------\n",
            "iter: 0\n",
            "n_candidates: 8\n",
            "n_resources: 1250\n",
            "Fitting 3 folds for each of 8 candidates, totalling 24 fits\n",
            "----------\n",
            "iter: 1\n",
            "n_candidates: 4\n",
            "n_resources: 2500\n",
            "Fitting 3 folds for each of 4 candidates, totalling 12 fits\n",
            "----------\n",
            "iter: 2\n",
            "n_candidates: 2\n",
            "n_resources: 5000\n",
            "Fitting 3 folds for each of 2 candidates, totalling 6 fits\n",
            "----------\n",
            "iter: 3\n",
            "n_candidates: 1\n",
            "n_resources: 10000\n",
            "Fitting 3 folds for each of 1 candidates, totalling 3 fits\n"
          ]
        },
        {
          "name": "stderr",
          "output_type": "stream",
          "text": [
            " 12%|█▎        | 4/32 [01:14<08:37, 18.49s/it]"
          ]
        },
        {
          "name": "stdout",
          "output_type": "stream",
          "text": [
            "n_iterations: 4\n",
            "n_required_iterations: 4\n",
            "n_possible_iterations: 4\n",
            "min_resources_: 1250\n",
            "max_resources_: 10000\n",
            "aggressive_elimination: False\n",
            "factor: 2\n",
            "----------\n",
            "iter: 0\n",
            "n_candidates: 8\n",
            "n_resources: 1250\n",
            "Fitting 3 folds for each of 8 candidates, totalling 24 fits\n",
            "----------\n",
            "iter: 1\n",
            "n_candidates: 4\n",
            "n_resources: 2500\n",
            "Fitting 3 folds for each of 4 candidates, totalling 12 fits\n",
            "----------\n",
            "iter: 2\n",
            "n_candidates: 2\n",
            "n_resources: 5000\n",
            "Fitting 3 folds for each of 2 candidates, totalling 6 fits\n",
            "----------\n",
            "iter: 3\n",
            "n_candidates: 1\n",
            "n_resources: 10000\n",
            "Fitting 3 folds for each of 1 candidates, totalling 3 fits\n"
          ]
        },
        {
          "name": "stderr",
          "output_type": "stream",
          "text": [
            " 16%|█▌        | 5/32 [01:32<08:17, 18.43s/it]"
          ]
        },
        {
          "name": "stdout",
          "output_type": "stream",
          "text": [
            "n_iterations: 4\n",
            "n_required_iterations: 4\n",
            "n_possible_iterations: 4\n",
            "min_resources_: 1250\n",
            "max_resources_: 10000\n",
            "aggressive_elimination: False\n",
            "factor: 2\n",
            "----------\n",
            "iter: 0\n",
            "n_candidates: 8\n",
            "n_resources: 1250\n",
            "Fitting 3 folds for each of 8 candidates, totalling 24 fits\n",
            "----------\n",
            "iter: 1\n",
            "n_candidates: 4\n",
            "n_resources: 2500\n",
            "Fitting 3 folds for each of 4 candidates, totalling 12 fits\n",
            "----------\n",
            "iter: 2\n",
            "n_candidates: 2\n",
            "n_resources: 5000\n",
            "Fitting 3 folds for each of 2 candidates, totalling 6 fits\n",
            "----------\n",
            "iter: 3\n",
            "n_candidates: 1\n",
            "n_resources: 10000\n",
            "Fitting 3 folds for each of 1 candidates, totalling 3 fits\n"
          ]
        },
        {
          "name": "stderr",
          "output_type": "stream",
          "text": [
            " 19%|█▉        | 6/32 [01:51<08:02, 18.55s/it]"
          ]
        },
        {
          "name": "stdout",
          "output_type": "stream",
          "text": [
            "n_iterations: 4\n",
            "n_required_iterations: 4\n",
            "n_possible_iterations: 4\n",
            "min_resources_: 1250\n",
            "max_resources_: 10000\n",
            "aggressive_elimination: False\n",
            "factor: 2\n",
            "----------\n",
            "iter: 0\n",
            "n_candidates: 8\n",
            "n_resources: 1250\n",
            "Fitting 3 folds for each of 8 candidates, totalling 24 fits\n",
            "----------\n",
            "iter: 1\n",
            "n_candidates: 4\n",
            "n_resources: 2500\n",
            "Fitting 3 folds for each of 4 candidates, totalling 12 fits\n",
            "----------\n",
            "iter: 2\n",
            "n_candidates: 2\n",
            "n_resources: 5000\n",
            "Fitting 3 folds for each of 2 candidates, totalling 6 fits\n",
            "----------\n",
            "iter: 3\n",
            "n_candidates: 1\n",
            "n_resources: 10000\n",
            "Fitting 3 folds for each of 1 candidates, totalling 3 fits\n"
          ]
        },
        {
          "name": "stderr",
          "output_type": "stream",
          "text": [
            " 22%|██▏       | 7/32 [02:09<07:43, 18.55s/it]"
          ]
        },
        {
          "name": "stdout",
          "output_type": "stream",
          "text": [
            "n_iterations: 4\n",
            "n_required_iterations: 4\n",
            "n_possible_iterations: 4\n",
            "min_resources_: 1250\n",
            "max_resources_: 10000\n",
            "aggressive_elimination: False\n",
            "factor: 2\n",
            "----------\n",
            "iter: 0\n",
            "n_candidates: 8\n",
            "n_resources: 1250\n",
            "Fitting 3 folds for each of 8 candidates, totalling 24 fits\n",
            "----------\n",
            "iter: 1\n",
            "n_candidates: 4\n",
            "n_resources: 2500\n",
            "Fitting 3 folds for each of 4 candidates, totalling 12 fits\n",
            "----------\n",
            "iter: 2\n",
            "n_candidates: 2\n",
            "n_resources: 5000\n",
            "Fitting 3 folds for each of 2 candidates, totalling 6 fits\n",
            "----------\n",
            "iter: 3\n",
            "n_candidates: 1\n",
            "n_resources: 10000\n",
            "Fitting 3 folds for each of 1 candidates, totalling 3 fits\n"
          ]
        },
        {
          "name": "stderr",
          "output_type": "stream",
          "text": [
            " 25%|██▌       | 8/32 [02:28<07:26, 18.60s/it]"
          ]
        },
        {
          "name": "stdout",
          "output_type": "stream",
          "text": [
            "n_iterations: 4\n",
            "n_required_iterations: 4\n",
            "n_possible_iterations: 4\n",
            "min_resources_: 1250\n",
            "max_resources_: 10000\n",
            "aggressive_elimination: False\n",
            "factor: 2\n",
            "----------\n",
            "iter: 0\n",
            "n_candidates: 8\n",
            "n_resources: 1250\n",
            "Fitting 3 folds for each of 8 candidates, totalling 24 fits\n",
            "----------\n",
            "iter: 1\n",
            "n_candidates: 4\n",
            "n_resources: 2500\n",
            "Fitting 3 folds for each of 4 candidates, totalling 12 fits\n",
            "----------\n",
            "iter: 2\n",
            "n_candidates: 2\n",
            "n_resources: 5000\n",
            "Fitting 3 folds for each of 2 candidates, totalling 6 fits\n",
            "----------\n",
            "iter: 3\n",
            "n_candidates: 1\n",
            "n_resources: 10000\n",
            "Fitting 3 folds for each of 1 candidates, totalling 3 fits\n"
          ]
        },
        {
          "name": "stderr",
          "output_type": "stream",
          "text": [
            " 28%|██▊       | 9/32 [02:48<07:19, 19.10s/it]"
          ]
        },
        {
          "name": "stdout",
          "output_type": "stream",
          "text": [
            "n_iterations: 4\n",
            "n_required_iterations: 4\n",
            "n_possible_iterations: 4\n",
            "min_resources_: 1250\n",
            "max_resources_: 10000\n",
            "aggressive_elimination: False\n",
            "factor: 2\n",
            "----------\n",
            "iter: 0\n",
            "n_candidates: 8\n",
            "n_resources: 1250\n",
            "Fitting 3 folds for each of 8 candidates, totalling 24 fits\n",
            "----------\n",
            "iter: 1\n",
            "n_candidates: 4\n",
            "n_resources: 2500\n",
            "Fitting 3 folds for each of 4 candidates, totalling 12 fits\n",
            "----------\n",
            "iter: 2\n",
            "n_candidates: 2\n",
            "n_resources: 5000\n",
            "Fitting 3 folds for each of 2 candidates, totalling 6 fits\n",
            "----------\n",
            "iter: 3\n",
            "n_candidates: 1\n",
            "n_resources: 10000\n",
            "Fitting 3 folds for each of 1 candidates, totalling 3 fits\n"
          ]
        },
        {
          "name": "stderr",
          "output_type": "stream",
          "text": [
            " 31%|███▏      | 10/32 [03:08<07:03, 19.24s/it]"
          ]
        },
        {
          "name": "stdout",
          "output_type": "stream",
          "text": [
            "n_iterations: 4\n",
            "n_required_iterations: 4\n",
            "n_possible_iterations: 4\n",
            "min_resources_: 1250\n",
            "max_resources_: 10000\n",
            "aggressive_elimination: False\n",
            "factor: 2\n",
            "----------\n",
            "iter: 0\n",
            "n_candidates: 8\n",
            "n_resources: 1250\n",
            "Fitting 3 folds for each of 8 candidates, totalling 24 fits\n",
            "----------\n",
            "iter: 1\n",
            "n_candidates: 4\n",
            "n_resources: 2500\n",
            "Fitting 3 folds for each of 4 candidates, totalling 12 fits\n",
            "----------\n",
            "iter: 2\n",
            "n_candidates: 2\n",
            "n_resources: 5000\n",
            "Fitting 3 folds for each of 2 candidates, totalling 6 fits\n",
            "----------\n",
            "iter: 3\n",
            "n_candidates: 1\n",
            "n_resources: 10000\n",
            "Fitting 3 folds for each of 1 candidates, totalling 3 fits\n"
          ]
        },
        {
          "name": "stderr",
          "output_type": "stream",
          "text": [
            " 34%|███▍      | 11/32 [03:26<06:38, 18.97s/it]"
          ]
        },
        {
          "name": "stdout",
          "output_type": "stream",
          "text": [
            "n_iterations: 4\n",
            "n_required_iterations: 4\n",
            "n_possible_iterations: 4\n",
            "min_resources_: 1250\n",
            "max_resources_: 10000\n",
            "aggressive_elimination: False\n",
            "factor: 2\n",
            "----------\n",
            "iter: 0\n",
            "n_candidates: 8\n",
            "n_resources: 1250\n",
            "Fitting 3 folds for each of 8 candidates, totalling 24 fits\n",
            "----------\n",
            "iter: 1\n",
            "n_candidates: 4\n",
            "n_resources: 2500\n",
            "Fitting 3 folds for each of 4 candidates, totalling 12 fits\n",
            "----------\n",
            "iter: 2\n",
            "n_candidates: 2\n",
            "n_resources: 5000\n",
            "Fitting 3 folds for each of 2 candidates, totalling 6 fits\n",
            "----------\n",
            "iter: 3\n",
            "n_candidates: 1\n",
            "n_resources: 10000\n",
            "Fitting 3 folds for each of 1 candidates, totalling 3 fits\n"
          ]
        },
        {
          "name": "stderr",
          "output_type": "stream",
          "text": [
            " 38%|███▊      | 12/32 [03:45<06:18, 18.91s/it]"
          ]
        },
        {
          "name": "stdout",
          "output_type": "stream",
          "text": [
            "n_iterations: 4\n",
            "n_required_iterations: 4\n",
            "n_possible_iterations: 4\n",
            "min_resources_: 1250\n",
            "max_resources_: 10000\n",
            "aggressive_elimination: False\n",
            "factor: 2\n",
            "----------\n",
            "iter: 0\n",
            "n_candidates: 8\n",
            "n_resources: 1250\n",
            "Fitting 3 folds for each of 8 candidates, totalling 24 fits\n",
            "----------\n",
            "iter: 1\n",
            "n_candidates: 4\n",
            "n_resources: 2500\n",
            "Fitting 3 folds for each of 4 candidates, totalling 12 fits\n",
            "----------\n",
            "iter: 2\n",
            "n_candidates: 2\n",
            "n_resources: 5000\n",
            "Fitting 3 folds for each of 2 candidates, totalling 6 fits\n",
            "----------\n",
            "iter: 3\n",
            "n_candidates: 1\n",
            "n_resources: 10000\n",
            "Fitting 3 folds for each of 1 candidates, totalling 3 fits\n"
          ]
        },
        {
          "name": "stderr",
          "output_type": "stream",
          "text": [
            " 41%|████      | 13/32 [04:04<05:59, 18.93s/it]"
          ]
        },
        {
          "name": "stdout",
          "output_type": "stream",
          "text": [
            "n_iterations: 4\n",
            "n_required_iterations: 4\n",
            "n_possible_iterations: 4\n",
            "min_resources_: 1250\n",
            "max_resources_: 10000\n",
            "aggressive_elimination: False\n",
            "factor: 2\n",
            "----------\n",
            "iter: 0\n",
            "n_candidates: 8\n",
            "n_resources: 1250\n",
            "Fitting 3 folds for each of 8 candidates, totalling 24 fits\n",
            "----------\n",
            "iter: 1\n",
            "n_candidates: 4\n",
            "n_resources: 2500\n",
            "Fitting 3 folds for each of 4 candidates, totalling 12 fits\n",
            "----------\n",
            "iter: 2\n",
            "n_candidates: 2\n",
            "n_resources: 5000\n",
            "Fitting 3 folds for each of 2 candidates, totalling 6 fits\n",
            "----------\n",
            "iter: 3\n",
            "n_candidates: 1\n",
            "n_resources: 10000\n",
            "Fitting 3 folds for each of 1 candidates, totalling 3 fits\n"
          ]
        },
        {
          "name": "stderr",
          "output_type": "stream",
          "text": [
            " 44%|████▍     | 14/32 [04:23<05:39, 18.87s/it]"
          ]
        },
        {
          "name": "stdout",
          "output_type": "stream",
          "text": [
            "n_iterations: 4\n",
            "n_required_iterations: 4\n",
            "n_possible_iterations: 4\n",
            "min_resources_: 1250\n",
            "max_resources_: 10000\n",
            "aggressive_elimination: False\n",
            "factor: 2\n",
            "----------\n",
            "iter: 0\n",
            "n_candidates: 8\n",
            "n_resources: 1250\n",
            "Fitting 3 folds for each of 8 candidates, totalling 24 fits\n",
            "----------\n",
            "iter: 1\n",
            "n_candidates: 4\n",
            "n_resources: 2500\n",
            "Fitting 3 folds for each of 4 candidates, totalling 12 fits\n",
            "----------\n",
            "iter: 2\n",
            "n_candidates: 2\n",
            "n_resources: 5000\n",
            "Fitting 3 folds for each of 2 candidates, totalling 6 fits\n",
            "----------\n",
            "iter: 3\n",
            "n_candidates: 1\n",
            "n_resources: 10000\n",
            "Fitting 3 folds for each of 1 candidates, totalling 3 fits\n"
          ]
        },
        {
          "name": "stderr",
          "output_type": "stream",
          "text": [
            " 47%|████▋     | 15/32 [04:41<05:20, 18.87s/it]"
          ]
        },
        {
          "name": "stdout",
          "output_type": "stream",
          "text": [
            "n_iterations: 4\n",
            "n_required_iterations: 4\n",
            "n_possible_iterations: 4\n",
            "min_resources_: 1250\n",
            "max_resources_: 10000\n",
            "aggressive_elimination: False\n",
            "factor: 2\n",
            "----------\n",
            "iter: 0\n",
            "n_candidates: 8\n",
            "n_resources: 1250\n",
            "Fitting 3 folds for each of 8 candidates, totalling 24 fits\n",
            "----------\n",
            "iter: 1\n",
            "n_candidates: 4\n",
            "n_resources: 2500\n",
            "Fitting 3 folds for each of 4 candidates, totalling 12 fits\n",
            "----------\n",
            "iter: 2\n",
            "n_candidates: 2\n",
            "n_resources: 5000\n",
            "Fitting 3 folds for each of 2 candidates, totalling 6 fits\n",
            "----------\n",
            "iter: 3\n",
            "n_candidates: 1\n",
            "n_resources: 10000\n",
            "Fitting 3 folds for each of 1 candidates, totalling 3 fits\n"
          ]
        },
        {
          "name": "stderr",
          "output_type": "stream",
          "text": [
            " 50%|█████     | 16/32 [05:00<04:59, 18.69s/it]"
          ]
        },
        {
          "name": "stdout",
          "output_type": "stream",
          "text": [
            "n_iterations: 4\n",
            "n_required_iterations: 4\n",
            "n_possible_iterations: 4\n",
            "min_resources_: 1250\n",
            "max_resources_: 10000\n",
            "aggressive_elimination: False\n",
            "factor: 2\n",
            "----------\n",
            "iter: 0\n",
            "n_candidates: 8\n",
            "n_resources: 1250\n",
            "Fitting 3 folds for each of 8 candidates, totalling 24 fits\n",
            "----------\n",
            "iter: 1\n",
            "n_candidates: 4\n",
            "n_resources: 2500\n",
            "Fitting 3 folds for each of 4 candidates, totalling 12 fits\n",
            "----------\n",
            "iter: 2\n",
            "n_candidates: 2\n",
            "n_resources: 5000\n",
            "Fitting 3 folds for each of 2 candidates, totalling 6 fits\n",
            "----------\n",
            "iter: 3\n",
            "n_candidates: 1\n",
            "n_resources: 10000\n",
            "Fitting 3 folds for each of 1 candidates, totalling 3 fits\n"
          ]
        },
        {
          "name": "stderr",
          "output_type": "stream",
          "text": [
            " 53%|█████▎    | 17/32 [05:19<04:41, 18.79s/it]"
          ]
        },
        {
          "name": "stdout",
          "output_type": "stream",
          "text": [
            "n_iterations: 4\n",
            "n_required_iterations: 4\n",
            "n_possible_iterations: 4\n",
            "min_resources_: 1250\n",
            "max_resources_: 10000\n",
            "aggressive_elimination: False\n",
            "factor: 2\n",
            "----------\n",
            "iter: 0\n",
            "n_candidates: 8\n",
            "n_resources: 1250\n",
            "Fitting 3 folds for each of 8 candidates, totalling 24 fits\n",
            "----------\n",
            "iter: 1\n",
            "n_candidates: 4\n",
            "n_resources: 2500\n",
            "Fitting 3 folds for each of 4 candidates, totalling 12 fits\n",
            "----------\n",
            "iter: 2\n",
            "n_candidates: 2\n",
            "n_resources: 5000\n",
            "Fitting 3 folds for each of 2 candidates, totalling 6 fits\n",
            "----------\n",
            "iter: 3\n",
            "n_candidates: 1\n",
            "n_resources: 10000\n",
            "Fitting 3 folds for each of 1 candidates, totalling 3 fits\n"
          ]
        },
        {
          "name": "stderr",
          "output_type": "stream",
          "text": [
            " 56%|█████▋    | 18/32 [05:37<04:22, 18.75s/it]"
          ]
        },
        {
          "name": "stdout",
          "output_type": "stream",
          "text": [
            "n_iterations: 4\n",
            "n_required_iterations: 4\n",
            "n_possible_iterations: 4\n",
            "min_resources_: 1250\n",
            "max_resources_: 10000\n",
            "aggressive_elimination: False\n",
            "factor: 2\n",
            "----------\n",
            "iter: 0\n",
            "n_candidates: 8\n",
            "n_resources: 1250\n",
            "Fitting 3 folds for each of 8 candidates, totalling 24 fits\n",
            "----------\n",
            "iter: 1\n",
            "n_candidates: 4\n",
            "n_resources: 2500\n",
            "Fitting 3 folds for each of 4 candidates, totalling 12 fits\n",
            "----------\n",
            "iter: 2\n",
            "n_candidates: 2\n",
            "n_resources: 5000\n",
            "Fitting 3 folds for each of 2 candidates, totalling 6 fits\n",
            "----------\n",
            "iter: 3\n",
            "n_candidates: 1\n",
            "n_resources: 10000\n",
            "Fitting 3 folds for each of 1 candidates, totalling 3 fits\n"
          ]
        },
        {
          "name": "stderr",
          "output_type": "stream",
          "text": [
            " 59%|█████▉    | 19/32 [05:56<04:01, 18.61s/it]"
          ]
        },
        {
          "name": "stdout",
          "output_type": "stream",
          "text": [
            "n_iterations: 4\n",
            "n_required_iterations: 4\n",
            "n_possible_iterations: 4\n",
            "min_resources_: 1250\n",
            "max_resources_: 10000\n",
            "aggressive_elimination: False\n",
            "factor: 2\n",
            "----------\n",
            "iter: 0\n",
            "n_candidates: 8\n",
            "n_resources: 1250\n",
            "Fitting 3 folds for each of 8 candidates, totalling 24 fits\n",
            "----------\n",
            "iter: 1\n",
            "n_candidates: 4\n",
            "n_resources: 2500\n",
            "Fitting 3 folds for each of 4 candidates, totalling 12 fits\n",
            "----------\n",
            "iter: 2\n",
            "n_candidates: 2\n",
            "n_resources: 5000\n",
            "Fitting 3 folds for each of 2 candidates, totalling 6 fits\n",
            "----------\n",
            "iter: 3\n",
            "n_candidates: 1\n",
            "n_resources: 10000\n",
            "Fitting 3 folds for each of 1 candidates, totalling 3 fits\n"
          ]
        },
        {
          "name": "stderr",
          "output_type": "stream",
          "text": [
            " 62%|██████▎   | 20/32 [06:14<03:42, 18.50s/it]"
          ]
        },
        {
          "name": "stdout",
          "output_type": "stream",
          "text": [
            "n_iterations: 4\n",
            "n_required_iterations: 4\n",
            "n_possible_iterations: 4\n",
            "min_resources_: 1250\n",
            "max_resources_: 10000\n",
            "aggressive_elimination: False\n",
            "factor: 2\n",
            "----------\n",
            "iter: 0\n",
            "n_candidates: 8\n",
            "n_resources: 1250\n",
            "Fitting 3 folds for each of 8 candidates, totalling 24 fits\n",
            "----------\n",
            "iter: 1\n",
            "n_candidates: 4\n",
            "n_resources: 2500\n",
            "Fitting 3 folds for each of 4 candidates, totalling 12 fits\n",
            "----------\n",
            "iter: 2\n",
            "n_candidates: 2\n",
            "n_resources: 5000\n",
            "Fitting 3 folds for each of 2 candidates, totalling 6 fits\n",
            "----------\n",
            "iter: 3\n",
            "n_candidates: 1\n",
            "n_resources: 10000\n",
            "Fitting 3 folds for each of 1 candidates, totalling 3 fits\n"
          ]
        },
        {
          "name": "stderr",
          "output_type": "stream",
          "text": [
            " 66%|██████▌   | 21/32 [06:32<03:21, 18.30s/it]"
          ]
        },
        {
          "name": "stdout",
          "output_type": "stream",
          "text": [
            "n_iterations: 4\n",
            "n_required_iterations: 4\n",
            "n_possible_iterations: 4\n",
            "min_resources_: 1250\n",
            "max_resources_: 10000\n",
            "aggressive_elimination: False\n",
            "factor: 2\n",
            "----------\n",
            "iter: 0\n",
            "n_candidates: 8\n",
            "n_resources: 1250\n",
            "Fitting 3 folds for each of 8 candidates, totalling 24 fits\n",
            "----------\n",
            "iter: 1\n",
            "n_candidates: 4\n",
            "n_resources: 2500\n",
            "Fitting 3 folds for each of 4 candidates, totalling 12 fits\n",
            "----------\n",
            "iter: 2\n",
            "n_candidates: 2\n",
            "n_resources: 5000\n",
            "Fitting 3 folds for each of 2 candidates, totalling 6 fits\n",
            "----------\n",
            "iter: 3\n",
            "n_candidates: 1\n",
            "n_resources: 10000\n",
            "Fitting 3 folds for each of 1 candidates, totalling 3 fits\n"
          ]
        },
        {
          "name": "stderr",
          "output_type": "stream",
          "text": [
            " 69%|██████▉   | 22/32 [06:50<03:02, 18.22s/it]"
          ]
        },
        {
          "name": "stdout",
          "output_type": "stream",
          "text": [
            "n_iterations: 4\n",
            "n_required_iterations: 4\n",
            "n_possible_iterations: 4\n",
            "min_resources_: 1250\n",
            "max_resources_: 10000\n",
            "aggressive_elimination: False\n",
            "factor: 2\n",
            "----------\n",
            "iter: 0\n",
            "n_candidates: 8\n",
            "n_resources: 1250\n",
            "Fitting 3 folds for each of 8 candidates, totalling 24 fits\n",
            "----------\n",
            "iter: 1\n",
            "n_candidates: 4\n",
            "n_resources: 2500\n",
            "Fitting 3 folds for each of 4 candidates, totalling 12 fits\n",
            "----------\n",
            "iter: 2\n",
            "n_candidates: 2\n",
            "n_resources: 5000\n",
            "Fitting 3 folds for each of 2 candidates, totalling 6 fits\n",
            "----------\n",
            "iter: 3\n",
            "n_candidates: 1\n",
            "n_resources: 10000\n",
            "Fitting 3 folds for each of 1 candidates, totalling 3 fits\n"
          ]
        },
        {
          "name": "stderr",
          "output_type": "stream",
          "text": [
            " 72%|███████▏  | 23/32 [07:08<02:43, 18.22s/it]"
          ]
        },
        {
          "name": "stdout",
          "output_type": "stream",
          "text": [
            "n_iterations: 4\n",
            "n_required_iterations: 4\n",
            "n_possible_iterations: 4\n",
            "min_resources_: 1250\n",
            "max_resources_: 10000\n",
            "aggressive_elimination: False\n",
            "factor: 2\n",
            "----------\n",
            "iter: 0\n",
            "n_candidates: 8\n",
            "n_resources: 1250\n",
            "Fitting 3 folds for each of 8 candidates, totalling 24 fits\n",
            "----------\n",
            "iter: 1\n",
            "n_candidates: 4\n",
            "n_resources: 2500\n",
            "Fitting 3 folds for each of 4 candidates, totalling 12 fits\n",
            "----------\n",
            "iter: 2\n",
            "n_candidates: 2\n",
            "n_resources: 5000\n",
            "Fitting 3 folds for each of 2 candidates, totalling 6 fits\n",
            "----------\n",
            "iter: 3\n",
            "n_candidates: 1\n",
            "n_resources: 10000\n",
            "Fitting 3 folds for each of 1 candidates, totalling 3 fits\n"
          ]
        },
        {
          "name": "stderr",
          "output_type": "stream",
          "text": [
            " 75%|███████▌  | 24/32 [07:27<02:27, 18.48s/it]"
          ]
        },
        {
          "name": "stdout",
          "output_type": "stream",
          "text": [
            "n_iterations: 4\n",
            "n_required_iterations: 4\n",
            "n_possible_iterations: 4\n",
            "min_resources_: 1250\n",
            "max_resources_: 10000\n",
            "aggressive_elimination: False\n",
            "factor: 2\n",
            "----------\n",
            "iter: 0\n",
            "n_candidates: 8\n",
            "n_resources: 1250\n",
            "Fitting 3 folds for each of 8 candidates, totalling 24 fits\n",
            "----------\n",
            "iter: 1\n",
            "n_candidates: 4\n",
            "n_resources: 2500\n",
            "Fitting 3 folds for each of 4 candidates, totalling 12 fits\n",
            "----------\n",
            "iter: 2\n",
            "n_candidates: 2\n",
            "n_resources: 5000\n",
            "Fitting 3 folds for each of 2 candidates, totalling 6 fits\n",
            "----------\n",
            "iter: 3\n",
            "n_candidates: 1\n",
            "n_resources: 10000\n",
            "Fitting 3 folds for each of 1 candidates, totalling 3 fits\n"
          ]
        },
        {
          "name": "stderr",
          "output_type": "stream",
          "text": [
            " 78%|███████▊  | 25/32 [07:46<02:10, 18.58s/it]"
          ]
        },
        {
          "name": "stdout",
          "output_type": "stream",
          "text": [
            "n_iterations: 4\n",
            "n_required_iterations: 4\n",
            "n_possible_iterations: 4\n",
            "min_resources_: 1250\n",
            "max_resources_: 10000\n",
            "aggressive_elimination: False\n",
            "factor: 2\n",
            "----------\n",
            "iter: 0\n",
            "n_candidates: 8\n",
            "n_resources: 1250\n",
            "Fitting 3 folds for each of 8 candidates, totalling 24 fits\n",
            "----------\n",
            "iter: 1\n",
            "n_candidates: 4\n",
            "n_resources: 2500\n",
            "Fitting 3 folds for each of 4 candidates, totalling 12 fits\n",
            "----------\n",
            "iter: 2\n",
            "n_candidates: 2\n",
            "n_resources: 5000\n",
            "Fitting 3 folds for each of 2 candidates, totalling 6 fits\n",
            "----------\n",
            "iter: 3\n",
            "n_candidates: 1\n",
            "n_resources: 10000\n",
            "Fitting 3 folds for each of 1 candidates, totalling 3 fits\n"
          ]
        },
        {
          "name": "stderr",
          "output_type": "stream",
          "text": [
            " 81%|████████▏ | 26/32 [08:04<01:51, 18.50s/it]"
          ]
        },
        {
          "name": "stdout",
          "output_type": "stream",
          "text": [
            "n_iterations: 4\n",
            "n_required_iterations: 4\n",
            "n_possible_iterations: 4\n",
            "min_resources_: 1250\n",
            "max_resources_: 10000\n",
            "aggressive_elimination: False\n",
            "factor: 2\n",
            "----------\n",
            "iter: 0\n",
            "n_candidates: 8\n",
            "n_resources: 1250\n",
            "Fitting 3 folds for each of 8 candidates, totalling 24 fits\n",
            "----------\n",
            "iter: 1\n",
            "n_candidates: 4\n",
            "n_resources: 2500\n",
            "Fitting 3 folds for each of 4 candidates, totalling 12 fits\n",
            "----------\n",
            "iter: 2\n",
            "n_candidates: 2\n",
            "n_resources: 5000\n",
            "Fitting 3 folds for each of 2 candidates, totalling 6 fits\n",
            "----------\n",
            "iter: 3\n",
            "n_candidates: 1\n",
            "n_resources: 10000\n",
            "Fitting 3 folds for each of 1 candidates, totalling 3 fits\n"
          ]
        },
        {
          "name": "stderr",
          "output_type": "stream",
          "text": [
            " 84%|████████▍ | 27/32 [08:22<01:32, 18.42s/it]"
          ]
        },
        {
          "name": "stdout",
          "output_type": "stream",
          "text": [
            "n_iterations: 4\n",
            "n_required_iterations: 4\n",
            "n_possible_iterations: 4\n",
            "min_resources_: 1250\n",
            "max_resources_: 10000\n",
            "aggressive_elimination: False\n",
            "factor: 2\n",
            "----------\n",
            "iter: 0\n",
            "n_candidates: 8\n",
            "n_resources: 1250\n",
            "Fitting 3 folds for each of 8 candidates, totalling 24 fits\n",
            "----------\n",
            "iter: 1\n",
            "n_candidates: 4\n",
            "n_resources: 2500\n",
            "Fitting 3 folds for each of 4 candidates, totalling 12 fits\n",
            "----------\n",
            "iter: 2\n",
            "n_candidates: 2\n",
            "n_resources: 5000\n",
            "Fitting 3 folds for each of 2 candidates, totalling 6 fits\n",
            "----------\n",
            "iter: 3\n",
            "n_candidates: 1\n",
            "n_resources: 10000\n",
            "Fitting 3 folds for each of 1 candidates, totalling 3 fits\n"
          ]
        },
        {
          "name": "stderr",
          "output_type": "stream",
          "text": [
            " 88%|████████▊ | 28/32 [08:41<01:14, 18.59s/it]"
          ]
        },
        {
          "name": "stdout",
          "output_type": "stream",
          "text": [
            "n_iterations: 4\n",
            "n_required_iterations: 4\n",
            "n_possible_iterations: 4\n",
            "min_resources_: 1250\n",
            "max_resources_: 10000\n",
            "aggressive_elimination: False\n",
            "factor: 2\n",
            "----------\n",
            "iter: 0\n",
            "n_candidates: 8\n",
            "n_resources: 1250\n",
            "Fitting 3 folds for each of 8 candidates, totalling 24 fits\n",
            "----------\n",
            "iter: 1\n",
            "n_candidates: 4\n",
            "n_resources: 2500\n",
            "Fitting 3 folds for each of 4 candidates, totalling 12 fits\n",
            "----------\n",
            "iter: 2\n",
            "n_candidates: 2\n",
            "n_resources: 5000\n",
            "Fitting 3 folds for each of 2 candidates, totalling 6 fits\n",
            "----------\n",
            "iter: 3\n",
            "n_candidates: 1\n",
            "n_resources: 10000\n",
            "Fitting 3 folds for each of 1 candidates, totalling 3 fits\n"
          ]
        },
        {
          "name": "stderr",
          "output_type": "stream",
          "text": [
            " 91%|█████████ | 29/32 [09:00<00:55, 18.66s/it]"
          ]
        },
        {
          "name": "stdout",
          "output_type": "stream",
          "text": [
            "n_iterations: 4\n",
            "n_required_iterations: 4\n",
            "n_possible_iterations: 4\n",
            "min_resources_: 1250\n",
            "max_resources_: 10000\n",
            "aggressive_elimination: False\n",
            "factor: 2\n",
            "----------\n",
            "iter: 0\n",
            "n_candidates: 8\n",
            "n_resources: 1250\n",
            "Fitting 3 folds for each of 8 candidates, totalling 24 fits\n",
            "----------\n",
            "iter: 1\n",
            "n_candidates: 4\n",
            "n_resources: 2500\n",
            "Fitting 3 folds for each of 4 candidates, totalling 12 fits\n",
            "----------\n",
            "iter: 2\n",
            "n_candidates: 2\n",
            "n_resources: 5000\n",
            "Fitting 3 folds for each of 2 candidates, totalling 6 fits\n",
            "----------\n",
            "iter: 3\n",
            "n_candidates: 1\n",
            "n_resources: 10000\n",
            "Fitting 3 folds for each of 1 candidates, totalling 3 fits\n"
          ]
        },
        {
          "name": "stderr",
          "output_type": "stream",
          "text": [
            " 94%|█████████▍| 30/32 [09:18<00:36, 18.48s/it]"
          ]
        },
        {
          "name": "stdout",
          "output_type": "stream",
          "text": [
            "n_iterations: 4\n",
            "n_required_iterations: 4\n",
            "n_possible_iterations: 4\n",
            "min_resources_: 1250\n",
            "max_resources_: 10000\n",
            "aggressive_elimination: False\n",
            "factor: 2\n",
            "----------\n",
            "iter: 0\n",
            "n_candidates: 8\n",
            "n_resources: 1250\n",
            "Fitting 3 folds for each of 8 candidates, totalling 24 fits\n",
            "----------\n",
            "iter: 1\n",
            "n_candidates: 4\n",
            "n_resources: 2500\n",
            "Fitting 3 folds for each of 4 candidates, totalling 12 fits\n",
            "----------\n",
            "iter: 2\n",
            "n_candidates: 2\n",
            "n_resources: 5000\n",
            "Fitting 3 folds for each of 2 candidates, totalling 6 fits\n",
            "----------\n",
            "iter: 3\n",
            "n_candidates: 1\n",
            "n_resources: 10000\n",
            "Fitting 3 folds for each of 1 candidates, totalling 3 fits\n"
          ]
        },
        {
          "name": "stderr",
          "output_type": "stream",
          "text": [
            " 97%|█████████▋| 31/32 [09:37<00:18, 18.57s/it]"
          ]
        },
        {
          "name": "stdout",
          "output_type": "stream",
          "text": [
            "n_iterations: 4\n",
            "n_required_iterations: 4\n",
            "n_possible_iterations: 4\n",
            "min_resources_: 758\n",
            "max_resources_: 6069\n",
            "aggressive_elimination: False\n",
            "factor: 2\n",
            "----------\n",
            "iter: 0\n",
            "n_candidates: 8\n",
            "n_resources: 758\n",
            "Fitting 3 folds for each of 8 candidates, totalling 24 fits\n",
            "----------\n",
            "iter: 1\n",
            "n_candidates: 4\n",
            "n_resources: 1516\n",
            "Fitting 3 folds for each of 4 candidates, totalling 12 fits\n",
            "----------\n",
            "iter: 2\n",
            "n_candidates: 2\n",
            "n_resources: 3032\n",
            "Fitting 3 folds for each of 2 candidates, totalling 6 fits\n",
            "----------\n",
            "iter: 3\n",
            "n_candidates: 1\n",
            "n_resources: 6064\n",
            "Fitting 3 folds for each of 1 candidates, totalling 3 fits\n"
          ]
        },
        {
          "name": "stderr",
          "output_type": "stream",
          "text": [
            "100%|██████████| 32/32 [09:44<00:00, 18.28s/it]\n"
          ]
        }
      ],
      "source": [
        "# SVM parameter grid\n",
        "svm_param_grid = {\n",
        "    'C': [0.1, 1, 10, 100],\n",
        "    'gamma': ['scale', 'auto'],\n",
        "    'kernel': ['linear']\n",
        "}\n",
        "# Initialize SVM model\n",
        "svm_model = SVC()\n",
        "\n",
        "# Initialize Halving Grid Search\n",
        "halving_search = HalvingGridSearchCV(\n",
        "    estimator=svm_model,\n",
        "    param_grid=svm_param_grid,\n",
        "    factor=2,\n",
        "    cv=3,\n",
        "    verbose=1,\n",
        "    n_jobs=-1\n",
        ")\n",
        "\n",
        "batch_size = 10_000\n",
        "results = batch_halving_search(halving_search, X_train, y_train, batch_size)"
      ]
    },
    {
      "cell_type": "code",
      "execution_count": null,
      "metadata": {
        "id": "wpS3fPAMTKFt",
        "outputId": "e6f69e8b-4fd0-49d1-9eb2-7c94f8c7a7fb"
      },
      "outputs": [
        {
          "name": "stdout",
          "output_type": "stream",
          "text": [
            "Best parameters found: {'C': 1, 'gamma': 'auto', 'kernel': 'linear'}\n",
            "Best cross-validation score: 0.814283358073561\n",
            "SVM Accuracy: 0.82\n",
            "Classification Report:\n",
            "               precision    recall  f1-score   support\n",
            "\n",
            "           0       0.83      0.81      0.82     67671\n",
            "           1       0.82      0.83      0.82     67788\n",
            "\n",
            "    accuracy                           0.82    135459\n",
            "   macro avg       0.82      0.82      0.82    135459\n",
            "weighted avg       0.82      0.82      0.82    135459\n",
            "\n",
            "Confusion Matrix:\n",
            " [[55112 12559]\n",
            " [11596 56192]]\n"
          ]
        }
      ],
      "source": [
        "final_best_params = halving_search.best_params_\n",
        "final_best_score = halving_search.best_score_\n",
        "\n",
        "print(\"Best parameters found:\", final_best_params)\n",
        "print(\"Best cross-validation score:\", final_best_score)\n",
        "\n",
        "# Evaluate on test set\n",
        "y_pred = halving_search.predict(X_test)\n",
        "accuracy = accuracy_score(y_test, y_pred)\n",
        "report = classification_report(y_test, y_pred)\n",
        "conf_matrix = confusion_matrix(y_test, y_pred)\n",
        "\n",
        "print(f\"SVM Accuracy: {accuracy:.2f}\")\n",
        "print(\"Classification Report:\\n\", report)\n",
        "print(\"Confusion Matrix:\\n\", conf_matrix)"
      ]
    },
    {
      "cell_type": "markdown",
      "metadata": {
        "id": "R9SluatpTKFt"
      },
      "source": [
        "1. **Parameter Grid**:\n",
        "   - Defines a grid of hyperparameters to search for:\n",
        "     - **`C`**: Regularization parameter (values: 0.1, 1, 10, 100).\n",
        "     - **`gamma`**: Kernel coefficient (`scale` or `auto`).\n",
        "     - **`kernel`**: Specifies the linear kernel.\n",
        "\n",
        "2. **SVM Model Initialization**:\n",
        "   - The model is initialized using the `SVC()` class from scikit-learn.\n",
        "\n",
        "3. **HalvingGridSearchCV**:\n",
        "   - Utilizes halving grid search to find the best combination of hyperparameters.\n",
        "   - Reduces computational cost by eliminating poorly performing parameter combinations early.\n",
        "\n",
        "4. **Batch Processing**:\n",
        "   - `batch_halving_search` trains the model in batches of 10,000 to handle memory constraints efficiently.\n",
        "\n",
        "5. **Evaluation**:\n",
        "   - After training, the best hyperparameters and cross-validation score are retrieved.\n",
        "   - The test set is evaluated using:\n",
        "     - Accuracy.\n",
        "     - Classification report (precision, recall, F1-score).\n",
        "     - Confusion matrix."
      ]
    },
    {
      "cell_type": "markdown",
      "metadata": {
        "id": "A604XmYITKFt"
      },
      "source": [
        "#### **Result Interpretation**\n",
        "1. **Best Parameters**:\n",
        "   - `C`: `1` (optimal regularization strength).\n",
        "   - `gamma`: `auto` (uses 1 / n_features as kernel coefficient).\n",
        "   - `kernel`: `linear` (linear decision boundary).\n",
        "\n",
        "2. **Cross-Validation Score**:\n",
        "   - Best cross-validation score: `0.814` (~81.4%).\n",
        "\n",
        "3. **Test Accuracy**:\n",
        "   - Accuracy: `0.82` (82%).\n",
        "   - Comparable to the `RandomForestClassifier` but slightly lower than `SGDClassifier`.\n",
        "\n",
        "4. **Precision, Recall, and F1-Score**:\n",
        "   - **Class `0`**:\n",
        "     - Precision: `0.83`, Recall: `0.81`, F1-Score: `0.82`.\n",
        "   - **Class `1`**:\n",
        "     - Precision: `0.82`, Recall: `0.83`, F1-Score: `0.82`.\n",
        "   - Shows balanced performance across both classes.\n",
        "\n",
        "5. **Confusion Matrix**:\n",
        "   - **True Negatives**: `55,112` (correctly classified as `0`).\n",
        "   - **False Positives**: `12,559`.\n",
        "   - **True Positives**: `56,192` (correctly classified as `1`).\n",
        "   - **False Negatives**: `11,596`.\n",
        "   - Misclassification rates are slightly higher than `SGDClassifier` but comparable to `RandomForestClassifier`.\n"
      ]
    },
    {
      "cell_type": "markdown",
      "source": [
        "#### **Overall Comparison: SGD Classifier vs. RandomForestClassifier vs. SVM**\n",
        "\n",
        "**1. Performance**\n",
        "\n",
        "All three models—SVM, Random Forest, and SGD Classifier—show high performance with strong metrics such as accuracy, precision, recall, and F1-scores. Among them, the SGD Classifier slightly edges out the others in overall performance, making it the most effective for this dataset.\n",
        "\n",
        "**2. Model Complexity**\n",
        "- **SVM** and **SGD Classifier** are relatively simpler in structure, relying on linear optimization and kernel-based approaches. This simplicity ensures faster computation but might limit their ability to model highly complex patterns.\n",
        "- **Random Forest** involves ensemble learning with multiple decision trees, making it more complex and computationally expensive. However, this complexity enables it to capture intricate relationships within the data.\n",
        "\n",
        "**3. Interpretability**\n",
        "- **Random Forest** is the most interpretable among the three, as it allows for visualization of decision paths and feature importance.\n",
        "- **SVM** and **SGD Classifier** are less interpretable, particularly for non-linear or high-dimensional datasets, as their internal decision-making is less transparent.\n",
        "\n",
        "**4. Generalization**\n",
        "- **SGD Classifier** demonstrates strong generalization capabilities due to its use of regularization techniques and efficient handling of sparse data.\n",
        "- **Random Forest** also generalizes well, particularly when dealing with non-linear patterns, as it reduces overfitting through averaging across multiple trees.\n",
        "- **SVM** performs well in generalization but may require careful parameter tuning to avoid underfitting or overfitting.\n",
        "\n",
        "**5. Use Case Suitability**\n",
        "- **SVM** is well-suited for smaller datasets or high-dimensional spaces, where it can efficiently create decision boundaries.\n",
        "- **Random Forest** is ideal for datasets with a mix of numerical and categorical variables or when interpretability is a priority.\n",
        "- **SGD Classifier** is the best choice when computational resources are limited or for large-scale datasets that require efficient training.\n"
      ],
      "metadata": {
        "id": "N5AZwL9k5w-q"
      }
    },
    {
      "cell_type": "markdown",
      "metadata": {
        "id": "LHKxA6aSTKFt"
      },
      "source": [
        "## Feature Importance"
      ]
    },
    {
      "cell_type": "code",
      "execution_count": null,
      "metadata": {
        "id": "Lzk7OmoITKFt"
      },
      "outputs": [],
      "source": [
        "def f_importances(coef, names):\n",
        "    imp = coef.flatten()\n",
        "    imp, names = zip(*sorted(zip(imp, names)))\n",
        "    plt.barh(range(len(names)), imp, align='center')\n",
        "    plt.yticks(range(len(names)), names)\n",
        "    plt.xlabel('Feature Importance')\n",
        "    plt.title('Feature Importance for SVM')\n",
        "    plt.show()"
      ]
    },
    {
      "cell_type": "code",
      "execution_count": null,
      "metadata": {
        "id": "UIqh-tIWTKFt",
        "outputId": "a79be836-03d1-4817-d7a2-0f9472f6588c"
      },
      "outputs": [
        {
          "name": "stdout",
          "output_type": "stream",
          "text": [
            "Feature Importance for random forest:\n"
          ]
        },
        {
          "data": {
            "text/html": [
              "<div>\n",
              "<style scoped>\n",
              "    .dataframe tbody tr th:only-of-type {\n",
              "        vertical-align: middle;\n",
              "    }\n",
              "\n",
              "    .dataframe tbody tr th {\n",
              "        vertical-align: top;\n",
              "    }\n",
              "\n",
              "    .dataframe thead th {\n",
              "        text-align: right;\n",
              "    }\n",
              "</style>\n",
              "<table border=\"1\" class=\"dataframe\">\n",
              "  <thead>\n",
              "    <tr style=\"text-align: right;\">\n",
              "      <th></th>\n",
              "      <th>Coef</th>\n",
              "    </tr>\n",
              "  </thead>\n",
              "  <tbody>\n",
              "    <tr>\n",
              "      <th>sentiment_</th>\n",
              "      <td>0.136310</td>\n",
              "    </tr>\n",
              "    <tr>\n",
              "      <th>love</th>\n",
              "      <td>0.034792</td>\n",
              "    </tr>\n",
              "    <tr>\n",
              "      <th>return</th>\n",
              "      <td>0.032213</td>\n",
              "    </tr>\n",
              "    <tr>\n",
              "      <th>similarity_</th>\n",
              "      <td>0.029137</td>\n",
              "    </tr>\n",
              "    <tr>\n",
              "      <th>great</th>\n",
              "      <td>0.028308</td>\n",
              "    </tr>\n",
              "    <tr>\n",
              "      <th>negative_words_</th>\n",
              "      <td>0.019320</td>\n",
              "    </tr>\n",
              "    <tr>\n",
              "      <th>helpful_1</th>\n",
              "      <td>0.018217</td>\n",
              "    </tr>\n",
              "    <tr>\n",
              "      <th>perfect</th>\n",
              "      <td>0.015454</td>\n",
              "    </tr>\n",
              "    <tr>\n",
              "      <th>comfort</th>\n",
              "      <td>0.012387</td>\n",
              "    </tr>\n",
              "    <tr>\n",
              "      <th>small</th>\n",
              "      <td>0.010337</td>\n",
              "    </tr>\n",
              "    <tr>\n",
              "      <th>adverbs_</th>\n",
              "      <td>0.009992</td>\n",
              "    </tr>\n",
              "    <tr>\n",
              "      <th>helpful_0</th>\n",
              "      <td>0.009329</td>\n",
              "    </tr>\n",
              "    <tr>\n",
              "      <th>review_length_</th>\n",
              "      <td>0.008908</td>\n",
              "    </tr>\n",
              "    <tr>\n",
              "      <th>comfortable</th>\n",
              "      <td>0.008703</td>\n",
              "    </tr>\n",
              "    <tr>\n",
              "      <th>uniqueness_</th>\n",
              "      <td>0.008391</td>\n",
              "    </tr>\n",
              "    <tr>\n",
              "      <th>well</th>\n",
              "      <td>0.008056</td>\n",
              "    </tr>\n",
              "    <tr>\n",
              "      <th>highli</th>\n",
              "      <td>0.007048</td>\n",
              "    </tr>\n",
              "    <tr>\n",
              "      <th>flesch_</th>\n",
              "      <td>0.006849</td>\n",
              "    </tr>\n",
              "    <tr>\n",
              "      <th>disappoint</th>\n",
              "      <td>0.006463</td>\n",
              "    </tr>\n",
              "    <tr>\n",
              "      <th>size</th>\n",
              "      <td>0.005970</td>\n",
              "    </tr>\n",
              "  </tbody>\n",
              "</table>\n",
              "</div>"
            ],
            "text/plain": [
              "                     Coef\n",
              "sentiment_       0.136310\n",
              "love             0.034792\n",
              "return           0.032213\n",
              "similarity_      0.029137\n",
              "great            0.028308\n",
              "negative_words_  0.019320\n",
              "helpful_1        0.018217\n",
              "perfect          0.015454\n",
              "comfort          0.012387\n",
              "small            0.010337\n",
              "adverbs_         0.009992\n",
              "helpful_0        0.009329\n",
              "review_length_   0.008908\n",
              "comfortable      0.008703\n",
              "uniqueness_      0.008391\n",
              "well             0.008056\n",
              "highli           0.007048\n",
              "flesch_          0.006849\n",
              "disappoint       0.006463\n",
              "size             0.005970"
            ]
          },
          "metadata": {},
          "output_type": "display_data"
        },
        {
          "name": "stdout",
          "output_type": "stream",
          "text": [
            "Feature Importance for SGD:\n"
          ]
        },
        {
          "data": {
            "text/html": [
              "<div>\n",
              "<style scoped>\n",
              "    .dataframe tbody tr th:only-of-type {\n",
              "        vertical-align: middle;\n",
              "    }\n",
              "\n",
              "    .dataframe tbody tr th {\n",
              "        vertical-align: top;\n",
              "    }\n",
              "\n",
              "    .dataframe thead th {\n",
              "        text-align: right;\n",
              "    }\n",
              "</style>\n",
              "<table border=\"1\" class=\"dataframe\">\n",
              "  <thead>\n",
              "    <tr style=\"text-align: right;\">\n",
              "      <th></th>\n",
              "      <th>Coef</th>\n",
              "    </tr>\n",
              "  </thead>\n",
              "  <tbody>\n",
              "    <tr>\n",
              "      <th>helpful_0</th>\n",
              "      <td>3.750012</td>\n",
              "    </tr>\n",
              "    <tr>\n",
              "      <th>worri</th>\n",
              "      <td>2.952882</td>\n",
              "    </tr>\n",
              "    <tr>\n",
              "      <th>love</th>\n",
              "      <td>2.918550</td>\n",
              "    </tr>\n",
              "    <tr>\n",
              "      <th>perfect</th>\n",
              "      <td>2.614463</td>\n",
              "    </tr>\n",
              "    <tr>\n",
              "      <th>highli</th>\n",
              "      <td>2.455412</td>\n",
              "    </tr>\n",
              "    <tr>\n",
              "      <th>exactli</th>\n",
              "      <td>2.455335</td>\n",
              "    </tr>\n",
              "    <tr>\n",
              "      <th>great</th>\n",
              "      <td>2.269859</td>\n",
              "    </tr>\n",
              "    <tr>\n",
              "      <th>well</th>\n",
              "      <td>2.182540</td>\n",
              "    </tr>\n",
              "    <tr>\n",
              "      <th>complaints</th>\n",
              "      <td>2.148329</td>\n",
              "    </tr>\n",
              "    <tr>\n",
              "      <th>perfectly</th>\n",
              "      <td>1.994817</td>\n",
              "    </tr>\n",
              "    <tr>\n",
              "      <th>happi</th>\n",
              "      <td>1.942005</td>\n",
              "    </tr>\n",
              "    <tr>\n",
              "      <th>without</th>\n",
              "      <td>1.753911</td>\n",
              "    </tr>\n",
              "    <tr>\n",
              "      <th>complaint</th>\n",
              "      <td>1.709501</td>\n",
              "    </tr>\n",
              "    <tr>\n",
              "      <th>comfortable</th>\n",
              "      <td>1.700274</td>\n",
              "    </tr>\n",
              "    <tr>\n",
              "      <th>easi</th>\n",
              "      <td>1.687003</td>\n",
              "    </tr>\n",
              "    <tr>\n",
              "      <th>excel</th>\n",
              "      <td>1.681575</td>\n",
              "    </tr>\n",
              "    <tr>\n",
              "      <th>too</th>\n",
              "      <td>1.667449</td>\n",
              "    </tr>\n",
              "    <tr>\n",
              "      <th>glad</th>\n",
              "      <td>1.632358</td>\n",
              "    </tr>\n",
              "    <tr>\n",
              "      <th>pain</th>\n",
              "      <td>1.603735</td>\n",
              "    </tr>\n",
              "    <tr>\n",
              "      <th>satisfi</th>\n",
              "      <td>1.593893</td>\n",
              "    </tr>\n",
              "  </tbody>\n",
              "</table>\n",
              "</div>"
            ],
            "text/plain": [
              "                 Coef\n",
              "helpful_0    3.750012\n",
              "worri        2.952882\n",
              "love         2.918550\n",
              "perfect      2.614463\n",
              "highli       2.455412\n",
              "exactli      2.455335\n",
              "great        2.269859\n",
              "well         2.182540\n",
              "complaints   2.148329\n",
              "perfectly    1.994817\n",
              "happi        1.942005\n",
              "without      1.753911\n",
              "complaint    1.709501\n",
              "comfortable  1.700274\n",
              "easi         1.687003\n",
              "excel        1.681575\n",
              "too          1.667449\n",
              "glad         1.632358\n",
              "pain         1.603735\n",
              "satisfi      1.593893"
            ]
          },
          "metadata": {},
          "output_type": "display_data"
        },
        {
          "name": "stdout",
          "output_type": "stream",
          "text": [
            "Feature importance for SVM\n"
          ]
        },
        {
          "data": {
            "text/html": [
              "<div>\n",
              "<style scoped>\n",
              "    .dataframe tbody tr th:only-of-type {\n",
              "        vertical-align: middle;\n",
              "    }\n",
              "\n",
              "    .dataframe tbody tr th {\n",
              "        vertical-align: top;\n",
              "    }\n",
              "\n",
              "    .dataframe thead th {\n",
              "        text-align: right;\n",
              "    }\n",
              "</style>\n",
              "<table border=\"1\" class=\"dataframe\">\n",
              "  <thead>\n",
              "    <tr style=\"text-align: right;\">\n",
              "      <th></th>\n",
              "      <th>Feature</th>\n",
              "      <th>Importance</th>\n",
              "    </tr>\n",
              "  </thead>\n",
              "  <tbody>\n",
              "    <tr>\n",
              "      <th>1414</th>\n",
              "      <td>return</td>\n",
              "      <td>-4.620396</td>\n",
              "    </tr>\n",
              "    <tr>\n",
              "      <th>1</th>\n",
              "      <td>helpful_1</td>\n",
              "      <td>-2.839161</td>\n",
              "    </tr>\n",
              "    <tr>\n",
              "      <th>0</th>\n",
              "      <td>helpful_0</td>\n",
              "      <td>2.798401</td>\n",
              "    </tr>\n",
              "    <tr>\n",
              "      <th>1976</th>\n",
              "      <td>worri</td>\n",
              "      <td>2.696911</td>\n",
              "    </tr>\n",
              "    <tr>\n",
              "      <th>579</th>\n",
              "      <td>exactli</td>\n",
              "      <td>2.563370</td>\n",
              "    </tr>\n",
              "    <tr>\n",
              "      <th>1015</th>\n",
              "      <td>love</td>\n",
              "      <td>2.430492</td>\n",
              "    </tr>\n",
              "    <tr>\n",
              "      <th>1245</th>\n",
              "      <td>perfectly</td>\n",
              "      <td>2.373765</td>\n",
              "    </tr>\n",
              "    <tr>\n",
              "      <th>832</th>\n",
              "      <td>however</td>\n",
              "      <td>-2.240184</td>\n",
              "    </tr>\n",
              "    <tr>\n",
              "      <th>806</th>\n",
              "      <td>highli</td>\n",
              "      <td>2.194506</td>\n",
              "    </tr>\n",
              "    <tr>\n",
              "      <th>858</th>\n",
              "      <td>inch</td>\n",
              "      <td>-2.180916</td>\n",
              "    </tr>\n",
              "    <tr>\n",
              "      <th>1747</th>\n",
              "      <td>thin</td>\n",
              "      <td>-2.111019</td>\n",
              "    </tr>\n",
              "    <tr>\n",
              "      <th>1243</th>\n",
              "      <td>perfect</td>\n",
              "      <td>2.096781</td>\n",
              "    </tr>\n",
              "    <tr>\n",
              "      <th>1168</th>\n",
              "      <td>ok</td>\n",
              "      <td>-2.053827</td>\n",
              "    </tr>\n",
              "    <tr>\n",
              "      <th>1757</th>\n",
              "      <td>thought</td>\n",
              "      <td>-2.046203</td>\n",
              "    </tr>\n",
              "    <tr>\n",
              "      <th>1051</th>\n",
              "      <td>meant</td>\n",
              "      <td>-2.031858</td>\n",
              "    </tr>\n",
              "    <tr>\n",
              "      <th>1568</th>\n",
              "      <td>small</td>\n",
              "      <td>-1.973944</td>\n",
              "    </tr>\n",
              "    <tr>\n",
              "      <th>750</th>\n",
              "      <td>great</td>\n",
              "      <td>1.933207</td>\n",
              "    </tr>\n",
              "    <tr>\n",
              "      <th>604</th>\n",
              "      <td>fabric</td>\n",
              "      <td>-1.918431</td>\n",
              "    </tr>\n",
              "    <tr>\n",
              "      <th>1914</th>\n",
              "      <td>way</td>\n",
              "      <td>-1.907134</td>\n",
              "    </tr>\n",
              "    <tr>\n",
              "      <th>764</th>\n",
              "      <td>hand</td>\n",
              "      <td>-1.892544</td>\n",
              "    </tr>\n",
              "  </tbody>\n",
              "</table>\n",
              "</div>"
            ],
            "text/plain": [
              "        Feature  Importance\n",
              "1414     return   -4.620396\n",
              "1     helpful_1   -2.839161\n",
              "0     helpful_0    2.798401\n",
              "1976      worri    2.696911\n",
              "579     exactli    2.563370\n",
              "1015       love    2.430492\n",
              "1245  perfectly    2.373765\n",
              "832     however   -2.240184\n",
              "806      highli    2.194506\n",
              "858        inch   -2.180916\n",
              "1747       thin   -2.111019\n",
              "1243    perfect    2.096781\n",
              "1168         ok   -2.053827\n",
              "1757    thought   -2.046203\n",
              "1051      meant   -2.031858\n",
              "1568      small   -1.973944\n",
              "750       great    1.933207\n",
              "604      fabric   -1.918431\n",
              "1914        way   -1.907134\n",
              "764        hand   -1.892544"
            ]
          },
          "metadata": {},
          "output_type": "display_data"
        }
      ],
      "source": [
        "# Extract coefficients\n",
        "best_pipeline = rf_search.best_estimator_\n",
        "best_rf = best_pipeline.named_steps['rf']\n",
        "feature_importances = best_rf.feature_importances_\n",
        "feature_importance_df = pd.DataFrame( feature_importances, columns=['Coef'], index = feature_names).sort_values(by='Coef', ascending=False)\n",
        "\n",
        "# Display feature importance\n",
        "print(\"Feature Importance for random forest:\")\n",
        "display(feature_importance_df.head(20))\n",
        "\n",
        "best_pipeline = sgd_search.best_estimator_\n",
        "best_sgd = best_pipeline.named_steps['sgd']\n",
        "feature_importances = best_sgd.coef_[0]\n",
        "feature_importance_df = pd.DataFrame( feature_importances, columns=['Coef'], index = feature_names).sort_values(by='Coef', ascending=False)\n",
        "print(\"Feature Importance for SGD:\")\n",
        "display(feature_importance_df.head(20))\n",
        "\n",
        "best_svm = halving_search.best_estimator_\n",
        "coef = best_svm.coef_.toarray()[0]\n",
        "feature_importance_df = pd.DataFrame({\n",
        "        'Feature': feature_names,\n",
        "        'Importance': coef\n",
        "    })\n",
        "\n",
        "top_features = feature_importance_df.reindex(\n",
        "        feature_importance_df['Importance'].abs().sort_values(ascending=False).index\n",
        "    ).head(20)\n",
        "print(\"Feature importance for SVM\")\n",
        "display(top_features)\n"
      ]
    },
    {
      "cell_type": "markdown",
      "metadata": {
        "id": "4olZLs62TKFt"
      },
      "source": [
        "1. **Random Forest Feature Importance**:\n",
        "   - The `feature_importances_` attribute of `RandomForestClassifier` is used to extract feature importance.\n",
        "   - The feature importance values are converted into a DataFrame with the feature names as the index.\n",
        "   - The DataFrame is sorted by importance in descending order and the top 20 features are displayed.\n",
        "\n",
        "2. **SGD Feature Importance**:\n",
        "   - The coefficients of the best `SGDClassifier` model (`coef_`) represent the feature importance for linear models.\n",
        "   - The coefficients are converted into a DataFrame and sorted by their absolute values (important features could have both high positive and high negative values).\n",
        "   - The top 20 features are displayed.\n",
        "\n",
        "3. **SVM Feature Importance**:\n",
        "   - For SVM, the `coef_` attribute provides the feature importance. Since it could be sparse, it is converted to a dense array using `.toarray()`.\n",
        "   - The feature importance is stored in a DataFrame and sorted by absolute values to rank the most influential features.\n",
        "   - The top 20 features are displayed.\n",
        "\n",
        "4. **Visualization for SVM**:\n",
        "   - The `f_importances` function visualizes feature importance using a horizontal bar chart.\n",
        "   - It takes the coefficients and feature names as input, sorts them by importance, and displays the chart with feature names on the y-axis.\n"
      ]
    },
    {
      "cell_type": "markdown",
      "metadata": {
        "id": "HHuoyy8JTKFt"
      },
      "source": [
        "#### **Feature Importance Comparison Across Models**\n",
        "\n",
        "The feature importance results from Random Forest, SGD, and SVM highlight the distinct ways these models prioritize different features in predicting the target variable. Here are the main observations:\n",
        "\n",
        "- **Random Forest**:\n",
        "  - Focuses on features like `sentiment_`, `similarity_`, and `negative_words_` as top contributors to the model's performance.\n",
        "  - It emphasizes both numerical and text-based features, such as `love` and `return`, suggesting a balanced consideration of text sentiment and metadata.\n",
        "\n",
        "- **SGD**:\n",
        "  - Highly weights features such as `helpful_0`, `worri`, and `love`, showing its reliance on specific sentiment-based terms and user feedback metrics.\n",
        "  - This model tends to give much higher absolute importance scores, which reflects the linear nature of SGD and its sensitivity to feature scale and sparsity.\n",
        "\n",
        "- **SVM**:\n",
        "  - Highlights features like `return`, `helpful_0`, and `love`, indicating a focus on key user feedback and product sentiment terms.\n",
        "  - The presence of both positive and negative importance values (e.g., `return` being strongly negative) shows the role of polarity in feature contributions for classification.\n",
        "\n",
        "#### **General Insights**\n",
        "- All three models consider sentiment-related features (`love`, `great`, `perfect`) as important, but their exact rankings differ due to model-specific mechanisms.\n",
        "- Random Forest provides a more balanced distribution of feature importance, whereas SGD and SVM show sharper contrasts in feature weights.\n",
        "- SVM's feature importance reveals its reliance on separating hyperplanes, with certain features being critical for distinguishing between classes.\n",
        "\n",
        "These differences highlight the unique characteristics and strengths of each model when applied to the dataset.\n"
      ]
    },
    {
      "cell_type": "markdown",
      "metadata": {
        "id": "yz69ljr2TKFt"
      },
      "source": [
        "## Voting Classifier"
      ]
    },
    {
      "cell_type": "code",
      "execution_count": null,
      "metadata": {
        "scrolled": true,
        "id": "JeolNl3KTKFu",
        "outputId": "8b3eefaf-8f84-4c64-93b6-fe854b3b9846"
      },
      "outputs": [
        {
          "name": "stderr",
          "output_type": "stream",
          "text": [
            "/Library/Frameworks/Python.framework/Versions/3.10/lib/python3.10/site-packages/mlxtend/classifier/ensemble_vote.py:172: UserWarning: fit_base_estimators=False enforces use_clones to be `False`\n",
            "  warnings.warn(\n"
          ]
        },
        {
          "data": {
            "text/html": [
              "<style>#sk-container-id-3 {\n",
              "  /* Definition of color scheme common for light and dark mode */\n",
              "  --sklearn-color-text: black;\n",
              "  --sklearn-color-line: gray;\n",
              "  /* Definition of color scheme for unfitted estimators */\n",
              "  --sklearn-color-unfitted-level-0: #fff5e6;\n",
              "  --sklearn-color-unfitted-level-1: #f6e4d2;\n",
              "  --sklearn-color-unfitted-level-2: #ffe0b3;\n",
              "  --sklearn-color-unfitted-level-3: chocolate;\n",
              "  /* Definition of color scheme for fitted estimators */\n",
              "  --sklearn-color-fitted-level-0: #f0f8ff;\n",
              "  --sklearn-color-fitted-level-1: #d4ebff;\n",
              "  --sklearn-color-fitted-level-2: #b3dbfd;\n",
              "  --sklearn-color-fitted-level-3: cornflowerblue;\n",
              "\n",
              "  /* Specific color for light theme */\n",
              "  --sklearn-color-text-on-default-background: var(--sg-text-color, var(--theme-code-foreground, var(--jp-content-font-color1, black)));\n",
              "  --sklearn-color-background: var(--sg-background-color, var(--theme-background, var(--jp-layout-color0, white)));\n",
              "  --sklearn-color-border-box: var(--sg-text-color, var(--theme-code-foreground, var(--jp-content-font-color1, black)));\n",
              "  --sklearn-color-icon: #696969;\n",
              "\n",
              "  @media (prefers-color-scheme: dark) {\n",
              "    /* Redefinition of color scheme for dark theme */\n",
              "    --sklearn-color-text-on-default-background: var(--sg-text-color, var(--theme-code-foreground, var(--jp-content-font-color1, white)));\n",
              "    --sklearn-color-background: var(--sg-background-color, var(--theme-background, var(--jp-layout-color0, #111)));\n",
              "    --sklearn-color-border-box: var(--sg-text-color, var(--theme-code-foreground, var(--jp-content-font-color1, white)));\n",
              "    --sklearn-color-icon: #878787;\n",
              "  }\n",
              "}\n",
              "\n",
              "#sk-container-id-3 {\n",
              "  color: var(--sklearn-color-text);\n",
              "}\n",
              "\n",
              "#sk-container-id-3 pre {\n",
              "  padding: 0;\n",
              "}\n",
              "\n",
              "#sk-container-id-3 input.sk-hidden--visually {\n",
              "  border: 0;\n",
              "  clip: rect(1px 1px 1px 1px);\n",
              "  clip: rect(1px, 1px, 1px, 1px);\n",
              "  height: 1px;\n",
              "  margin: -1px;\n",
              "  overflow: hidden;\n",
              "  padding: 0;\n",
              "  position: absolute;\n",
              "  width: 1px;\n",
              "}\n",
              "\n",
              "#sk-container-id-3 div.sk-dashed-wrapped {\n",
              "  border: 1px dashed var(--sklearn-color-line);\n",
              "  margin: 0 0.4em 0.5em 0.4em;\n",
              "  box-sizing: border-box;\n",
              "  padding-bottom: 0.4em;\n",
              "  background-color: var(--sklearn-color-background);\n",
              "}\n",
              "\n",
              "#sk-container-id-3 div.sk-container {\n",
              "  /* jupyter's `normalize.less` sets `[hidden] { display: none; }`\n",
              "     but bootstrap.min.css set `[hidden] { display: none !important; }`\n",
              "     so we also need the `!important` here to be able to override the\n",
              "     default hidden behavior on the sphinx rendered scikit-learn.org.\n",
              "     See: https://github.com/scikit-learn/scikit-learn/issues/21755 */\n",
              "  display: inline-block !important;\n",
              "  position: relative;\n",
              "}\n",
              "\n",
              "#sk-container-id-3 div.sk-text-repr-fallback {\n",
              "  display: none;\n",
              "}\n",
              "\n",
              "div.sk-parallel-item,\n",
              "div.sk-serial,\n",
              "div.sk-item {\n",
              "  /* draw centered vertical line to link estimators */\n",
              "  background-image: linear-gradient(var(--sklearn-color-text-on-default-background), var(--sklearn-color-text-on-default-background));\n",
              "  background-size: 2px 100%;\n",
              "  background-repeat: no-repeat;\n",
              "  background-position: center center;\n",
              "}\n",
              "\n",
              "/* Parallel-specific style estimator block */\n",
              "\n",
              "#sk-container-id-3 div.sk-parallel-item::after {\n",
              "  content: \"\";\n",
              "  width: 100%;\n",
              "  border-bottom: 2px solid var(--sklearn-color-text-on-default-background);\n",
              "  flex-grow: 1;\n",
              "}\n",
              "\n",
              "#sk-container-id-3 div.sk-parallel {\n",
              "  display: flex;\n",
              "  align-items: stretch;\n",
              "  justify-content: center;\n",
              "  background-color: var(--sklearn-color-background);\n",
              "  position: relative;\n",
              "}\n",
              "\n",
              "#sk-container-id-3 div.sk-parallel-item {\n",
              "  display: flex;\n",
              "  flex-direction: column;\n",
              "}\n",
              "\n",
              "#sk-container-id-3 div.sk-parallel-item:first-child::after {\n",
              "  align-self: flex-end;\n",
              "  width: 50%;\n",
              "}\n",
              "\n",
              "#sk-container-id-3 div.sk-parallel-item:last-child::after {\n",
              "  align-self: flex-start;\n",
              "  width: 50%;\n",
              "}\n",
              "\n",
              "#sk-container-id-3 div.sk-parallel-item:only-child::after {\n",
              "  width: 0;\n",
              "}\n",
              "\n",
              "/* Serial-specific style estimator block */\n",
              "\n",
              "#sk-container-id-3 div.sk-serial {\n",
              "  display: flex;\n",
              "  flex-direction: column;\n",
              "  align-items: center;\n",
              "  background-color: var(--sklearn-color-background);\n",
              "  padding-right: 1em;\n",
              "  padding-left: 1em;\n",
              "}\n",
              "\n",
              "\n",
              "/* Toggleable style: style used for estimator/Pipeline/ColumnTransformer box that is\n",
              "clickable and can be expanded/collapsed.\n",
              "- Pipeline and ColumnTransformer use this feature and define the default style\n",
              "- Estimators will overwrite some part of the style using the `sk-estimator` class\n",
              "*/\n",
              "\n",
              "/* Pipeline and ColumnTransformer style (default) */\n",
              "\n",
              "#sk-container-id-3 div.sk-toggleable {\n",
              "  /* Default theme specific background. It is overwritten whether we have a\n",
              "  specific estimator or a Pipeline/ColumnTransformer */\n",
              "  background-color: var(--sklearn-color-background);\n",
              "}\n",
              "\n",
              "/* Toggleable label */\n",
              "#sk-container-id-3 label.sk-toggleable__label {\n",
              "  cursor: pointer;\n",
              "  display: block;\n",
              "  width: 100%;\n",
              "  margin-bottom: 0;\n",
              "  padding: 0.5em;\n",
              "  box-sizing: border-box;\n",
              "  text-align: center;\n",
              "}\n",
              "\n",
              "#sk-container-id-3 label.sk-toggleable__label-arrow:before {\n",
              "  /* Arrow on the left of the label */\n",
              "  content: \"▸\";\n",
              "  float: left;\n",
              "  margin-right: 0.25em;\n",
              "  color: var(--sklearn-color-icon);\n",
              "}\n",
              "\n",
              "#sk-container-id-3 label.sk-toggleable__label-arrow:hover:before {\n",
              "  color: var(--sklearn-color-text);\n",
              "}\n",
              "\n",
              "/* Toggleable content - dropdown */\n",
              "\n",
              "#sk-container-id-3 div.sk-toggleable__content {\n",
              "  max-height: 0;\n",
              "  max-width: 0;\n",
              "  overflow: hidden;\n",
              "  text-align: left;\n",
              "  /* unfitted */\n",
              "  background-color: var(--sklearn-color-unfitted-level-0);\n",
              "}\n",
              "\n",
              "#sk-container-id-3 div.sk-toggleable__content.fitted {\n",
              "  /* fitted */\n",
              "  background-color: var(--sklearn-color-fitted-level-0);\n",
              "}\n",
              "\n",
              "#sk-container-id-3 div.sk-toggleable__content pre {\n",
              "  margin: 0.2em;\n",
              "  border-radius: 0.25em;\n",
              "  color: var(--sklearn-color-text);\n",
              "  /* unfitted */\n",
              "  background-color: var(--sklearn-color-unfitted-level-0);\n",
              "}\n",
              "\n",
              "#sk-container-id-3 div.sk-toggleable__content.fitted pre {\n",
              "  /* unfitted */\n",
              "  background-color: var(--sklearn-color-fitted-level-0);\n",
              "}\n",
              "\n",
              "#sk-container-id-3 input.sk-toggleable__control:checked~div.sk-toggleable__content {\n",
              "  /* Expand drop-down */\n",
              "  max-height: 200px;\n",
              "  max-width: 100%;\n",
              "  overflow: auto;\n",
              "}\n",
              "\n",
              "#sk-container-id-3 input.sk-toggleable__control:checked~label.sk-toggleable__label-arrow:before {\n",
              "  content: \"▾\";\n",
              "}\n",
              "\n",
              "/* Pipeline/ColumnTransformer-specific style */\n",
              "\n",
              "#sk-container-id-3 div.sk-label input.sk-toggleable__control:checked~label.sk-toggleable__label {\n",
              "  color: var(--sklearn-color-text);\n",
              "  background-color: var(--sklearn-color-unfitted-level-2);\n",
              "}\n",
              "\n",
              "#sk-container-id-3 div.sk-label.fitted input.sk-toggleable__control:checked~label.sk-toggleable__label {\n",
              "  background-color: var(--sklearn-color-fitted-level-2);\n",
              "}\n",
              "\n",
              "/* Estimator-specific style */\n",
              "\n",
              "/* Colorize estimator box */\n",
              "#sk-container-id-3 div.sk-estimator input.sk-toggleable__control:checked~label.sk-toggleable__label {\n",
              "  /* unfitted */\n",
              "  background-color: var(--sklearn-color-unfitted-level-2);\n",
              "}\n",
              "\n",
              "#sk-container-id-3 div.sk-estimator.fitted input.sk-toggleable__control:checked~label.sk-toggleable__label {\n",
              "  /* fitted */\n",
              "  background-color: var(--sklearn-color-fitted-level-2);\n",
              "}\n",
              "\n",
              "#sk-container-id-3 div.sk-label label.sk-toggleable__label,\n",
              "#sk-container-id-3 div.sk-label label {\n",
              "  /* The background is the default theme color */\n",
              "  color: var(--sklearn-color-text-on-default-background);\n",
              "}\n",
              "\n",
              "/* On hover, darken the color of the background */\n",
              "#sk-container-id-3 div.sk-label:hover label.sk-toggleable__label {\n",
              "  color: var(--sklearn-color-text);\n",
              "  background-color: var(--sklearn-color-unfitted-level-2);\n",
              "}\n",
              "\n",
              "/* Label box, darken color on hover, fitted */\n",
              "#sk-container-id-3 div.sk-label.fitted:hover label.sk-toggleable__label.fitted {\n",
              "  color: var(--sklearn-color-text);\n",
              "  background-color: var(--sklearn-color-fitted-level-2);\n",
              "}\n",
              "\n",
              "/* Estimator label */\n",
              "\n",
              "#sk-container-id-3 div.sk-label label {\n",
              "  font-family: monospace;\n",
              "  font-weight: bold;\n",
              "  display: inline-block;\n",
              "  line-height: 1.2em;\n",
              "}\n",
              "\n",
              "#sk-container-id-3 div.sk-label-container {\n",
              "  text-align: center;\n",
              "}\n",
              "\n",
              "/* Estimator-specific */\n",
              "#sk-container-id-3 div.sk-estimator {\n",
              "  font-family: monospace;\n",
              "  border: 1px dotted var(--sklearn-color-border-box);\n",
              "  border-radius: 0.25em;\n",
              "  box-sizing: border-box;\n",
              "  margin-bottom: 0.5em;\n",
              "  /* unfitted */\n",
              "  background-color: var(--sklearn-color-unfitted-level-0);\n",
              "}\n",
              "\n",
              "#sk-container-id-3 div.sk-estimator.fitted {\n",
              "  /* fitted */\n",
              "  background-color: var(--sklearn-color-fitted-level-0);\n",
              "}\n",
              "\n",
              "/* on hover */\n",
              "#sk-container-id-3 div.sk-estimator:hover {\n",
              "  /* unfitted */\n",
              "  background-color: var(--sklearn-color-unfitted-level-2);\n",
              "}\n",
              "\n",
              "#sk-container-id-3 div.sk-estimator.fitted:hover {\n",
              "  /* fitted */\n",
              "  background-color: var(--sklearn-color-fitted-level-2);\n",
              "}\n",
              "\n",
              "/* Specification for estimator info (e.g. \"i\" and \"?\") */\n",
              "\n",
              "/* Common style for \"i\" and \"?\" */\n",
              "\n",
              ".sk-estimator-doc-link,\n",
              "a:link.sk-estimator-doc-link,\n",
              "a:visited.sk-estimator-doc-link {\n",
              "  float: right;\n",
              "  font-size: smaller;\n",
              "  line-height: 1em;\n",
              "  font-family: monospace;\n",
              "  background-color: var(--sklearn-color-background);\n",
              "  border-radius: 1em;\n",
              "  height: 1em;\n",
              "  width: 1em;\n",
              "  text-decoration: none !important;\n",
              "  margin-left: 1ex;\n",
              "  /* unfitted */\n",
              "  border: var(--sklearn-color-unfitted-level-1) 1pt solid;\n",
              "  color: var(--sklearn-color-unfitted-level-1);\n",
              "}\n",
              "\n",
              ".sk-estimator-doc-link.fitted,\n",
              "a:link.sk-estimator-doc-link.fitted,\n",
              "a:visited.sk-estimator-doc-link.fitted {\n",
              "  /* fitted */\n",
              "  border: var(--sklearn-color-fitted-level-1) 1pt solid;\n",
              "  color: var(--sklearn-color-fitted-level-1);\n",
              "}\n",
              "\n",
              "/* On hover */\n",
              "div.sk-estimator:hover .sk-estimator-doc-link:hover,\n",
              ".sk-estimator-doc-link:hover,\n",
              "div.sk-label-container:hover .sk-estimator-doc-link:hover,\n",
              ".sk-estimator-doc-link:hover {\n",
              "  /* unfitted */\n",
              "  background-color: var(--sklearn-color-unfitted-level-3);\n",
              "  color: var(--sklearn-color-background);\n",
              "  text-decoration: none;\n",
              "}\n",
              "\n",
              "div.sk-estimator.fitted:hover .sk-estimator-doc-link.fitted:hover,\n",
              ".sk-estimator-doc-link.fitted:hover,\n",
              "div.sk-label-container:hover .sk-estimator-doc-link.fitted:hover,\n",
              ".sk-estimator-doc-link.fitted:hover {\n",
              "  /* fitted */\n",
              "  background-color: var(--sklearn-color-fitted-level-3);\n",
              "  color: var(--sklearn-color-background);\n",
              "  text-decoration: none;\n",
              "}\n",
              "\n",
              "/* Span, style for the box shown on hovering the info icon */\n",
              ".sk-estimator-doc-link span {\n",
              "  display: none;\n",
              "  z-index: 9999;\n",
              "  position: relative;\n",
              "  font-weight: normal;\n",
              "  right: .2ex;\n",
              "  padding: .5ex;\n",
              "  margin: .5ex;\n",
              "  width: min-content;\n",
              "  min-width: 20ex;\n",
              "  max-width: 50ex;\n",
              "  color: var(--sklearn-color-text);\n",
              "  box-shadow: 2pt 2pt 4pt #999;\n",
              "  /* unfitted */\n",
              "  background: var(--sklearn-color-unfitted-level-0);\n",
              "  border: .5pt solid var(--sklearn-color-unfitted-level-3);\n",
              "}\n",
              "\n",
              ".sk-estimator-doc-link.fitted span {\n",
              "  /* fitted */\n",
              "  background: var(--sklearn-color-fitted-level-0);\n",
              "  border: var(--sklearn-color-fitted-level-3);\n",
              "}\n",
              "\n",
              ".sk-estimator-doc-link:hover span {\n",
              "  display: block;\n",
              "}\n",
              "\n",
              "/* \"?\"-specific style due to the `<a>` HTML tag */\n",
              "\n",
              "#sk-container-id-3 a.estimator_doc_link {\n",
              "  float: right;\n",
              "  font-size: 1rem;\n",
              "  line-height: 1em;\n",
              "  font-family: monospace;\n",
              "  background-color: var(--sklearn-color-background);\n",
              "  border-radius: 1rem;\n",
              "  height: 1rem;\n",
              "  width: 1rem;\n",
              "  text-decoration: none;\n",
              "  /* unfitted */\n",
              "  color: var(--sklearn-color-unfitted-level-1);\n",
              "  border: var(--sklearn-color-unfitted-level-1) 1pt solid;\n",
              "}\n",
              "\n",
              "#sk-container-id-3 a.estimator_doc_link.fitted {\n",
              "  /* fitted */\n",
              "  border: var(--sklearn-color-fitted-level-1) 1pt solid;\n",
              "  color: var(--sklearn-color-fitted-level-1);\n",
              "}\n",
              "\n",
              "/* On hover */\n",
              "#sk-container-id-3 a.estimator_doc_link:hover {\n",
              "  /* unfitted */\n",
              "  background-color: var(--sklearn-color-unfitted-level-3);\n",
              "  color: var(--sklearn-color-background);\n",
              "  text-decoration: none;\n",
              "}\n",
              "\n",
              "#sk-container-id-3 a.estimator_doc_link.fitted:hover {\n",
              "  /* fitted */\n",
              "  background-color: var(--sklearn-color-fitted-level-3);\n",
              "}\n",
              "</style><div id=\"sk-container-id-3\" class=\"sk-top-container\"><div class=\"sk-text-repr-fallback\"><pre>EnsembleVoteClassifier(clfs=[RandomizedSearchCV(cv=3,\n",
              "                                                estimator=Pipeline(steps=[(&#x27;sgd&#x27;,\n",
              "                                                                           SGDClassifier(random_state=42,\n",
              "                                                                                         warm_start=True))]),\n",
              "                                                n_iter=20, n_jobs=-1,\n",
              "                                                param_distributions={&#x27;sgd__alpha&#x27;: [0.0001,\n",
              "                                                                                    0.001,\n",
              "                                                                                    0.01],\n",
              "                                                                     &#x27;sgd__loss&#x27;: [&#x27;hinge&#x27;,\n",
              "                                                                                   &#x27;log_loss&#x27;,\n",
              "                                                                                   &#x27;squared_hinge&#x27;,\n",
              "                                                                                   &#x27;modified_huber&#x27;],\n",
              "                                                                     &#x27;sgd__max_iter&#x27;: [300,\n",
              "                                                                                       500,\n",
              "                                                                                       1000,\n",
              "                                                                                       1500,\n",
              "                                                                                       2000,\n",
              "                                                                                       2500],\n",
              "                                                                     &#x27;sgd__penalty&#x27;: [&#x27;l2&#x27;,\n",
              "                                                                                      &#x27;l1&#x27;,\n",
              "                                                                                      &#x27;e...\n",
              "                                                 param_grid={&#x27;rf__criterion&#x27;: [&#x27;gini&#x27;,\n",
              "                                                                               &#x27;entropy&#x27;],\n",
              "                                                             &#x27;rf__max_depth&#x27;: [5,\n",
              "                                                                               10,\n",
              "                                                                               20,\n",
              "                                                                               30],\n",
              "                                                             &#x27;rf__min_samples_split&#x27;: [2,\n",
              "                                                                                       5,\n",
              "                                                                                       10],\n",
              "                                                             &#x27;rf__n_estimators&#x27;: [100,\n",
              "                                                                                  300,\n",
              "                                                                                  500,\n",
              "                                                                                  1000]},\n",
              "                                                 verbose=1),\n",
              "                             HalvingGridSearchCV(cv=3, estimator=SVC(),\n",
              "                                                 factor=2, n_jobs=-1,\n",
              "                                                 param_grid={&#x27;C&#x27;: [0.1, 1, 10,\n",
              "                                                                   100],\n",
              "                                                             &#x27;gamma&#x27;: [&#x27;scale&#x27;,\n",
              "                                                                       &#x27;auto&#x27;],\n",
              "                                                             &#x27;kernel&#x27;: [&#x27;linear&#x27;]},\n",
              "                                                 verbose=1)],\n",
              "                       fit_base_estimators=False, use_clones=False)</pre><b>In a Jupyter environment, please rerun this cell to show the HTML representation or trust the notebook. <br />On GitHub, the HTML representation is unable to render, please try loading this page with nbviewer.org.</b></div><div class=\"sk-container\" hidden><div class=\"sk-item\"><div class=\"sk-estimator fitted sk-toggleable\"><input class=\"sk-toggleable__control sk-hidden--visually\" id=\"sk-estimator-id-33\" type=\"checkbox\" checked><label for=\"sk-estimator-id-33\" class=\"sk-toggleable__label fitted sk-toggleable__label-arrow fitted\">&nbsp;EnsembleVoteClassifier<span class=\"sk-estimator-doc-link fitted\">i<span>Fitted</span></span></label><div class=\"sk-toggleable__content fitted\"><pre>EnsembleVoteClassifier(clfs=[RandomizedSearchCV(cv=3,\n",
              "                                                estimator=Pipeline(steps=[(&#x27;sgd&#x27;,\n",
              "                                                                           SGDClassifier(random_state=42,\n",
              "                                                                                         warm_start=True))]),\n",
              "                                                n_iter=20, n_jobs=-1,\n",
              "                                                param_distributions={&#x27;sgd__alpha&#x27;: [0.0001,\n",
              "                                                                                    0.001,\n",
              "                                                                                    0.01],\n",
              "                                                                     &#x27;sgd__loss&#x27;: [&#x27;hinge&#x27;,\n",
              "                                                                                   &#x27;log_loss&#x27;,\n",
              "                                                                                   &#x27;squared_hinge&#x27;,\n",
              "                                                                                   &#x27;modified_huber&#x27;],\n",
              "                                                                     &#x27;sgd__max_iter&#x27;: [300,\n",
              "                                                                                       500,\n",
              "                                                                                       1000,\n",
              "                                                                                       1500,\n",
              "                                                                                       2000,\n",
              "                                                                                       2500],\n",
              "                                                                     &#x27;sgd__penalty&#x27;: [&#x27;l2&#x27;,\n",
              "                                                                                      &#x27;l1&#x27;,\n",
              "                                                                                      &#x27;e...\n",
              "                                                 param_grid={&#x27;rf__criterion&#x27;: [&#x27;gini&#x27;,\n",
              "                                                                               &#x27;entropy&#x27;],\n",
              "                                                             &#x27;rf__max_depth&#x27;: [5,\n",
              "                                                                               10,\n",
              "                                                                               20,\n",
              "                                                                               30],\n",
              "                                                             &#x27;rf__min_samples_split&#x27;: [2,\n",
              "                                                                                       5,\n",
              "                                                                                       10],\n",
              "                                                             &#x27;rf__n_estimators&#x27;: [100,\n",
              "                                                                                  300,\n",
              "                                                                                  500,\n",
              "                                                                                  1000]},\n",
              "                                                 verbose=1),\n",
              "                             HalvingGridSearchCV(cv=3, estimator=SVC(),\n",
              "                                                 factor=2, n_jobs=-1,\n",
              "                                                 param_grid={&#x27;C&#x27;: [0.1, 1, 10,\n",
              "                                                                   100],\n",
              "                                                             &#x27;gamma&#x27;: [&#x27;scale&#x27;,\n",
              "                                                                       &#x27;auto&#x27;],\n",
              "                                                             &#x27;kernel&#x27;: [&#x27;linear&#x27;]},\n",
              "                                                 verbose=1)],\n",
              "                       fit_base_estimators=False, use_clones=False)</pre></div> </div></div></div></div>"
            ],
            "text/plain": [
              "EnsembleVoteClassifier(clfs=[RandomizedSearchCV(cv=3,\n",
              "                                                estimator=Pipeline(steps=[('sgd',\n",
              "                                                                           SGDClassifier(random_state=42,\n",
              "                                                                                         warm_start=True))]),\n",
              "                                                n_iter=20, n_jobs=-1,\n",
              "                                                param_distributions={'sgd__alpha': [0.0001,\n",
              "                                                                                    0.001,\n",
              "                                                                                    0.01],\n",
              "                                                                     'sgd__loss': ['hinge',\n",
              "                                                                                   'log_loss',\n",
              "                                                                                   'squared_hinge',\n",
              "                                                                                   'modified_huber'],\n",
              "                                                                     'sgd__max_iter': [300,\n",
              "                                                                                       500,\n",
              "                                                                                       1000,\n",
              "                                                                                       1500,\n",
              "                                                                                       2000,\n",
              "                                                                                       2500],\n",
              "                                                                     'sgd__penalty': ['l2',\n",
              "                                                                                      'l1',\n",
              "                                                                                      'e...\n",
              "                                                 param_grid={'rf__criterion': ['gini',\n",
              "                                                                               'entropy'],\n",
              "                                                             'rf__max_depth': [5,\n",
              "                                                                               10,\n",
              "                                                                               20,\n",
              "                                                                               30],\n",
              "                                                             'rf__min_samples_split': [2,\n",
              "                                                                                       5,\n",
              "                                                                                       10],\n",
              "                                                             'rf__n_estimators': [100,\n",
              "                                                                                  300,\n",
              "                                                                                  500,\n",
              "                                                                                  1000]},\n",
              "                                                 verbose=1),\n",
              "                             HalvingGridSearchCV(cv=3, estimator=SVC(),\n",
              "                                                 factor=2, n_jobs=-1,\n",
              "                                                 param_grid={'C': [0.1, 1, 10,\n",
              "                                                                   100],\n",
              "                                                             'gamma': ['scale',\n",
              "                                                                       'auto'],\n",
              "                                                             'kernel': ['linear']},\n",
              "                                                 verbose=1)],\n",
              "                       fit_base_estimators=False, use_clones=False)"
            ]
          },
          "execution_count": 33,
          "metadata": {},
          "output_type": "execute_result"
        }
      ],
      "source": [
        "eclf = EnsembleVoteClassifier(clfs=[sgd_search, rf_search, halving_search], fit_base_estimators=False)\n",
        "eclf.fit(X_train, y_train)"
      ]
    },
    {
      "cell_type": "markdown",
      "metadata": {
        "id": "EwAHbTZbTKFu"
      },
      "source": [
        "1. **Voting Classifier Overview**:\n",
        "   - The `EnsembleVoteClassifier` combines multiple classifiers (`SGDClassifier`, `RandomForestClassifier`, and `SVM`) into a single model.\n",
        "   - Voting classifiers improve overall prediction accuracy by aggregating predictions from diverse models.\n",
        "\n",
        "2. **Components**:\n",
        "   - **`sgd_search`**: The `SGDClassifier` with hyperparameter tuning using `RandomizedSearchCV`.\n",
        "   - **`rf_search`**: The `RandomForestClassifier` with hyperparameter tuning using `HalvingGridSearchCV`.\n",
        "   - **`halving_search`**: The `SVM` classifier with hyperparameter tuning using `HalvingGridSearchCV`.\n",
        "\n",
        "3. **Key Parameters**:\n",
        "   - **`fit_base_estimators=False`**: Indicates that the individual classifiers have already been trained and only their predictions are combined.\n",
        "   - Each classifier was tuned and trained separately before being added to the ensemble.\n",
        "\n",
        "4. **Voting Process**:\n",
        "   - The final prediction is determined based on the majority vote of the three classifiers.\n",
        "   - This approach leverages the strengths of each model to handle diverse data patterns.\n",
        "\n",
        "5. **Training**:\n",
        "   - The ensemble classifier is trained on the training data (`X_train`, `y_train`) using the fitted base models.\n",
        "\n"
      ]
    },
    {
      "cell_type": "markdown",
      "metadata": {
        "id": "UvbVb1CPTKFu"
      },
      "source": [
        "#### **Result Explanation**\n",
        "\n",
        "1. **Improved Accuracy**:\n",
        "   - The ensemble model combines predictions from all classifiers, potentially yielding higher accuracy than any individual model.\n",
        "   - It mitigates the weaknesses of each model by leveraging their strengths.\n",
        "\n",
        "2. **Balanced Performance**:\n",
        "   - The ensemble classifier is likely to provide balanced precision, recall, and F1-scores across all classes due to the complementary nature of the classifiers.\n",
        "\n",
        "3. **Key Insights**:\n",
        "   - If one model underperforms in certain areas, the ensemble can compensate with stronger predictions from the other models.\n",
        "   - This approach is especially beneficial for complex datasets with diverse patterns.\n"
      ]
    },
    {
      "cell_type": "code",
      "execution_count": null,
      "metadata": {
        "id": "F4uVDVi4TKFu",
        "outputId": "a8909120-c4fc-401a-dcb8-ebcbf4b801a0"
      },
      "outputs": [
        {
          "name": "stdout",
          "output_type": "stream",
          "text": [
            "Voting Classifier Accuracy: 0.84\n",
            "Classification Report:\n",
            "               precision    recall  f1-score   support\n",
            "\n",
            "           0       0.84      0.84      0.84     67671\n",
            "           1       0.84      0.84      0.84     67788\n",
            "\n",
            "    accuracy                           0.84    135459\n",
            "   macro avg       0.84      0.84      0.84    135459\n",
            "weighted avg       0.84      0.84      0.84    135459\n",
            "\n",
            "Confusion Matrix:\n",
            " [[56816 10855]\n",
            " [11038 56750]]\n"
          ]
        }
      ],
      "source": [
        "y_pred = eclf.predict(X_test)\n",
        "\n",
        "accuracy = accuracy_score(y_test, y_pred)\n",
        "report = classification_report(y_test, y_pred)\n",
        "conf_matrix = confusion_matrix(y_test, y_pred)\n",
        "\n",
        "print(f\"Voting Classifier Accuracy: {accuracy:.2f}\")\n",
        "print(\"Classification Report:\\n\", report)\n",
        "print(\"Confusion Matrix:\\n\", conf_matrix)"
      ]
    },
    {
      "cell_type": "markdown",
      "metadata": {
        "id": "nDRbcBT1TKFu"
      },
      "source": [
        "1. **Prediction**:\n",
        "   - The ensemble `Voting Classifier` is used to predict the test data (`X_test`) with the `predict` method.\n",
        "   - Predictions (`y_pred`) are generated based on the majority vote of the three classifiers: `SGDClassifier`, `RandomForestClassifier`, and `SVM`.\n",
        "\n",
        "2. **Evaluation Metrics**:\n",
        "   - **Accuracy**: The overall accuracy of the model is calculated using `accuracy_score`, which measures the proportion of correct predictions.\n",
        "   - **Classification Report**:\n",
        "     - Provides detailed metrics, including:\n",
        "       - **Precision**: The proportion of true positive predictions among all positive predictions.\n",
        "       - **Recall**: The proportion of true positives among all actual positives.\n",
        "       - **F1-Score**: The harmonic mean of precision and recall.\n",
        "       - **Support**: The number of actual instances for each class.\n",
        "   - **Confusion Matrix**:\n",
        "     - Displays the counts of true positives, true negatives, false positives, and false negatives for each class.\n"
      ]
    },
    {
      "cell_type": "markdown",
      "metadata": {
        "id": "snPBwSa3TKFu"
      },
      "source": [
        "#### **Result Interpretation**\n",
        "1. **Accuracy**:\n",
        "   - The Voting Classifier achieves an accuracy of **0.84 (84%)**, which is consistent with the individual models' top performances (e.g., `SGDClassifier`).\n",
        "\n",
        "2. **Classification Report**:\n",
        "   - **Precision and Recall**:\n",
        "     - Class `0`: Precision = 0.84, Recall = 0.84, F1-Score = 0.84.\n",
        "     - Class `1`: Precision = 0.84, Recall = 0.84, F1-Score = 0.84.\n",
        "   - The model performs equally well across both classes, indicating balanced predictions.\n",
        "\n",
        "3. **Confusion Matrix**:\n",
        "   - **Class `0`**:\n",
        "     - True Negatives: `56,816` (correctly classified as `0`).\n",
        "     - False Positives: `10,809` (incorrectly classified as `1`).\n",
        "   - **Class `1`**:\n",
        "     - True Positives: `56,750` (correctly classified as `1`).\n",
        "     - False Negatives: `11,038` (incorrectly classified as `0`).\n",
        "\n",
        "4. **Key Insights**:\n",
        "   - The ensemble classifier combines the strengths of all models and achieves robust, consistent performance.\n",
        "   - The balanced precision and recall suggest that the classifier avoids bias toward any single class.\n"
      ]
    },
    {
      "cell_type": "markdown",
      "metadata": {
        "id": "wszPNZOATKFu"
      },
      "source": [
        "#### **Overall Comparison: SGD Classifier, RandomForestClassifier, SVM, and Voting Classifier**\n",
        "\n",
        "1. **Performance**\n",
        "\n",
        "The Voting Classifier demonstrates improved performance metrics compared to the individual models (SVM, Random Forest, and SGD). It matches the SGD Classifier in terms of accuracy, precision, recall, and F1-score, all achieving higher values compared to SVM and Random Forest.\n",
        "\n",
        "2. **Model Complexity**\n",
        "\n",
        "The Voting Classifier is inherently more complex as it combines predictions from multiple models. This ensemble approach aggregates the strengths of individual models, such as the interpretability of Random Forest and the efficiency of SGD, but requires more computational resources.\n",
        "\n",
        "3. **Interpretability**\n",
        "\n",
        "While individual models like Random Forest are interpretable, the Voting Classifier's aggregated decision-making process makes it less transparent. However, its interpretability can still be partially understood by analyzing the contribution of each model within the ensemble.\n",
        "\n",
        "4. **Generalization**\n",
        "\n",
        "The Voting Classifier leverages the strengths of all models, providing robust generalization. By combining multiple classifiers, it reduces the likelihood of overfitting or underfitting, making it a strong candidate for datasets with varied characteristics.\n",
        "\n",
        "5. **Use Case Suitability**\n",
        "\n",
        "The Voting Classifier is particularly suitable for scenarios where achieving the highest possible performance is critical, such as fraud detection or spam filtering. However, it requires sufficient computational resources and may not be the best choice when interpretability is paramount.\n"
      ]
    },
    {
      "cell_type": "markdown",
      "metadata": {
        "jp-MarkdownHeadingCollapsed": true,
        "id": "QkAqDHHNTKFu"
      },
      "source": [
        "## Confusion Matrix"
      ]
    },
    {
      "cell_type": "code",
      "execution_count": null,
      "metadata": {
        "id": "lmIr5i22TKFu",
        "outputId": "98b883fd-76f9-4773-8755-ae4c8a62fd11"
      },
      "outputs": [
        {
          "data": {
            "image/png": "[encoded data removed]",
            "text/plain": [
              "<Figure size 2000x500 with 4 Axes>"
            ]
          },
          "metadata": {},
          "output_type": "display_data"
        }
      ],
      "source": [
        "models = {\n",
        "    'Random Forest': rf_search,\n",
        "    'Halving Search (SVM)': halving_search,\n",
        "    'SGD': sgd_search,\n",
        "    'Voting Classifier': eclf\n",
        "}\n",
        "\n",
        "# Create subplots\n",
        "n_models = len(models)\n",
        "fig, axes = plt.subplots(1, n_models, figsize=(5 * n_models, 5), constrained_layout=True)\n",
        "\n",
        "for ax, (model_name, model) in zip(axes, models.items()):\n",
        "    # Confusion Matrix for each model\n",
        "    y_pred = model.predict(X_test)\n",
        "    cm = confusion_matrix(y_test, y_pred)\n",
        "    disp = ConfusionMatrixDisplay(confusion_matrix=cm, display_labels=model.classes_)\n",
        "    disp.plot(ax=ax, cmap=plt.cm.Blues, colorbar=False)\n",
        "    ax.set_title(f'Confusion Matrix [{model_name}]')\n",
        "\n",
        "plt.show()\n"
      ]
    },
    {
      "cell_type": "markdown",
      "metadata": {
        "id": "g07eGFALTKFu"
      },
      "source": [
        "1. **Model Dictionary**:\n",
        "   - A dictionary named `models` stores four classifiers:\n",
        "     - `Random Forest` (`rf_search`)\n",
        "     - `Halving Search (SVM)` (`halving_search`)\n",
        "     - `SGD` (`sgd_search`)\n",
        "     - `Voting Classifier` (`eclf`)\n",
        "\n",
        "2. **Subplots Creation**:\n",
        "   - Creates a subplot grid with one row and four columns to display the confusion matrices of all classifiers side by side.\n",
        "\n",
        "3. **Confusion Matrix Display**:\n",
        "   - For each model:\n",
        "     - Generates predictions (`y_pred`) using the test data (`X_test`).\n",
        "     - Computes the confusion matrix using `confusion_matrix`.\n",
        "     - Displays the confusion matrix using `ConfusionMatrixDisplay` with labels and a blue color map (`cmap=plt.cm.Blues`).\n",
        "     - Sets the title of each subplot to indicate the corresponding model.\n",
        "\n",
        "4. **Layout**:\n",
        "   - The layout is optimized for clarity using `constrained_layout=True`.\n"
      ]
    },
    {
      "cell_type": "markdown",
      "metadata": {
        "id": "fRPdiWLDTKFu"
      },
      "source": [
        "#### **Confusion Matrix Interpretation**\n",
        "\n",
        "The confusion matrices highlight the classification performance of the four models—Random Forest, SVM, SGD, and Voting Classifier. Here's the general interpretation:\n",
        "\n",
        "1. **Random Forest**:\n",
        "   - Balances well between true positives and true negatives.\n",
        "   - Slightly higher false negatives suggest it sometimes fails to predict positive cases accurately.\n",
        "\n",
        "2. **SVM (Halving Search)**:\n",
        "   - Performs well overall but shows a moderate trade-off between false positives and false negatives.\n",
        "   - This indicates a balanced but slightly less robust model compared to Random Forest.\n",
        "\n",
        "3. **SGD**:\n",
        "   - Achieves strong results, with a lower number of misclassifications.\n",
        "   - Handles imbalanced data relatively well, showcasing its effectiveness for text-based or sparse features.\n",
        "\n",
        "4. **Voting Classifier**:\n",
        "   - Combines predictions from all models, achieving a good balance between precision and recall.\n",
        "   - Slightly reduces errors compared to individual models, benefiting from ensemble learning.\n",
        "\n",
        "#### General Insights:\n",
        "- All models perform well with small differences in trade-offs between precision and recall.\n",
        "- Ensemble methods (Voting Classifier) tend to provide slightly more robust results by leveraging the strengths of individual models.\n"
      ]
    },
    {
      "cell_type": "markdown",
      "source": [
        "# **Road Blocks**"
      ],
      "metadata": {
        "id": "4t4LLxulplhB"
      }
    },
    {
      "cell_type": "markdown",
      "source": [
        "1. Limitation on TF-IDF Features Due to Computational Constraints\n",
        "We utilized TF-IDF (Term Frequency-Inverse Document Frequency) to vectorize text data. However, due to limited computational resources, we had to restrict the number of features extracted from the text. Ultimately, we selected 2000 features, which was a reasonable number for our model to train reliably. Using more features would have resulted in excessively long training times or memory overflow issues. This decision was a strategic trade-off to balance performance and efficiency.\n",
        "\n",
        "2. Challenges with Sentiment Analysis Using BERT\n",
        "We attempted sentiment analysis using the advanced NLP model BERT, but faced several challenges during the process.\n",
        "First, the training time exceeded 20 hours, making the analysis process extremely slow. Additionally, the dataset size grew significantly, reaching over 10GB, which caused system memory shortages and frequent kernel crashes. Loading the dataset itself became a bottleneck, rendering the model training process infeasible and preventing us from leveraging the full potential of BERT.\n",
        "\n",
        "Through these challenges, we learned the importance of selecting appropriate analytical methods and resource allocation strategies, considering both model complexity and dataset size."
      ],
      "metadata": {
        "id": "jv4qfKeG5MFo"
      }
    },
    {
      "cell_type": "markdown",
      "metadata": {
        "jp-MarkdownHeadingCollapsed": true,
        "id": "0pLM16vYTKFv"
      },
      "source": [
        "# **Conclusion**"
      ]
    },
    {
      "cell_type": "markdown",
      "metadata": {
        "id": "DrEwZCsCTKFv"
      },
      "source": [
        "This project successfully developed and evaluated multiple machine learning models to classify Amazon product reviews as spam or not spam. By leveraging feature engineering techniques and combining numerical, categorical, and textual data, the models demonstrated high accuracy and reliability. The Random Forest, SGD, and SVM classifiers provided valuable insights into feature importance, showing that sentiment-based features and user feedback metrics played significant roles in predictions. The ensemble Voting Classifier effectively combined the strengths of individual models, achieving a balanced performance and reducing misclassification rates. Overall, the results support the practical application of these models in enhancing the authenticity of online reviews and maintaining consumer trust.\n"
      ]
    },
    {
      "cell_type": "markdown",
      "source": [
        "# **Gen AI Declaration**"
      ],
      "metadata": {
        "id": "R71Amx6gEHzk"
      }
    },
    {
      "cell_type": "markdown",
      "source": [
        "We have used ChatGPT and Gemini for debugging and summarization purposes."
      ],
      "metadata": {
        "id": "ZgAu-ALPrwdk"
      }
    }
  ],
  "metadata": {
    "kernelspec": {
      "display_name": "Python 3 (ipykernel)",
      "language": "python",
      "name": "python3"
    },
    "language_info": {
      "codemirror_mode": {
        "name": "ipython",
        "version": 3
      },
      "file_extension": ".py",
      "mimetype": "text/x-python",
      "name": "python",
      "nbconvert_exporter": "python",
      "pygments_lexer": "ipython3",
      "version": "3.12.4"
    },
    "colab": {
      "provenance": [],
      "collapsed_sections": [
        "B-dx5efyTKFi",
        "spVZSFPfTKFm",
        "6Mg7admjTKFm",
        "3bUa6Bv8TKFn",
        "xzEG_NUETKFo",
        "Nx0BvwW0TKFp",
        "rdwHRKWGTKFp",
        "rHVj9wHETKFp",
        "fo-NTDJITKFq",
        "PbtNilQ4TKFr",
        "rkXUZEZgTKFr",
        "K3b8lCeRTKFs",
        "GBZ5GfRZTKFt",
        "LHKxA6aSTKFt",
        "yz69ljr2TKFt",
        "QkAqDHHNTKFu",
        "4t4LLxulplhB",
        "0pLM16vYTKFv",
        "R71Amx6gEHzk"
      ]
    }
  },
  "nbformat": 4,
  "nbformat_minor": 0
}